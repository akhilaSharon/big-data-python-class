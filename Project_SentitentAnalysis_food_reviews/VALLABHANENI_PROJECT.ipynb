{
 "cells": [
  {
   "cell_type": "markdown",
   "metadata": {},
   "source": [
    "# Big Data Project \n",
    "\n",
    "# Improving Restaurant performance by performing Sentiment classification on online food reviews\n",
    "\n",
    "## Abstract\n",
    "\n",
    "Online food reviews are an important asset for users as well as for the restaurants serving the food. Most of the online reviews are in a free text format, which is difficult for the computer systems to analyze. In this project we will take the raw data from different social media websites, clean it to get the data with which we can work on and perform sentiment classification on the data using some famous classification algorithms to improve the quality of food from certain restaurants which has bad reviews and increase the overall performance of the restaurant. This project can further be expanded to predict what kind of food from a restaurant is likely to be ordered and if it is a healthy consumption.\n",
    "\n",
    "\n",
    "## Related domain of study\n",
    "This project aims to improve the business performance of restaurants and fast foods by detecting what kind of food item on their menu brings their ratings down. This can be achieved by using Naïve Bayes algorithm.\n",
    "\n",
    "## Data sources\n",
    "\n",
    "I will be using data from yelp.com\n",
    "\n",
    "- •\thttps://www.yelp.com/dataset/download\n",
    "- •\thttps://www.kaggle.com/yelp-dataset/yelp-dataset#yelp_academic_dataset_review.json\n",
    "\n"
   ]
  },
  {
   "cell_type": "markdown",
   "metadata": {},
   "source": [
    "## Gathering data\n",
    "\n",
    "I wanted to work with the csv version of the files provided by yelp, and found them on kaggle.\n",
    "Luckily, i found one at https://www.kaggle.com/z5025122/yelp-csv.\n",
    "\n",
    "I downloaded the <b>reviews</b> file which contains the business_id, review, ratings and other columns along with the <b>business</b> file which had the corresponding restaurant names, addresses of the business_id in reviews file.\n",
    "\n",
    "The review file was very huge to process, so i decided to use only some part of the data instead the whole file and worked on the first 20,000 rows."
   ]
  },
  {
   "cell_type": "code",
   "execution_count": 11,
   "metadata": {},
   "outputs": [
    {
     "data": {
      "text/html": [
       "<div>\n",
       "<style scoped>\n",
       "    .dataframe tbody tr th:only-of-type {\n",
       "        vertical-align: middle;\n",
       "    }\n",
       "\n",
       "    .dataframe tbody tr th {\n",
       "        vertical-align: top;\n",
       "    }\n",
       "\n",
       "    .dataframe thead th {\n",
       "        text-align: right;\n",
       "    }\n",
       "</style>\n",
       "<table border=\"1\" class=\"dataframe\">\n",
       "  <thead>\n",
       "    <tr style=\"text-align: right;\">\n",
       "      <th></th>\n",
       "      <th>review_id</th>\n",
       "      <th>user_id</th>\n",
       "      <th>business_id</th>\n",
       "      <th>stars</th>\n",
       "      <th>date</th>\n",
       "      <th>text</th>\n",
       "      <th>useful</th>\n",
       "      <th>funny</th>\n",
       "      <th>cool</th>\n",
       "    </tr>\n",
       "  </thead>\n",
       "  <tbody>\n",
       "    <tr>\n",
       "      <th>0</th>\n",
       "      <td>vkVSCC7xljjrAI4UGfnKEQ</td>\n",
       "      <td>bv2nCi5Qv5vroFiqKGopiw</td>\n",
       "      <td>AEx2SYEUJmTxVVB18LlCwA</td>\n",
       "      <td>5</td>\n",
       "      <td>2016-05-28</td>\n",
       "      <td>Super simple place but amazing nonetheless. It...</td>\n",
       "      <td>0</td>\n",
       "      <td>0</td>\n",
       "      <td>0</td>\n",
       "    </tr>\n",
       "    <tr>\n",
       "      <th>1</th>\n",
       "      <td>n6QzIUObkYshz4dz2QRJTw</td>\n",
       "      <td>bv2nCi5Qv5vroFiqKGopiw</td>\n",
       "      <td>VR6GpWIda3SfvPC-lg9H3w</td>\n",
       "      <td>5</td>\n",
       "      <td>2016-05-28</td>\n",
       "      <td>Small unassuming place that changes their menu...</td>\n",
       "      <td>0</td>\n",
       "      <td>0</td>\n",
       "      <td>0</td>\n",
       "    </tr>\n",
       "    <tr>\n",
       "      <th>2</th>\n",
       "      <td>MV3CcKScW05u5LVfF6ok0g</td>\n",
       "      <td>bv2nCi5Qv5vroFiqKGopiw</td>\n",
       "      <td>CKC0-MOWMqoeWf6s-szl8g</td>\n",
       "      <td>5</td>\n",
       "      <td>2016-05-28</td>\n",
       "      <td>Lester's is located in a beautiful neighborhoo...</td>\n",
       "      <td>0</td>\n",
       "      <td>0</td>\n",
       "      <td>0</td>\n",
       "    </tr>\n",
       "    <tr>\n",
       "      <th>3</th>\n",
       "      <td>IXvOzsEMYtiJI0CARmj77Q</td>\n",
       "      <td>bv2nCi5Qv5vroFiqKGopiw</td>\n",
       "      <td>ACFtxLv8pGrrxMm6EgjreA</td>\n",
       "      <td>4</td>\n",
       "      <td>2016-05-28</td>\n",
       "      <td>Love coming here. Yes the place always needs t...</td>\n",
       "      <td>0</td>\n",
       "      <td>0</td>\n",
       "      <td>0</td>\n",
       "    </tr>\n",
       "    <tr>\n",
       "      <th>4</th>\n",
       "      <td>L_9BTb55X0GDtThi6GlZ6w</td>\n",
       "      <td>bv2nCi5Qv5vroFiqKGopiw</td>\n",
       "      <td>s2I_Ni76bjJNK9yG60iD-Q</td>\n",
       "      <td>4</td>\n",
       "      <td>2016-05-28</td>\n",
       "      <td>Had their chocolate almond croissant and it wa...</td>\n",
       "      <td>0</td>\n",
       "      <td>0</td>\n",
       "      <td>0</td>\n",
       "    </tr>\n",
       "  </tbody>\n",
       "</table>\n",
       "</div>"
      ],
      "text/plain": [
       "                review_id                 user_id             business_id  \\\n",
       "0  vkVSCC7xljjrAI4UGfnKEQ  bv2nCi5Qv5vroFiqKGopiw  AEx2SYEUJmTxVVB18LlCwA   \n",
       "1  n6QzIUObkYshz4dz2QRJTw  bv2nCi5Qv5vroFiqKGopiw  VR6GpWIda3SfvPC-lg9H3w   \n",
       "2  MV3CcKScW05u5LVfF6ok0g  bv2nCi5Qv5vroFiqKGopiw  CKC0-MOWMqoeWf6s-szl8g   \n",
       "3  IXvOzsEMYtiJI0CARmj77Q  bv2nCi5Qv5vroFiqKGopiw  ACFtxLv8pGrrxMm6EgjreA   \n",
       "4  L_9BTb55X0GDtThi6GlZ6w  bv2nCi5Qv5vroFiqKGopiw  s2I_Ni76bjJNK9yG60iD-Q   \n",
       "\n",
       "   stars        date                                               text  \\\n",
       "0      5  2016-05-28  Super simple place but amazing nonetheless. It...   \n",
       "1      5  2016-05-28  Small unassuming place that changes their menu...   \n",
       "2      5  2016-05-28  Lester's is located in a beautiful neighborhoo...   \n",
       "3      4  2016-05-28  Love coming here. Yes the place always needs t...   \n",
       "4      4  2016-05-28  Had their chocolate almond croissant and it wa...   \n",
       "\n",
       "   useful  funny  cool  \n",
       "0       0      0     0  \n",
       "1       0      0     0  \n",
       "2       0      0     0  \n",
       "3       0      0     0  \n",
       "4       0      0     0  "
      ]
     },
     "execution_count": 11,
     "metadata": {},
     "output_type": "execute_result"
    }
   ],
   "source": [
    "import pandas as pd\n",
    "raw_review = pd.read_csv(\".\\data\\yelp_review.csv\", nrows=15000)\n",
    "raw_review.head()"
   ]
  },
  {
   "cell_type": "code",
   "execution_count": 12,
   "metadata": {},
   "outputs": [],
   "source": [
    "raw_review.to_csv(r'.\\data\\sampletextfile.csv')"
   ]
  },
  {
   "cell_type": "markdown",
   "metadata": {},
   "source": [
    "Reducing the data by removing columns which are not needed."
   ]
  },
  {
   "cell_type": "code",
   "execution_count": 14,
   "metadata": {},
   "outputs": [],
   "source": [
    "#loading the data\n",
    "reviews= pd.read_csv(\".\\data\\sampletextfile.csv\")\n",
    "business = pd.read_csv(\".\\data\\yelp_business.csv\")"
   ]
  },
  {
   "cell_type": "markdown",
   "metadata": {},
   "source": [
    "preview the data"
   ]
  },
  {
   "cell_type": "code",
   "execution_count": 16,
   "metadata": {},
   "outputs": [
    {
     "data": {
      "text/html": [
       "<div>\n",
       "<style scoped>\n",
       "    .dataframe tbody tr th:only-of-type {\n",
       "        vertical-align: middle;\n",
       "    }\n",
       "\n",
       "    .dataframe tbody tr th {\n",
       "        vertical-align: top;\n",
       "    }\n",
       "\n",
       "    .dataframe thead th {\n",
       "        text-align: right;\n",
       "    }\n",
       "</style>\n",
       "<table border=\"1\" class=\"dataframe\">\n",
       "  <thead>\n",
       "    <tr style=\"text-align: right;\">\n",
       "      <th></th>\n",
       "      <th>Unnamed: 0</th>\n",
       "      <th>review_id</th>\n",
       "      <th>user_id</th>\n",
       "      <th>business_id</th>\n",
       "      <th>stars</th>\n",
       "      <th>date</th>\n",
       "      <th>text</th>\n",
       "      <th>useful</th>\n",
       "      <th>funny</th>\n",
       "      <th>cool</th>\n",
       "    </tr>\n",
       "  </thead>\n",
       "  <tbody>\n",
       "    <tr>\n",
       "      <th>0</th>\n",
       "      <td>0</td>\n",
       "      <td>vkVSCC7xljjrAI4UGfnKEQ</td>\n",
       "      <td>bv2nCi5Qv5vroFiqKGopiw</td>\n",
       "      <td>AEx2SYEUJmTxVVB18LlCwA</td>\n",
       "      <td>5</td>\n",
       "      <td>2016-05-28</td>\n",
       "      <td>Super simple place but amazing nonetheless. It...</td>\n",
       "      <td>0</td>\n",
       "      <td>0</td>\n",
       "      <td>0</td>\n",
       "    </tr>\n",
       "    <tr>\n",
       "      <th>1</th>\n",
       "      <td>1</td>\n",
       "      <td>n6QzIUObkYshz4dz2QRJTw</td>\n",
       "      <td>bv2nCi5Qv5vroFiqKGopiw</td>\n",
       "      <td>VR6GpWIda3SfvPC-lg9H3w</td>\n",
       "      <td>5</td>\n",
       "      <td>2016-05-28</td>\n",
       "      <td>Small unassuming place that changes their menu...</td>\n",
       "      <td>0</td>\n",
       "      <td>0</td>\n",
       "      <td>0</td>\n",
       "    </tr>\n",
       "    <tr>\n",
       "      <th>2</th>\n",
       "      <td>2</td>\n",
       "      <td>MV3CcKScW05u5LVfF6ok0g</td>\n",
       "      <td>bv2nCi5Qv5vroFiqKGopiw</td>\n",
       "      <td>CKC0-MOWMqoeWf6s-szl8g</td>\n",
       "      <td>5</td>\n",
       "      <td>2016-05-28</td>\n",
       "      <td>Lester's is located in a beautiful neighborhoo...</td>\n",
       "      <td>0</td>\n",
       "      <td>0</td>\n",
       "      <td>0</td>\n",
       "    </tr>\n",
       "    <tr>\n",
       "      <th>3</th>\n",
       "      <td>3</td>\n",
       "      <td>IXvOzsEMYtiJI0CARmj77Q</td>\n",
       "      <td>bv2nCi5Qv5vroFiqKGopiw</td>\n",
       "      <td>ACFtxLv8pGrrxMm6EgjreA</td>\n",
       "      <td>4</td>\n",
       "      <td>2016-05-28</td>\n",
       "      <td>Love coming here. Yes the place always needs t...</td>\n",
       "      <td>0</td>\n",
       "      <td>0</td>\n",
       "      <td>0</td>\n",
       "    </tr>\n",
       "    <tr>\n",
       "      <th>4</th>\n",
       "      <td>4</td>\n",
       "      <td>L_9BTb55X0GDtThi6GlZ6w</td>\n",
       "      <td>bv2nCi5Qv5vroFiqKGopiw</td>\n",
       "      <td>s2I_Ni76bjJNK9yG60iD-Q</td>\n",
       "      <td>4</td>\n",
       "      <td>2016-05-28</td>\n",
       "      <td>Had their chocolate almond croissant and it wa...</td>\n",
       "      <td>0</td>\n",
       "      <td>0</td>\n",
       "      <td>0</td>\n",
       "    </tr>\n",
       "  </tbody>\n",
       "</table>\n",
       "</div>"
      ],
      "text/plain": [
       "   Unnamed: 0               review_id                 user_id  \\\n",
       "0           0  vkVSCC7xljjrAI4UGfnKEQ  bv2nCi5Qv5vroFiqKGopiw   \n",
       "1           1  n6QzIUObkYshz4dz2QRJTw  bv2nCi5Qv5vroFiqKGopiw   \n",
       "2           2  MV3CcKScW05u5LVfF6ok0g  bv2nCi5Qv5vroFiqKGopiw   \n",
       "3           3  IXvOzsEMYtiJI0CARmj77Q  bv2nCi5Qv5vroFiqKGopiw   \n",
       "4           4  L_9BTb55X0GDtThi6GlZ6w  bv2nCi5Qv5vroFiqKGopiw   \n",
       "\n",
       "              business_id  stars        date  \\\n",
       "0  AEx2SYEUJmTxVVB18LlCwA      5  2016-05-28   \n",
       "1  VR6GpWIda3SfvPC-lg9H3w      5  2016-05-28   \n",
       "2  CKC0-MOWMqoeWf6s-szl8g      5  2016-05-28   \n",
       "3  ACFtxLv8pGrrxMm6EgjreA      4  2016-05-28   \n",
       "4  s2I_Ni76bjJNK9yG60iD-Q      4  2016-05-28   \n",
       "\n",
       "                                                text  useful  funny  cool  \n",
       "0  Super simple place but amazing nonetheless. It...       0      0     0  \n",
       "1  Small unassuming place that changes their menu...       0      0     0  \n",
       "2  Lester's is located in a beautiful neighborhoo...       0      0     0  \n",
       "3  Love coming here. Yes the place always needs t...       0      0     0  \n",
       "4  Had their chocolate almond croissant and it wa...       0      0     0  "
      ]
     },
     "execution_count": 16,
     "metadata": {},
     "output_type": "execute_result"
    }
   ],
   "source": [
    "reviews.head()"
   ]
  },
  {
   "cell_type": "code",
   "execution_count": 17,
   "metadata": {},
   "outputs": [
    {
     "data": {
      "text/html": [
       "<div>\n",
       "<style scoped>\n",
       "    .dataframe tbody tr th:only-of-type {\n",
       "        vertical-align: middle;\n",
       "    }\n",
       "\n",
       "    .dataframe tbody tr th {\n",
       "        vertical-align: top;\n",
       "    }\n",
       "\n",
       "    .dataframe thead th {\n",
       "        text-align: right;\n",
       "    }\n",
       "</style>\n",
       "<table border=\"1\" class=\"dataframe\">\n",
       "  <thead>\n",
       "    <tr style=\"text-align: right;\">\n",
       "      <th></th>\n",
       "      <th>business_id</th>\n",
       "      <th>name</th>\n",
       "      <th>neighborhood</th>\n",
       "      <th>address</th>\n",
       "      <th>city</th>\n",
       "      <th>state</th>\n",
       "      <th>postal_code</th>\n",
       "      <th>latitude</th>\n",
       "      <th>longitude</th>\n",
       "      <th>stars</th>\n",
       "      <th>review_count</th>\n",
       "      <th>is_open</th>\n",
       "      <th>categories</th>\n",
       "    </tr>\n",
       "  </thead>\n",
       "  <tbody>\n",
       "    <tr>\n",
       "      <th>0</th>\n",
       "      <td>FYWN1wneV18bWNgQjJ2GNg</td>\n",
       "      <td>\"Dental by Design\"</td>\n",
       "      <td>NaN</td>\n",
       "      <td>\"4855 E Warner Rd, Ste B9\"</td>\n",
       "      <td>Ahwatukee</td>\n",
       "      <td>AZ</td>\n",
       "      <td>85044</td>\n",
       "      <td>33.330690</td>\n",
       "      <td>-111.978599</td>\n",
       "      <td>4.0</td>\n",
       "      <td>22</td>\n",
       "      <td>1</td>\n",
       "      <td>Dentists;General Dentistry;Health &amp; Medical;Or...</td>\n",
       "    </tr>\n",
       "    <tr>\n",
       "      <th>1</th>\n",
       "      <td>He-G7vWjzVUysIKrfNbPUQ</td>\n",
       "      <td>\"Stephen Szabo Salon\"</td>\n",
       "      <td>NaN</td>\n",
       "      <td>\"3101 Washington Rd\"</td>\n",
       "      <td>McMurray</td>\n",
       "      <td>PA</td>\n",
       "      <td>15317</td>\n",
       "      <td>40.291685</td>\n",
       "      <td>-80.104900</td>\n",
       "      <td>3.0</td>\n",
       "      <td>11</td>\n",
       "      <td>1</td>\n",
       "      <td>Hair Stylists;Hair Salons;Men's Hair Salons;Bl...</td>\n",
       "    </tr>\n",
       "    <tr>\n",
       "      <th>2</th>\n",
       "      <td>KQPW8lFf1y5BT2MxiSZ3QA</td>\n",
       "      <td>\"Western Motor Vehicle\"</td>\n",
       "      <td>NaN</td>\n",
       "      <td>\"6025 N 27th Ave, Ste 1\"</td>\n",
       "      <td>Phoenix</td>\n",
       "      <td>AZ</td>\n",
       "      <td>85017</td>\n",
       "      <td>33.524903</td>\n",
       "      <td>-112.115310</td>\n",
       "      <td>1.5</td>\n",
       "      <td>18</td>\n",
       "      <td>1</td>\n",
       "      <td>Departments of Motor Vehicles;Public Services ...</td>\n",
       "    </tr>\n",
       "    <tr>\n",
       "      <th>3</th>\n",
       "      <td>8DShNS-LuFqpEWIp0HxijA</td>\n",
       "      <td>\"Sports Authority\"</td>\n",
       "      <td>NaN</td>\n",
       "      <td>\"5000 Arizona Mills Cr, Ste 435\"</td>\n",
       "      <td>Tempe</td>\n",
       "      <td>AZ</td>\n",
       "      <td>85282</td>\n",
       "      <td>33.383147</td>\n",
       "      <td>-111.964725</td>\n",
       "      <td>3.0</td>\n",
       "      <td>9</td>\n",
       "      <td>0</td>\n",
       "      <td>Sporting Goods;Shopping</td>\n",
       "    </tr>\n",
       "    <tr>\n",
       "      <th>4</th>\n",
       "      <td>PfOCPjBrlQAnz__NXj9h_w</td>\n",
       "      <td>\"Brick House Tavern + Tap\"</td>\n",
       "      <td>NaN</td>\n",
       "      <td>\"581 Howe Ave\"</td>\n",
       "      <td>Cuyahoga Falls</td>\n",
       "      <td>OH</td>\n",
       "      <td>44221</td>\n",
       "      <td>41.119535</td>\n",
       "      <td>-81.475690</td>\n",
       "      <td>3.5</td>\n",
       "      <td>116</td>\n",
       "      <td>1</td>\n",
       "      <td>American (New);Nightlife;Bars;Sandwiches;Ameri...</td>\n",
       "    </tr>\n",
       "  </tbody>\n",
       "</table>\n",
       "</div>"
      ],
      "text/plain": [
       "              business_id                        name neighborhood  \\\n",
       "0  FYWN1wneV18bWNgQjJ2GNg          \"Dental by Design\"          NaN   \n",
       "1  He-G7vWjzVUysIKrfNbPUQ       \"Stephen Szabo Salon\"          NaN   \n",
       "2  KQPW8lFf1y5BT2MxiSZ3QA     \"Western Motor Vehicle\"          NaN   \n",
       "3  8DShNS-LuFqpEWIp0HxijA          \"Sports Authority\"          NaN   \n",
       "4  PfOCPjBrlQAnz__NXj9h_w  \"Brick House Tavern + Tap\"          NaN   \n",
       "\n",
       "                            address            city state postal_code  \\\n",
       "0        \"4855 E Warner Rd, Ste B9\"       Ahwatukee    AZ       85044   \n",
       "1              \"3101 Washington Rd\"        McMurray    PA       15317   \n",
       "2          \"6025 N 27th Ave, Ste 1\"         Phoenix    AZ       85017   \n",
       "3  \"5000 Arizona Mills Cr, Ste 435\"           Tempe    AZ       85282   \n",
       "4                    \"581 Howe Ave\"  Cuyahoga Falls    OH       44221   \n",
       "\n",
       "    latitude   longitude  stars  review_count  is_open  \\\n",
       "0  33.330690 -111.978599    4.0            22        1   \n",
       "1  40.291685  -80.104900    3.0            11        1   \n",
       "2  33.524903 -112.115310    1.5            18        1   \n",
       "3  33.383147 -111.964725    3.0             9        0   \n",
       "4  41.119535  -81.475690    3.5           116        1   \n",
       "\n",
       "                                          categories  \n",
       "0  Dentists;General Dentistry;Health & Medical;Or...  \n",
       "1  Hair Stylists;Hair Salons;Men's Hair Salons;Bl...  \n",
       "2  Departments of Motor Vehicles;Public Services ...  \n",
       "3                            Sporting Goods;Shopping  \n",
       "4  American (New);Nightlife;Bars;Sandwiches;Ameri...  "
      ]
     },
     "execution_count": 17,
     "metadata": {},
     "output_type": "execute_result"
    }
   ],
   "source": [
    "business.head()"
   ]
  },
  {
   "cell_type": "markdown",
   "metadata": {},
   "source": [
    "Merge the two files(reviews dataframe and business dataframe) for easy use."
   ]
  },
  {
   "cell_type": "code",
   "execution_count": 18,
   "metadata": {},
   "outputs": [],
   "source": [
    "result = pd.merge(reviews,business, how='left', on=['business_id'])"
   ]
  },
  {
   "cell_type": "code",
   "execution_count": 19,
   "metadata": {},
   "outputs": [
    {
     "data": {
      "text/html": [
       "<div>\n",
       "<style scoped>\n",
       "    .dataframe tbody tr th:only-of-type {\n",
       "        vertical-align: middle;\n",
       "    }\n",
       "\n",
       "    .dataframe tbody tr th {\n",
       "        vertical-align: top;\n",
       "    }\n",
       "\n",
       "    .dataframe thead th {\n",
       "        text-align: right;\n",
       "    }\n",
       "</style>\n",
       "<table border=\"1\" class=\"dataframe\">\n",
       "  <thead>\n",
       "    <tr style=\"text-align: right;\">\n",
       "      <th></th>\n",
       "      <th>Unnamed: 0</th>\n",
       "      <th>review_id</th>\n",
       "      <th>user_id</th>\n",
       "      <th>business_id</th>\n",
       "      <th>stars_x</th>\n",
       "      <th>date</th>\n",
       "      <th>text</th>\n",
       "      <th>useful</th>\n",
       "      <th>funny</th>\n",
       "      <th>cool</th>\n",
       "      <th>...</th>\n",
       "      <th>address</th>\n",
       "      <th>city</th>\n",
       "      <th>state</th>\n",
       "      <th>postal_code</th>\n",
       "      <th>latitude</th>\n",
       "      <th>longitude</th>\n",
       "      <th>stars_y</th>\n",
       "      <th>review_count</th>\n",
       "      <th>is_open</th>\n",
       "      <th>categories</th>\n",
       "    </tr>\n",
       "  </thead>\n",
       "  <tbody>\n",
       "    <tr>\n",
       "      <th>0</th>\n",
       "      <td>0</td>\n",
       "      <td>vkVSCC7xljjrAI4UGfnKEQ</td>\n",
       "      <td>bv2nCi5Qv5vroFiqKGopiw</td>\n",
       "      <td>AEx2SYEUJmTxVVB18LlCwA</td>\n",
       "      <td>5</td>\n",
       "      <td>2016-05-28</td>\n",
       "      <td>Super simple place but amazing nonetheless. It...</td>\n",
       "      <td>0</td>\n",
       "      <td>0</td>\n",
       "      <td>0</td>\n",
       "      <td>...</td>\n",
       "      <td>\"34 Avenue Fairmount Ouest\"</td>\n",
       "      <td>Montréal</td>\n",
       "      <td>QC</td>\n",
       "      <td>H2T 2M1</td>\n",
       "      <td>45.523333</td>\n",
       "      <td>-73.594859</td>\n",
       "      <td>4.0</td>\n",
       "      <td>84</td>\n",
       "      <td>1</td>\n",
       "      <td>Diners;Food;Restaurants;Delis</td>\n",
       "    </tr>\n",
       "    <tr>\n",
       "      <th>1</th>\n",
       "      <td>1</td>\n",
       "      <td>n6QzIUObkYshz4dz2QRJTw</td>\n",
       "      <td>bv2nCi5Qv5vroFiqKGopiw</td>\n",
       "      <td>VR6GpWIda3SfvPC-lg9H3w</td>\n",
       "      <td>5</td>\n",
       "      <td>2016-05-28</td>\n",
       "      <td>Small unassuming place that changes their menu...</td>\n",
       "      <td>0</td>\n",
       "      <td>0</td>\n",
       "      <td>0</td>\n",
       "      <td>...</td>\n",
       "      <td>\"4662 Rue Notre-Dame O\"</td>\n",
       "      <td>Montréal</td>\n",
       "      <td>QC</td>\n",
       "      <td>H4C 1S7</td>\n",
       "      <td>45.472902</td>\n",
       "      <td>-73.588321</td>\n",
       "      <td>4.5</td>\n",
       "      <td>50</td>\n",
       "      <td>1</td>\n",
       "      <td>Restaurants;Canadian (New);Italian</td>\n",
       "    </tr>\n",
       "    <tr>\n",
       "      <th>2</th>\n",
       "      <td>2</td>\n",
       "      <td>MV3CcKScW05u5LVfF6ok0g</td>\n",
       "      <td>bv2nCi5Qv5vroFiqKGopiw</td>\n",
       "      <td>CKC0-MOWMqoeWf6s-szl8g</td>\n",
       "      <td>5</td>\n",
       "      <td>2016-05-28</td>\n",
       "      <td>Lester's is located in a beautiful neighborhoo...</td>\n",
       "      <td>0</td>\n",
       "      <td>0</td>\n",
       "      <td>0</td>\n",
       "      <td>...</td>\n",
       "      <td>\"1057 Avenue Bernard\"</td>\n",
       "      <td>Outremont</td>\n",
       "      <td>QC</td>\n",
       "      <td>H2V 1V1</td>\n",
       "      <td>45.522144</td>\n",
       "      <td>-73.607076</td>\n",
       "      <td>4.0</td>\n",
       "      <td>70</td>\n",
       "      <td>1</td>\n",
       "      <td>Specialty Food;Food;Sandwiches;Restaurants;Bur...</td>\n",
       "    </tr>\n",
       "    <tr>\n",
       "      <th>3</th>\n",
       "      <td>3</td>\n",
       "      <td>IXvOzsEMYtiJI0CARmj77Q</td>\n",
       "      <td>bv2nCi5Qv5vroFiqKGopiw</td>\n",
       "      <td>ACFtxLv8pGrrxMm6EgjreA</td>\n",
       "      <td>4</td>\n",
       "      <td>2016-05-28</td>\n",
       "      <td>Love coming here. Yes the place always needs t...</td>\n",
       "      <td>0</td>\n",
       "      <td>0</td>\n",
       "      <td>0</td>\n",
       "      <td>...</td>\n",
       "      <td>\"698 Rue Sainte-Catherine O\"</td>\n",
       "      <td>Montréal</td>\n",
       "      <td>QC</td>\n",
       "      <td>H3B 1B9</td>\n",
       "      <td>45.502510</td>\n",
       "      <td>-73.570119</td>\n",
       "      <td>3.5</td>\n",
       "      <td>61</td>\n",
       "      <td>1</td>\n",
       "      <td>Fast Food;Restaurants;Burgers</td>\n",
       "    </tr>\n",
       "    <tr>\n",
       "      <th>4</th>\n",
       "      <td>4</td>\n",
       "      <td>L_9BTb55X0GDtThi6GlZ6w</td>\n",
       "      <td>bv2nCi5Qv5vroFiqKGopiw</td>\n",
       "      <td>s2I_Ni76bjJNK9yG60iD-Q</td>\n",
       "      <td>4</td>\n",
       "      <td>2016-05-28</td>\n",
       "      <td>Had their chocolate almond croissant and it wa...</td>\n",
       "      <td>0</td>\n",
       "      <td>0</td>\n",
       "      <td>0</td>\n",
       "      <td>...</td>\n",
       "      <td>\"355 Place Royale\"</td>\n",
       "      <td>Montréal</td>\n",
       "      <td>QC</td>\n",
       "      <td>H2Y 1Z6</td>\n",
       "      <td>45.503544</td>\n",
       "      <td>-73.554469</td>\n",
       "      <td>4.5</td>\n",
       "      <td>397</td>\n",
       "      <td>1</td>\n",
       "      <td>Bakeries;Restaurants;Food;Sandwiches;Cafes;Cof...</td>\n",
       "    </tr>\n",
       "  </tbody>\n",
       "</table>\n",
       "<p>5 rows × 22 columns</p>\n",
       "</div>"
      ],
      "text/plain": [
       "   Unnamed: 0               review_id                 user_id  \\\n",
       "0           0  vkVSCC7xljjrAI4UGfnKEQ  bv2nCi5Qv5vroFiqKGopiw   \n",
       "1           1  n6QzIUObkYshz4dz2QRJTw  bv2nCi5Qv5vroFiqKGopiw   \n",
       "2           2  MV3CcKScW05u5LVfF6ok0g  bv2nCi5Qv5vroFiqKGopiw   \n",
       "3           3  IXvOzsEMYtiJI0CARmj77Q  bv2nCi5Qv5vroFiqKGopiw   \n",
       "4           4  L_9BTb55X0GDtThi6GlZ6w  bv2nCi5Qv5vroFiqKGopiw   \n",
       "\n",
       "              business_id  stars_x        date  \\\n",
       "0  AEx2SYEUJmTxVVB18LlCwA        5  2016-05-28   \n",
       "1  VR6GpWIda3SfvPC-lg9H3w        5  2016-05-28   \n",
       "2  CKC0-MOWMqoeWf6s-szl8g        5  2016-05-28   \n",
       "3  ACFtxLv8pGrrxMm6EgjreA        4  2016-05-28   \n",
       "4  s2I_Ni76bjJNK9yG60iD-Q        4  2016-05-28   \n",
       "\n",
       "                                                text  useful  funny  cool  \\\n",
       "0  Super simple place but amazing nonetheless. It...       0      0     0   \n",
       "1  Small unassuming place that changes their menu...       0      0     0   \n",
       "2  Lester's is located in a beautiful neighborhoo...       0      0     0   \n",
       "3  Love coming here. Yes the place always needs t...       0      0     0   \n",
       "4  Had their chocolate almond croissant and it wa...       0      0     0   \n",
       "\n",
       "                         ...                          \\\n",
       "0                        ...                           \n",
       "1                        ...                           \n",
       "2                        ...                           \n",
       "3                        ...                           \n",
       "4                        ...                           \n",
       "\n",
       "                        address       city state postal_code   latitude  \\\n",
       "0   \"34 Avenue Fairmount Ouest\"   Montréal    QC     H2T 2M1  45.523333   \n",
       "1       \"4662 Rue Notre-Dame O\"   Montréal    QC     H4C 1S7  45.472902   \n",
       "2         \"1057 Avenue Bernard\"  Outremont    QC     H2V 1V1  45.522144   \n",
       "3  \"698 Rue Sainte-Catherine O\"   Montréal    QC     H3B 1B9  45.502510   \n",
       "4            \"355 Place Royale\"   Montréal    QC     H2Y 1Z6  45.503544   \n",
       "\n",
       "   longitude  stars_y  review_count  is_open  \\\n",
       "0 -73.594859      4.0            84        1   \n",
       "1 -73.588321      4.5            50        1   \n",
       "2 -73.607076      4.0            70        1   \n",
       "3 -73.570119      3.5            61        1   \n",
       "4 -73.554469      4.5           397        1   \n",
       "\n",
       "                                          categories  \n",
       "0                      Diners;Food;Restaurants;Delis  \n",
       "1                 Restaurants;Canadian (New);Italian  \n",
       "2  Specialty Food;Food;Sandwiches;Restaurants;Bur...  \n",
       "3                      Fast Food;Restaurants;Burgers  \n",
       "4  Bakeries;Restaurants;Food;Sandwiches;Cafes;Cof...  \n",
       "\n",
       "[5 rows x 22 columns]"
      ]
     },
     "execution_count": 19,
     "metadata": {},
     "output_type": "execute_result"
    }
   ],
   "source": [
    "result.head()"
   ]
  },
  {
   "cell_type": "markdown",
   "metadata": {},
   "source": [
    "Testing the result dataframe"
   ]
  },
  {
   "cell_type": "code",
   "execution_count": 20,
   "metadata": {},
   "outputs": [
    {
     "data": {
      "text/plain": [
       "0       Super simple place but amazing nonetheless. It...\n",
       "6221    *The shop was featured on Mind of a Chef with ...\n",
       "Name: text, dtype: object"
      ]
     },
     "execution_count": 20,
     "metadata": {},
     "output_type": "execute_result"
    }
   ],
   "source": [
    "# return review of a restaurant whose business id is AE..A\n",
    "result['text'].loc[result['business_id'] == 'AEx2SYEUJmTxVVB18LlCwA' ]\n"
   ]
  },
  {
   "cell_type": "markdown",
   "metadata": {},
   "source": [
    "To keep this interesting, lets do some visualising on the existing data."
   ]
  },
  {
   "cell_type": "code",
   "execution_count": 21,
   "metadata": {},
   "outputs": [],
   "source": [
    "import pandas as pd\n",
    "import numpy as np\n",
    "import matplotlib.pyplot as plt\n",
    "import seaborn as sns"
   ]
  },
  {
   "cell_type": "code",
   "execution_count": 23,
   "metadata": {},
   "outputs": [],
   "source": [
    "#we can create a new column in yelp called text length. This column will store the number of characters in each review.\n",
    "result['text length'] = result['text'].apply(len)"
   ]
  },
  {
   "cell_type": "code",
   "execution_count": 24,
   "metadata": {},
   "outputs": [
    {
     "data": {
      "text/plain": [
       "<seaborn.axisgrid.FacetGrid at 0x137d7cf8>"
      ]
     },
     "execution_count": 24,
     "metadata": {},
     "output_type": "execute_result"
    },
    {
     "data": {
      "image/png": "[encoded data removed]",
      "text/plain": [
       "<Figure size 1080x216 with 5 Axes>"
      ]
     },
     "metadata": {},
     "output_type": "display_data"
    }
   ],
   "source": [
    "# The graph plots text length vs stars\n",
    "g = sns.FacetGrid(data=result, col='stars_x')\n",
    "g.map(plt.hist, 'text length', bins=50)"
   ]
  },
  {
   "cell_type": "markdown",
   "metadata": {},
   "source": [
    "According to the graph above, we understand that the longer the review, the star rating is more."
   ]
  },
  {
   "cell_type": "code",
   "execution_count": 25,
   "metadata": {},
   "outputs": [
    {
     "data": {
      "text/plain": [
       "<matplotlib.axes._subplots.AxesSubplot at 0xfe1b3c8>"
      ]
     },
     "execution_count": 25,
     "metadata": {},
     "output_type": "execute_result"
    },
    {
     "data": {
      "image/png": "[encoded data removed]",
      "text/plain": [
       "<Figure size 432x288 with 1 Axes>"
      ]
     },
     "metadata": {},
     "output_type": "display_data"
    }
   ],
   "source": [
    "#This can also be shown on a boxplot\n",
    "sns.boxplot(x='stars_x', y='text length', data=result)"
   ]
  },
  {
   "cell_type": "markdown",
   "metadata": {},
   "source": [
    "Top 20 restaurants in the data set sorted on the basis of sum and mean of star Ratings.\n"
   ]
  },
  {
   "cell_type": "code",
   "execution_count": 33,
   "metadata": {},
   "outputs": [
    {
     "data": {
      "text/html": [
       "<div>\n",
       "<style scoped>\n",
       "    .dataframe tbody tr th:only-of-type {\n",
       "        vertical-align: middle;\n",
       "    }\n",
       "\n",
       "    .dataframe tbody tr th {\n",
       "        vertical-align: top;\n",
       "    }\n",
       "\n",
       "    .dataframe thead tr th {\n",
       "        text-align: left;\n",
       "    }\n",
       "\n",
       "    .dataframe thead tr:last-of-type th {\n",
       "        text-align: right;\n",
       "    }\n",
       "</style>\n",
       "<table border=\"1\" class=\"dataframe\">\n",
       "  <thead>\n",
       "    <tr>\n",
       "      <th></th>\n",
       "      <th>sum</th>\n",
       "      <th>mean</th>\n",
       "    </tr>\n",
       "    <tr>\n",
       "      <th></th>\n",
       "      <th>stars_x</th>\n",
       "      <th>stars_x</th>\n",
       "    </tr>\n",
       "    <tr>\n",
       "      <th>name</th>\n",
       "      <th></th>\n",
       "      <th></th>\n",
       "    </tr>\n",
       "  </thead>\n",
       "  <tbody>\n",
       "    <tr>\n",
       "      <th>\"'ONO Poké Bar\"</th>\n",
       "      <td>9</td>\n",
       "      <td>4.5</td>\n",
       "    </tr>\n",
       "    <tr>\n",
       "      <th>\"0109 Dessert &amp; Chocolate\"</th>\n",
       "      <td>3</td>\n",
       "      <td>3.0</td>\n",
       "    </tr>\n",
       "    <tr>\n",
       "      <th>\"1 Brothers Pizza\"</th>\n",
       "      <td>4</td>\n",
       "      <td>4.0</td>\n",
       "    </tr>\n",
       "    <tr>\n",
       "      <th>\"1 OAK\"</th>\n",
       "      <td>3</td>\n",
       "      <td>3.0</td>\n",
       "    </tr>\n",
       "    <tr>\n",
       "      <th>\"103 Hot Pilates &amp; Yoga\"</th>\n",
       "      <td>5</td>\n",
       "      <td>5.0</td>\n",
       "    </tr>\n",
       "    <tr>\n",
       "      <th>\"107 SkyLounge\"</th>\n",
       "      <td>12</td>\n",
       "      <td>4.0</td>\n",
       "    </tr>\n",
       "    <tr>\n",
       "      <th>\"1130 The Restaurant\"</th>\n",
       "      <td>8</td>\n",
       "      <td>4.0</td>\n",
       "    </tr>\n",
       "    <tr>\n",
       "      <th>\"12 West Main\"</th>\n",
       "      <td>3</td>\n",
       "      <td>3.0</td>\n",
       "    </tr>\n",
       "    <tr>\n",
       "      <th>\"120 Diner\"</th>\n",
       "      <td>3</td>\n",
       "      <td>3.0</td>\n",
       "    </tr>\n",
       "    <tr>\n",
       "      <th>\"131 Main\"</th>\n",
       "      <td>4</td>\n",
       "      <td>4.0</td>\n",
       "    </tr>\n",
       "    <tr>\n",
       "      <th>\"1455 American Grill\"</th>\n",
       "      <td>4</td>\n",
       "      <td>4.0</td>\n",
       "    </tr>\n",
       "    <tr>\n",
       "      <th>\"15° Fahrenheit Rolled Ice Cream\"</th>\n",
       "      <td>2</td>\n",
       "      <td>2.0</td>\n",
       "    </tr>\n",
       "    <tr>\n",
       "      <th>\"16-Bit Bar+Arcade\"</th>\n",
       "      <td>10</td>\n",
       "      <td>5.0</td>\n",
       "    </tr>\n",
       "    <tr>\n",
       "      <th>\"168 Sushi Asian Buffet\"</th>\n",
       "      <td>2</td>\n",
       "      <td>2.0</td>\n",
       "    </tr>\n",
       "    <tr>\n",
       "      <th>\"18 Degrees Neighborhood Grill\"</th>\n",
       "      <td>1</td>\n",
       "      <td>1.0</td>\n",
       "    </tr>\n",
       "    <tr>\n",
       "      <th>\"180 Degrees Automotive\"</th>\n",
       "      <td>5</td>\n",
       "      <td>5.0</td>\n",
       "    </tr>\n",
       "    <tr>\n",
       "      <th>\"1855 Saloon and Grill\"</th>\n",
       "      <td>2</td>\n",
       "      <td>2.0</td>\n",
       "    </tr>\n",
       "    <tr>\n",
       "      <th>\"1900 Asian Cuisine\"</th>\n",
       "      <td>7</td>\n",
       "      <td>3.5</td>\n",
       "    </tr>\n",
       "    <tr>\n",
       "      <th>\"1900 Mexican Grill\"</th>\n",
       "      <td>1</td>\n",
       "      <td>1.0</td>\n",
       "    </tr>\n",
       "    <tr>\n",
       "      <th>\"1STOP-Fitness\"</th>\n",
       "      <td>4</td>\n",
       "      <td>4.0</td>\n",
       "    </tr>\n",
       "  </tbody>\n",
       "</table>\n",
       "</div>"
      ],
      "text/plain": [
       "                                      sum    mean\n",
       "                                  stars_x stars_x\n",
       "name                                             \n",
       "\"'ONO Poké Bar\"                         9     4.5\n",
       "\"0109 Dessert & Chocolate\"              3     3.0\n",
       "\"1 Brothers Pizza\"                      4     4.0\n",
       "\"1 OAK\"                                 3     3.0\n",
       "\"103 Hot Pilates & Yoga\"                5     5.0\n",
       "\"107 SkyLounge\"                        12     4.0\n",
       "\"1130 The Restaurant\"                   8     4.0\n",
       "\"12 West Main\"                          3     3.0\n",
       "\"120 Diner\"                             3     3.0\n",
       "\"131 Main\"                              4     4.0\n",
       "\"1455 American Grill\"                   4     4.0\n",
       "\"15° Fahrenheit Rolled Ice Cream\"       2     2.0\n",
       "\"16-Bit Bar+Arcade\"                    10     5.0\n",
       "\"168 Sushi Asian Buffet\"                2     2.0\n",
       "\"18 Degrees Neighborhood Grill\"         1     1.0\n",
       "\"180 Degrees Automotive\"                5     5.0\n",
       "\"1855 Saloon and Grill\"                 2     2.0\n",
       "\"1900 Asian Cuisine\"                    7     3.5\n",
       "\"1900 Mexican Grill\"                    1     1.0\n",
       "\"1STOP-Fitness\"                         4     4.0"
      ]
     },
     "execution_count": 33,
     "metadata": {},
     "output_type": "execute_result"
    }
   ],
   "source": [
    "info = pd.pivot_table(result,index=['name'],values=['stars_x'],\n",
    "               columns=[],aggfunc=[np.sum, np.mean],fill_value=0)\n",
    "\n",
    "info.head(20)\n",
    "\n",
    "#https://www.kaggle.com/ritzdevp/sentiment-analysis-using-nltk"
   ]
  },
  {
   "cell_type": "markdown",
   "metadata": {},
   "source": [
    "Decribe the data"
   ]
  },
  {
   "cell_type": "code",
   "execution_count": 35,
   "metadata": {},
   "outputs": [
    {
     "data": {
      "text/html": [
       "<div>\n",
       "<style scoped>\n",
       "    .dataframe tbody tr th:only-of-type {\n",
       "        vertical-align: middle;\n",
       "    }\n",
       "\n",
       "    .dataframe tbody tr th {\n",
       "        vertical-align: top;\n",
       "    }\n",
       "\n",
       "    .dataframe thead th {\n",
       "        text-align: right;\n",
       "    }\n",
       "</style>\n",
       "<table border=\"1\" class=\"dataframe\">\n",
       "  <thead>\n",
       "    <tr style=\"text-align: right;\">\n",
       "      <th></th>\n",
       "      <th>Unnamed: 0</th>\n",
       "      <th>stars_x</th>\n",
       "      <th>useful</th>\n",
       "      <th>funny</th>\n",
       "      <th>cool</th>\n",
       "      <th>latitude</th>\n",
       "      <th>longitude</th>\n",
       "      <th>stars_y</th>\n",
       "      <th>review_count</th>\n",
       "      <th>is_open</th>\n",
       "      <th>text length</th>\n",
       "    </tr>\n",
       "  </thead>\n",
       "  <tbody>\n",
       "    <tr>\n",
       "      <th>count</th>\n",
       "      <td>15000.000000</td>\n",
       "      <td>15000.000000</td>\n",
       "      <td>15000.000000</td>\n",
       "      <td>15000.00000</td>\n",
       "      <td>15000.000000</td>\n",
       "      <td>15000.000000</td>\n",
       "      <td>15000.000000</td>\n",
       "      <td>15000.000000</td>\n",
       "      <td>15000.000000</td>\n",
       "      <td>15000.000000</td>\n",
       "      <td>15000.000000</td>\n",
       "    </tr>\n",
       "    <tr>\n",
       "      <th>mean</th>\n",
       "      <td>7499.500000</td>\n",
       "      <td>3.752733</td>\n",
       "      <td>1.594800</td>\n",
       "      <td>0.61380</td>\n",
       "      <td>0.734933</td>\n",
       "      <td>37.410253</td>\n",
       "      <td>-100.388898</td>\n",
       "      <td>3.754667</td>\n",
       "      <td>320.044467</td>\n",
       "      <td>0.869200</td>\n",
       "      <td>719.248867</td>\n",
       "    </tr>\n",
       "    <tr>\n",
       "      <th>std</th>\n",
       "      <td>4330.271354</td>\n",
       "      <td>1.285341</td>\n",
       "      <td>2.967109</td>\n",
       "      <td>1.75994</td>\n",
       "      <td>1.872389</td>\n",
       "      <td>4.459448</td>\n",
       "      <td>20.455655</td>\n",
       "      <td>0.676492</td>\n",
       "      <td>623.346750</td>\n",
       "      <td>0.337193</td>\n",
       "      <td>628.391805</td>\n",
       "    </tr>\n",
       "    <tr>\n",
       "      <th>min</th>\n",
       "      <td>0.000000</td>\n",
       "      <td>1.000000</td>\n",
       "      <td>0.000000</td>\n",
       "      <td>0.00000</td>\n",
       "      <td>0.000000</td>\n",
       "      <td>33.204863</td>\n",
       "      <td>-122.499387</td>\n",
       "      <td>1.000000</td>\n",
       "      <td>3.000000</td>\n",
       "      <td>0.000000</td>\n",
       "      <td>19.000000</td>\n",
       "    </tr>\n",
       "    <tr>\n",
       "      <th>25%</th>\n",
       "      <td>3749.750000</td>\n",
       "      <td>3.000000</td>\n",
       "      <td>0.000000</td>\n",
       "      <td>0.00000</td>\n",
       "      <td>0.000000</td>\n",
       "      <td>33.611398</td>\n",
       "      <td>-115.151261</td>\n",
       "      <td>3.500000</td>\n",
       "      <td>37.000000</td>\n",
       "      <td>1.000000</td>\n",
       "      <td>286.000000</td>\n",
       "    </tr>\n",
       "    <tr>\n",
       "      <th>50%</th>\n",
       "      <td>7499.500000</td>\n",
       "      <td>4.000000</td>\n",
       "      <td>1.000000</td>\n",
       "      <td>0.00000</td>\n",
       "      <td>0.000000</td>\n",
       "      <td>36.103276</td>\n",
       "      <td>-111.932108</td>\n",
       "      <td>4.000000</td>\n",
       "      <td>117.000000</td>\n",
       "      <td>1.000000</td>\n",
       "      <td>530.000000</td>\n",
       "    </tr>\n",
       "    <tr>\n",
       "      <th>75%</th>\n",
       "      <td>11249.250000</td>\n",
       "      <td>5.000000</td>\n",
       "      <td>2.000000</td>\n",
       "      <td>1.00000</td>\n",
       "      <td>1.000000</td>\n",
       "      <td>40.454330</td>\n",
       "      <td>-80.848935</td>\n",
       "      <td>4.000000</td>\n",
       "      <td>331.000000</td>\n",
       "      <td>1.000000</td>\n",
       "      <td>954.000000</td>\n",
       "    </tr>\n",
       "    <tr>\n",
       "      <th>max</th>\n",
       "      <td>14999.000000</td>\n",
       "      <td>5.000000</td>\n",
       "      <td>95.000000</td>\n",
       "      <td>46.00000</td>\n",
       "      <td>43.000000</td>\n",
       "      <td>57.479062</td>\n",
       "      <td>115.086769</td>\n",
       "      <td>5.000000</td>\n",
       "      <td>7361.000000</td>\n",
       "      <td>1.000000</td>\n",
       "      <td>5062.000000</td>\n",
       "    </tr>\n",
       "  </tbody>\n",
       "</table>\n",
       "</div>"
      ],
      "text/plain": [
       "         Unnamed: 0       stars_x        useful        funny          cool  \\\n",
       "count  15000.000000  15000.000000  15000.000000  15000.00000  15000.000000   \n",
       "mean    7499.500000      3.752733      1.594800      0.61380      0.734933   \n",
       "std     4330.271354      1.285341      2.967109      1.75994      1.872389   \n",
       "min        0.000000      1.000000      0.000000      0.00000      0.000000   \n",
       "25%     3749.750000      3.000000      0.000000      0.00000      0.000000   \n",
       "50%     7499.500000      4.000000      1.000000      0.00000      0.000000   \n",
       "75%    11249.250000      5.000000      2.000000      1.00000      1.000000   \n",
       "max    14999.000000      5.000000     95.000000     46.00000     43.000000   \n",
       "\n",
       "           latitude     longitude       stars_y  review_count       is_open  \\\n",
       "count  15000.000000  15000.000000  15000.000000  15000.000000  15000.000000   \n",
       "mean      37.410253   -100.388898      3.754667    320.044467      0.869200   \n",
       "std        4.459448     20.455655      0.676492    623.346750      0.337193   \n",
       "min       33.204863   -122.499387      1.000000      3.000000      0.000000   \n",
       "25%       33.611398   -115.151261      3.500000     37.000000      1.000000   \n",
       "50%       36.103276   -111.932108      4.000000    117.000000      1.000000   \n",
       "75%       40.454330    -80.848935      4.000000    331.000000      1.000000   \n",
       "max       57.479062    115.086769      5.000000   7361.000000      1.000000   \n",
       "\n",
       "        text length  \n",
       "count  15000.000000  \n",
       "mean     719.248867  \n",
       "std      628.391805  \n",
       "min       19.000000  \n",
       "25%      286.000000  \n",
       "50%      530.000000  \n",
       "75%      954.000000  \n",
       "max     5062.000000  "
      ]
     },
     "execution_count": 35,
     "metadata": {},
     "output_type": "execute_result"
    }
   ],
   "source": [
    "result.describe()"
   ]
  },
  {
   "cell_type": "markdown",
   "metadata": {},
   "source": [
    "## Sentiment Analysis\n",
    "\n",
    "I used VADER to perform sentiment Analysis.\n",
    "\"VADER (Valence Aware Dictionary for sEntiment Reasoning) is a model used for text sentiment analysis that is sensitive to both polarity (positive/negative) and intensity (strength) of emotion.\"\n",
    "Further details about VADER can be found at \n",
    "\n",
    "http://datameetsmedia.com/vader-sentiment-analysis-explained/\n"
   ]
  },
  {
   "cell_type": "code",
   "execution_count": 36,
   "metadata": {},
   "outputs": [],
   "source": [
    "all_reviews = result['text']\n",
    "all_sent_values = []\n",
    "all_sentiments = []"
   ]
  },
  {
   "cell_type": "code",
   "execution_count": 37,
   "metadata": {},
   "outputs": [
    {
     "name": "stderr",
     "output_type": "stream",
     "text": [
      "C:\\python\\envs\\py27\\lib\\site-packages\\nltk\\twitter\\__init__.py:20: UserWarning: The twython library has not been installed. Some functionality from the twitter package will not be available.\n",
      "  warnings.warn(\"The twython library has not been installed. \"\n"
     ]
    }
   ],
   "source": [
    "import nltk\n",
    "\n",
    "from nltk.sentiment.vader import SentimentIntensityAnalyzer\n",
    "def sentiment_value(paragraph):\n",
    "    analyser = SentimentIntensityAnalyzer()\n",
    "    res = analyser.polarity_scores(paragraph)\n",
    "    score = res['compound']\n",
    "    return round(score,1)"
   ]
  },
  {
   "cell_type": "code",
   "execution_count": 39,
   "metadata": {},
   "outputs": [
    {
     "name": "stdout",
     "output_type": "stream",
     "text": [
      "[nltk_data] Downloading package vader_lexicon to C:\\Users\\Akhila\n",
      "[nltk_data]     Sharon\\AppData\\Roaming\\nltk_data...\n",
      "[nltk_data]   Package vader_lexicon is already up-to-date!\n"
     ]
    },
    {
     "data": {
      "text/plain": [
       "True"
      ]
     },
     "execution_count": 39,
     "metadata": {},
     "output_type": "execute_result"
    }
   ],
   "source": [
    "import nltk\n",
    "nltk.download('vader_lexicon')"
   ]
  },
  {
   "cell_type": "code",
   "execution_count": 43,
   "metadata": {},
   "outputs": [
    {
     "name": "stdout",
     "output_type": "stream",
     "text": [
      "Sometimes it feels SO good to be SO bad...for you. I have been dying to try out an actual poutinerie for a long time and it did not disappoint. I've been twice now. Once I had the basic poutine and once I had the pulled pork poutine. Both are good, but I really love that pulled pork poutine. The BBQ sauce they have has just a touch of sweetness and it really compliments the fries and cheese curds. A large poutine is more than enough for two people and I liked the little restaurant space with the 80s glam rock playing and quirky pictures on the walls. I guess my only criticism is that they need more seating. Both times I've been we got lucky and managed to snag seats as someone was leaving, but it's gross out on the street and this summer anyway, it's been SO hot outside. They don't have space for more seats, so this isn't really something they can easily fix, but maybe something to keep in mind for future establishments? Anyway, if you want a very unhealthy treat, it's a go!\n",
      "Sentiment: \n",
      "1.0\n"
     ]
    }
   ],
   "source": [
    "#testing VADER on the 101th review\n",
    "sample = result['text'][101]\n",
    "print(sample)\n",
    "print('Sentiment: ')\n",
    "print(sentiment_value(sample))"
   ]
  },
  {
   "cell_type": "code",
   "execution_count": 45,
   "metadata": {},
   "outputs": [],
   "source": [
    "# to run VADER on the entire file (load all the 15000 rows)\n",
    "temp_data = result[0:15000]"
   ]
  },
  {
   "cell_type": "code",
   "execution_count": 46,
   "metadata": {},
   "outputs": [
    {
     "data": {
      "text/plain": [
       "(15000, 23)"
      ]
     },
     "execution_count": 46,
     "metadata": {},
     "output_type": "execute_result"
    }
   ],
   "source": [
    "temp_data.shape"
   ]
  },
  {
   "cell_type": "code",
   "execution_count": 48,
   "metadata": {},
   "outputs": [],
   "source": [
    "import timeit\n",
    "start_time = timeit.default_timer() #to check time of execution\n",
    "for i in range(0,15000):\n",
    "    all_sent_values.append(sentiment_value(all_reviews[i])) # will take a while\n",
    "elapsed = timeit.default_timer() - start_time"
   ]
  },
  {
   "cell_type": "code",
   "execution_count": 50,
   "metadata": {},
   "outputs": [
    {
     "data": {
      "text/plain": [
       "176.1670709301105"
      ]
     },
     "execution_count": 50,
     "metadata": {},
     "output_type": "execute_result"
    }
   ],
   "source": [
    "elapsed #check time of evaluation"
   ]
  },
  {
   "cell_type": "code",
   "execution_count": 57,
   "metadata": {},
   "outputs": [],
   "source": [
    "SENTIMENT_VALUE = []\n",
    "SENTIMENT= []\n",
    "for i in range(0,15000):\n",
    "    sent = all_sent_values[i]\n",
    "    if (sent<=1 and sent>=0.5):\n",
    "        SENTIMENT.append('V.Positive') # give a sentiment of v.positive to star ratings ranging from 0.5 to 1\n",
    "        SENTIMENT_VALUE.append(5)\n",
    "    elif (sent<0.5 and sent>0):\n",
    "        SENTIMENT.append('Positive')  # give a sentiment of positive to star ratings ranging from 0.5 to 0\n",
    "        SENTIMENT_VALUE.append(4)\n",
    "    elif (sent==0):\n",
    "        SENTIMENT.append('Neutral')  # give a sentiment of v.positive to star ratings of 0\n",
    "        SENTIMENT_VALUE.append(3)\n",
    "    elif (sent<0 and sent>=-0.5):\n",
    "        SENTIMENT.append('Negative')  # give a sentiment of negative to star ratings ranging from -0.5 to 0\n",
    "        SENTIMENT_VALUE.append(2)\n",
    "    else:\n",
    "        SENTIMENT.append('V.Negative')  # give a sentiment of v.negative to star ratings ranging from -0.5 t0 -1\n",
    "        SENTIMENT_VALUE.append(1)"
   ]
  },
  {
   "cell_type": "code",
   "execution_count": 58,
   "metadata": {},
   "outputs": [
    {
     "name": "stderr",
     "output_type": "stream",
     "text": [
      "C:\\python\\envs\\py27\\lib\\site-packages\\ipykernel_launcher.py:2: SettingWithCopyWarning: \n",
      "A value is trying to be set on a copy of a slice from a DataFrame.\n",
      "Try using .loc[row_indexer,col_indexer] = value instead\n",
      "\n",
      "See the caveats in the documentation: http://pandas.pydata.org/pandas-docs/stable/indexing.html#indexing-view-versus-copy\n",
      "  \n",
      "C:\\python\\envs\\py27\\lib\\site-packages\\ipykernel_launcher.py:3: SettingWithCopyWarning: \n",
      "A value is trying to be set on a copy of a slice from a DataFrame.\n",
      "Try using .loc[row_indexer,col_indexer] = value instead\n",
      "\n",
      "See the caveats in the documentation: http://pandas.pydata.org/pandas-docs/stable/indexing.html#indexing-view-versus-copy\n",
      "  This is separate from the ipykernel package so we can avoid doing imports until\n"
     ]
    }
   ],
   "source": [
    "#Append SENTIMENT and SENTIMENT_VALUE to the temp_data\n",
    "temp_data['SENTIMENT_VALUE'] = SENTIMENT_VALUE\n",
    "temp_data['SENTIMENT'] = SENTIMENT"
   ]
  },
  {
   "cell_type": "code",
   "execution_count": 59,
   "metadata": {},
   "outputs": [
    {
     "data": {
      "text/html": [
       "<div>\n",
       "<style scoped>\n",
       "    .dataframe tbody tr th:only-of-type {\n",
       "        vertical-align: middle;\n",
       "    }\n",
       "\n",
       "    .dataframe tbody tr th {\n",
       "        vertical-align: top;\n",
       "    }\n",
       "\n",
       "    .dataframe thead th {\n",
       "        text-align: right;\n",
       "    }\n",
       "</style>\n",
       "<table border=\"1\" class=\"dataframe\">\n",
       "  <thead>\n",
       "    <tr style=\"text-align: right;\">\n",
       "      <th></th>\n",
       "      <th>business_id</th>\n",
       "      <th>name</th>\n",
       "      <th>SENTIMENT_VALUE</th>\n",
       "    </tr>\n",
       "  </thead>\n",
       "  <tbody>\n",
       "    <tr>\n",
       "      <th>0</th>\n",
       "      <td>AEx2SYEUJmTxVVB18LlCwA</td>\n",
       "      <td>\"Wilensky's\"</td>\n",
       "      <td>5</td>\n",
       "    </tr>\n",
       "    <tr>\n",
       "      <th>1</th>\n",
       "      <td>VR6GpWIda3SfvPC-lg9H3w</td>\n",
       "      <td>\"Tuck Shop\"</td>\n",
       "      <td>5</td>\n",
       "    </tr>\n",
       "    <tr>\n",
       "      <th>2</th>\n",
       "      <td>CKC0-MOWMqoeWf6s-szl8g</td>\n",
       "      <td>\"Lester's Deli\"</td>\n",
       "      <td>5</td>\n",
       "    </tr>\n",
       "    <tr>\n",
       "      <th>3</th>\n",
       "      <td>ACFtxLv8pGrrxMm6EgjreA</td>\n",
       "      <td>\"Five Guys\"</td>\n",
       "      <td>5</td>\n",
       "    </tr>\n",
       "    <tr>\n",
       "      <th>4</th>\n",
       "      <td>s2I_Ni76bjJNK9yG60iD-Q</td>\n",
       "      <td>\"Maison Christian Faure\"</td>\n",
       "      <td>5</td>\n",
       "    </tr>\n",
       "    <tr>\n",
       "      <th>5</th>\n",
       "      <td>8QWPlVQ6D-OExqXoaD2Z1g</td>\n",
       "      <td>\"Vegas Pub Crawler\"</td>\n",
       "      <td>5</td>\n",
       "    </tr>\n",
       "    <tr>\n",
       "      <th>6</th>\n",
       "      <td>9_CGhHMz8698M9-PkVf0CQ</td>\n",
       "      <td>\"Little Coxwell Vietnamese &amp; Thai Cuisine\"</td>\n",
       "      <td>5</td>\n",
       "    </tr>\n",
       "    <tr>\n",
       "      <th>7</th>\n",
       "      <td>gkCorLgPyQLsptTHalL61g</td>\n",
       "      <td>\"Broadview Espresso\"</td>\n",
       "      <td>5</td>\n",
       "    </tr>\n",
       "    <tr>\n",
       "      <th>8</th>\n",
       "      <td>5r6-G9C4YLbC7Ziz57l3rQ</td>\n",
       "      <td>\"Poutini's House of Poutine\"</td>\n",
       "      <td>5</td>\n",
       "    </tr>\n",
       "    <tr>\n",
       "      <th>9</th>\n",
       "      <td>fDF_o2JPU8BR1Gya--jRIA</td>\n",
       "      <td>\"My Dog Spot\"</td>\n",
       "      <td>5</td>\n",
       "    </tr>\n",
       "    <tr>\n",
       "      <th>10</th>\n",
       "      <td>z8oIoCT1cXz7gZP5GeU5OA</td>\n",
       "      <td>\"Milliken Bar &amp; Restaurant\"</td>\n",
       "      <td>5</td>\n",
       "    </tr>\n",
       "    <tr>\n",
       "      <th>11</th>\n",
       "      <td>XWTPNfskXoUL-Lf32wSk0Q</td>\n",
       "      <td>\"Rosedale Diner\"</td>\n",
       "      <td>4</td>\n",
       "    </tr>\n",
       "    <tr>\n",
       "      <th>12</th>\n",
       "      <td>13nKUHH-uEUXVZylgxchPA</td>\n",
       "      <td>\"Tidy's Flowers\"</td>\n",
       "      <td>1</td>\n",
       "    </tr>\n",
       "    <tr>\n",
       "      <th>13</th>\n",
       "      <td>RtUvSWO_UZ8V3Wpj0n077w</td>\n",
       "      <td>\"KINKA IZAKAYA ORIGINAL\"</td>\n",
       "      <td>5</td>\n",
       "    </tr>\n",
       "    <tr>\n",
       "      <th>14</th>\n",
       "      <td>Aov96CM4FZAXeZvKtsStdA</td>\n",
       "      <td>\"Que Ling Restaurant\"</td>\n",
       "      <td>5</td>\n",
       "    </tr>\n",
       "    <tr>\n",
       "      <th>15</th>\n",
       "      <td>0W4lkclzZThpx3V65bVgig</td>\n",
       "      <td>\"Schwartz's\"</td>\n",
       "      <td>5</td>\n",
       "    </tr>\n",
       "    <tr>\n",
       "      <th>16</th>\n",
       "      <td>fdnNZMk1NP7ZhL-YMidMpw</td>\n",
       "      <td>\"Great Body Massage\"</td>\n",
       "      <td>4</td>\n",
       "    </tr>\n",
       "    <tr>\n",
       "      <th>17</th>\n",
       "      <td>PFPUMF38-lraKzLcTiz5gQ</td>\n",
       "      <td>\"Mitzi's On College\"</td>\n",
       "      <td>5</td>\n",
       "    </tr>\n",
       "    <tr>\n",
       "      <th>18</th>\n",
       "      <td>oWTn2IzrprsRkPfULtjZtQ</td>\n",
       "      <td>\"The Burger's Priest\"</td>\n",
       "      <td>5</td>\n",
       "    </tr>\n",
       "    <tr>\n",
       "      <th>19</th>\n",
       "      <td>zgQHtqX0gqMw1nlBZl2VnQ</td>\n",
       "      <td>\"Momofuku Noodle Bar\"</td>\n",
       "      <td>5</td>\n",
       "    </tr>\n",
       "  </tbody>\n",
       "</table>\n",
       "</div>"
      ],
      "text/plain": [
       "               business_id                                        name  \\\n",
       "0   AEx2SYEUJmTxVVB18LlCwA                                \"Wilensky's\"   \n",
       "1   VR6GpWIda3SfvPC-lg9H3w                                 \"Tuck Shop\"   \n",
       "2   CKC0-MOWMqoeWf6s-szl8g                             \"Lester's Deli\"   \n",
       "3   ACFtxLv8pGrrxMm6EgjreA                                 \"Five Guys\"   \n",
       "4   s2I_Ni76bjJNK9yG60iD-Q                    \"Maison Christian Faure\"   \n",
       "5   8QWPlVQ6D-OExqXoaD2Z1g                         \"Vegas Pub Crawler\"   \n",
       "6   9_CGhHMz8698M9-PkVf0CQ  \"Little Coxwell Vietnamese & Thai Cuisine\"   \n",
       "7   gkCorLgPyQLsptTHalL61g                        \"Broadview Espresso\"   \n",
       "8   5r6-G9C4YLbC7Ziz57l3rQ                \"Poutini's House of Poutine\"   \n",
       "9   fDF_o2JPU8BR1Gya--jRIA                               \"My Dog Spot\"   \n",
       "10  z8oIoCT1cXz7gZP5GeU5OA                 \"Milliken Bar & Restaurant\"   \n",
       "11  XWTPNfskXoUL-Lf32wSk0Q                            \"Rosedale Diner\"   \n",
       "12  13nKUHH-uEUXVZylgxchPA                            \"Tidy's Flowers\"   \n",
       "13  RtUvSWO_UZ8V3Wpj0n077w                    \"KINKA IZAKAYA ORIGINAL\"   \n",
       "14  Aov96CM4FZAXeZvKtsStdA                       \"Que Ling Restaurant\"   \n",
       "15  0W4lkclzZThpx3V65bVgig                                \"Schwartz's\"   \n",
       "16  fdnNZMk1NP7ZhL-YMidMpw                        \"Great Body Massage\"   \n",
       "17  PFPUMF38-lraKzLcTiz5gQ                        \"Mitzi's On College\"   \n",
       "18  oWTn2IzrprsRkPfULtjZtQ                       \"The Burger's Priest\"   \n",
       "19  zgQHtqX0gqMw1nlBZl2VnQ                       \"Momofuku Noodle Bar\"   \n",
       "\n",
       "    SENTIMENT_VALUE  \n",
       "0                 5  \n",
       "1                 5  \n",
       "2                 5  \n",
       "3                 5  \n",
       "4                 5  \n",
       "5                 5  \n",
       "6                 5  \n",
       "7                 5  \n",
       "8                 5  \n",
       "9                 5  \n",
       "10                5  \n",
       "11                4  \n",
       "12                1  \n",
       "13                5  \n",
       "14                5  \n",
       "15                5  \n",
       "16                4  \n",
       "17                5  \n",
       "18                5  \n",
       "19                5  "
      ]
     },
     "execution_count": 59,
     "metadata": {},
     "output_type": "execute_result"
    }
   ],
   "source": [
    "#view dataframe\n",
    "temp_data[['business_id','name','SENTIMENT_VALUE']].head(20)"
   ]
  },
  {
   "cell_type": "code",
   "execution_count": 60,
   "metadata": {},
   "outputs": [],
   "source": [
    "#find accuracy between the user given star ratings and VADER generated sentiment value\n",
    "counter = 0\n",
    "for i in range(0,15000):\n",
    "    if (abs(temp_data['stars_x'][i]-temp_data['SENTIMENT_VALUE'][i])>1):\n",
    "        counter += 1"
   ]
  },
  {
   "cell_type": "code",
   "execution_count": 61,
   "metadata": {},
   "outputs": [
    {
     "data": {
      "text/plain": [
       "74.70666666666666"
      ]
     },
     "execution_count": 61,
     "metadata": {},
     "output_type": "execute_result"
    }
   ],
   "source": [
    "from __future__ import division\n",
    "accuracy = (temp_data.shape[0]-counter) / temp_data.shape[0]\n",
    "percent_accuracy = accuracy*100\n",
    "percent_accuracy "
   ]
  },
  {
   "cell_type": "markdown",
   "metadata": {},
   "source": [
    "The above analysis shows that there is 74.7% match between user given star ratings and VADER generated sentiment value"
   ]
  },
  {
   "cell_type": "markdown",
   "metadata": {},
   "source": [
    "### Top 10 restaurants in the data set sorted on the basis of sum and mean of star Ratings and sentiment value."
   ]
  },
  {
   "cell_type": "code",
   "execution_count": 62,
   "metadata": {},
   "outputs": [
    {
     "data": {
      "text/html": [
       "<div>\n",
       "<style scoped>\n",
       "    .dataframe tbody tr th:only-of-type {\n",
       "        vertical-align: middle;\n",
       "    }\n",
       "\n",
       "    .dataframe tbody tr th {\n",
       "        vertical-align: top;\n",
       "    }\n",
       "\n",
       "    .dataframe thead tr th {\n",
       "        text-align: left;\n",
       "    }\n",
       "\n",
       "    .dataframe thead tr:last-of-type th {\n",
       "        text-align: right;\n",
       "    }\n",
       "</style>\n",
       "<table border=\"1\" class=\"dataframe\">\n",
       "  <thead>\n",
       "    <tr>\n",
       "      <th></th>\n",
       "      <th colspan=\"2\" halign=\"left\">sum</th>\n",
       "      <th colspan=\"2\" halign=\"left\">mean</th>\n",
       "    </tr>\n",
       "    <tr>\n",
       "      <th></th>\n",
       "      <th>SENTIMENT_VALUE</th>\n",
       "      <th>stars_x</th>\n",
       "      <th>SENTIMENT_VALUE</th>\n",
       "      <th>stars_x</th>\n",
       "    </tr>\n",
       "    <tr>\n",
       "      <th>name</th>\n",
       "      <th></th>\n",
       "      <th></th>\n",
       "      <th></th>\n",
       "      <th></th>\n",
       "    </tr>\n",
       "  </thead>\n",
       "  <tbody>\n",
       "    <tr>\n",
       "      <th>\"'ONO Poké Bar\"</th>\n",
       "      <td>10</td>\n",
       "      <td>9</td>\n",
       "      <td>5.0</td>\n",
       "      <td>4.5</td>\n",
       "    </tr>\n",
       "    <tr>\n",
       "      <th>\"0109 Dessert &amp; Chocolate\"</th>\n",
       "      <td>5</td>\n",
       "      <td>3</td>\n",
       "      <td>5.0</td>\n",
       "      <td>3.0</td>\n",
       "    </tr>\n",
       "    <tr>\n",
       "      <th>\"1 Brothers Pizza\"</th>\n",
       "      <td>5</td>\n",
       "      <td>4</td>\n",
       "      <td>5.0</td>\n",
       "      <td>4.0</td>\n",
       "    </tr>\n",
       "    <tr>\n",
       "      <th>\"1 OAK\"</th>\n",
       "      <td>5</td>\n",
       "      <td>3</td>\n",
       "      <td>5.0</td>\n",
       "      <td>3.0</td>\n",
       "    </tr>\n",
       "    <tr>\n",
       "      <th>\"103 Hot Pilates &amp; Yoga\"</th>\n",
       "      <td>5</td>\n",
       "      <td>5</td>\n",
       "      <td>5.0</td>\n",
       "      <td>5.0</td>\n",
       "    </tr>\n",
       "    <tr>\n",
       "      <th>\"107 SkyLounge\"</th>\n",
       "      <td>15</td>\n",
       "      <td>12</td>\n",
       "      <td>5.0</td>\n",
       "      <td>4.0</td>\n",
       "    </tr>\n",
       "    <tr>\n",
       "      <th>\"1130 The Restaurant\"</th>\n",
       "      <td>10</td>\n",
       "      <td>8</td>\n",
       "      <td>5.0</td>\n",
       "      <td>4.0</td>\n",
       "    </tr>\n",
       "    <tr>\n",
       "      <th>\"12 West Main\"</th>\n",
       "      <td>5</td>\n",
       "      <td>3</td>\n",
       "      <td>5.0</td>\n",
       "      <td>3.0</td>\n",
       "    </tr>\n",
       "    <tr>\n",
       "      <th>\"120 Diner\"</th>\n",
       "      <td>5</td>\n",
       "      <td>3</td>\n",
       "      <td>5.0</td>\n",
       "      <td>3.0</td>\n",
       "    </tr>\n",
       "    <tr>\n",
       "      <th>\"131 Main\"</th>\n",
       "      <td>5</td>\n",
       "      <td>4</td>\n",
       "      <td>5.0</td>\n",
       "      <td>4.0</td>\n",
       "    </tr>\n",
       "  </tbody>\n",
       "</table>\n",
       "</div>"
      ],
      "text/plain": [
       "                                       sum                    mean        \n",
       "                           SENTIMENT_VALUE stars_x SENTIMENT_VALUE stars_x\n",
       "name                                                                      \n",
       "\"'ONO Poké Bar\"                         10       9             5.0     4.5\n",
       "\"0109 Dessert & Chocolate\"               5       3             5.0     3.0\n",
       "\"1 Brothers Pizza\"                       5       4             5.0     4.0\n",
       "\"1 OAK\"                                  5       3             5.0     3.0\n",
       "\"103 Hot Pilates & Yoga\"                 5       5             5.0     5.0\n",
       "\"107 SkyLounge\"                         15      12             5.0     4.0\n",
       "\"1130 The Restaurant\"                   10       8             5.0     4.0\n",
       "\"12 West Main\"                           5       3             5.0     3.0\n",
       "\"120 Diner\"                              5       3             5.0     3.0\n",
       "\"131 Main\"                               5       4             5.0     4.0"
      ]
     },
     "execution_count": 62,
     "metadata": {},
     "output_type": "execute_result"
    }
   ],
   "source": [
    "testingtop10 = pd.pivot_table(temp_data,index=['name'],values=['stars_x','SENTIMENT_VALUE'],\n",
    "               columns=[],aggfunc=[np.sum, np.mean],fill_value=0)\n",
    "#testing3 = testing3.sort_values(by=('sum'), ascending = False)\n",
    "testingtop10.head(10)"
   ]
  },
  {
   "cell_type": "markdown",
   "metadata": {},
   "source": [
    "#### Test the dataframe to get relevent reviews of relevent business"
   ]
  },
  {
   "cell_type": "code",
   "execution_count": 63,
   "metadata": {},
   "outputs": [
    {
     "data": {
      "text/plain": [
       "2    Lester's is located in a beautiful neighborhoo...\n",
       "Name: text, dtype: object"
      ]
     },
     "execution_count": 63,
     "metadata": {},
     "output_type": "execute_result"
    }
   ],
   "source": [
    "#get review of a business where business_id is CKC0-MOWMqoeWf6s-szl8g\n",
    "temp_data['text'].loc[temp_data['business_id'] == 'CKC0-MOWMqoeWf6s-szl8g' ]"
   ]
  },
  {
   "cell_type": "code",
   "execution_count": 64,
   "metadata": {},
   "outputs": [
    {
     "data": {
      "text/html": [
       "<div>\n",
       "<style scoped>\n",
       "    .dataframe tbody tr th:only-of-type {\n",
       "        vertical-align: middle;\n",
       "    }\n",
       "\n",
       "    .dataframe tbody tr th {\n",
       "        vertical-align: top;\n",
       "    }\n",
       "\n",
       "    .dataframe thead th {\n",
       "        text-align: right;\n",
       "    }\n",
       "</style>\n",
       "<table border=\"1\" class=\"dataframe\">\n",
       "  <thead>\n",
       "    <tr style=\"text-align: right;\">\n",
       "      <th></th>\n",
       "      <th>text</th>\n",
       "      <th>SENTIMENT_VALUE</th>\n",
       "      <th>stars_x</th>\n",
       "    </tr>\n",
       "  </thead>\n",
       "  <tbody>\n",
       "    <tr>\n",
       "      <th>5</th>\n",
       "      <td>Cycle Pub Las Vegas was a blast! Got a groupon...</td>\n",
       "      <td>5</td>\n",
       "      <td>5</td>\n",
       "    </tr>\n",
       "  </tbody>\n",
       "</table>\n",
       "</div>"
      ],
      "text/plain": [
       "                                                text  SENTIMENT_VALUE  stars_x\n",
       "5  Cycle Pub Las Vegas was a blast! Got a groupon...                5        5"
      ]
     },
     "execution_count": 64,
     "metadata": {},
     "output_type": "execute_result"
    }
   ],
   "source": [
    "#get sentiment value and rating of a particular business id.\n",
    "temp_data[['text','SENTIMENT_VALUE','stars_x']].loc[temp_data['business_id'] == \"8QWPlVQ6D-OExqXoaD2Z1g\" ]"
   ]
  },
  {
   "cell_type": "markdown",
   "metadata": {},
   "source": [
    "## Further analysis\n",
    "\n",
    "We can't read eacha and every review of a particular review if the reviews list is huge. We can add name entity recognition to process the data further to give the restaurants the key words in the review along with the sentiment and sentiment value\n",
    "\n",
    "I used spaCy to perform name entity recognition.\n",
    "\n",
    "https://spacy.io/usage/spacy-101"
   ]
  },
  {
   "cell_type": "code",
   "execution_count": 65,
   "metadata": {},
   "outputs": [],
   "source": [
    "import spacy\n",
    "import en_core_web_sm\n",
    "nlp = en_core_web_sm.load()"
   ]
  },
  {
   "cell_type": "code",
   "execution_count": 67,
   "metadata": {},
   "outputs": [
    {
     "name": "stdout",
     "output_type": "stream",
     "text": [
      "(u'Next week', u'DATE')\n",
      "(u'Madrid', u'GPE')\n"
     ]
    }
   ],
   "source": [
    "#testing spacy\n",
    "from __future__ import unicode_literals\n",
    "doc = nlp(\"Next week I'll be in Madrid.\")\n",
    "for ent in doc.ents:\n",
    "    print(ent.text, ent.label_)"
   ]
  },
  {
   "cell_type": "markdown",
   "metadata": {},
   "source": [
    "To perform name entity recognition on the reviews , we need to know what items are in the menu and what are the common food items. I found data from https://github.com/vabraham/foodie_favorites/tree/master/data which had the restaurant menu items in the form of pickles"
   ]
  },
  {
   "cell_type": "code",
   "execution_count": 69,
   "metadata": {},
   "outputs": [],
   "source": [
    "import pandas as pd\n",
    "import csv\n",
    "from six.moves import cPickle as pickle\n",
    "import numpy as np"
   ]
  },
  {
   "cell_type": "code",
   "execution_count": 77,
   "metadata": {},
   "outputs": [],
   "source": [
    "main_food_df = pd.read_pickle(\".\\data\\word_list.pkl\") #load common food"
   ]
  },
  {
   "cell_type": "code",
   "execution_count": 78,
   "metadata": {},
   "outputs": [],
   "source": [
    "menu_list_prep = pd.read_pickle(\".\\data\\menu_list.pkl\") #load menu list"
   ]
  },
  {
   "cell_type": "code",
   "execution_count": 79,
   "metadata": {},
   "outputs": [],
   "source": [
    "menu_prep_two =[name[:-1] if name.endswith('\\r')  else name for name in menu_list_prep] #clean the unwanted data"
   ]
  },
  {
   "cell_type": "code",
   "execution_count": 73,
   "metadata": {},
   "outputs": [],
   "source": [
    "import unicodedata\n",
    "\n",
    "menu_prep_three_df = [x.encode('UTF8') for x in menu_prep_two]"
   ]
  },
  {
   "cell_type": "code",
   "execution_count": 75,
   "metadata": {},
   "outputs": [],
   "source": [
    "from __future__ import unicode_literals\n",
    "menu_d_df=[]\n",
    "for item in menu_prep_three_df:\n",
    "    if len(item.split()) < 3:\n",
    "        menu_d_df.append(item)"
   ]
  },
  {
   "cell_type": "code",
   "execution_count": 80,
   "metadata": {},
   "outputs": [
    {
     "name": "stdout",
     "output_type": "stream",
     "text": [
      "[(u'the', u'ORG'), (u'Asparagus', u'INMENU'), (u'Prawn', u'INMENU')]\n"
     ]
    }
   ],
   "source": [
    "import spacy\n",
    "import en_core_web_sm\n",
    "from spacy.matcher import PhraseMatcher\n",
    "from spacy.tokens import Span\n",
    "\n",
    "\n",
    "nlp = en_core_web_sm.load() \n",
    "patterns = [nlp(item.decode('utf8')) for item in  main_food_df]  # process each word to create phrase pattern\n",
    "matcher = PhraseMatcher(nlp.vocab)\n",
    "matcher.add('MAINFOOD', None, *patterns)  # add patterns to matcher\n",
    "patternstwo = [nlp(itemtwo.decode('utf8')) for itemtwo in menu_d_df]  # process each word to create phrase pattern\n",
    "matcher = PhraseMatcher(nlp.vocab)\n",
    "matcher.add('INMENU', None, *patternstwo)  # add patterns to matcher\n",
    "\n",
    "doc = nlp(\"I love the Asparagus Prawn from this place\")\n",
    "matches = matcher(doc)\n",
    "\n",
    "for match_id, start, end in matches:\n",
    "    # create a new Span for each match and use the match_id  as the label\n",
    "    span = Span(doc, start, end, label=match_id)\n",
    "    doc.ents = list(doc.ents) + [span]  # add span to doc.ents\n",
    "\n",
    "print([(ent.text, ent.label_) for ent in doc.ents]) "
   ]
  },
  {
   "cell_type": "markdown",
   "metadata": {},
   "source": [
    "The above program identifies Asparagus and prawns as inmenu item from the line \"I love the Asparagus Prawn from this place\"."
   ]
  },
  {
   "cell_type": "markdown",
   "metadata": {},
   "source": [
    "The above the analysis can be applied to the entire review file to skim the reviews and gather the main information.\n",
    "This way the restaurants can track the items which has less reviews and ratings and put effort into inproving them."
   ]
  },
  {
   "cell_type": "markdown",
   "metadata": {},
   "source": [
    "## References\n",
    "\n",
    "1.\thttps://onlinelibrary.wiley.com/doi/full/10.1111/cgf.13217\n",
    "2.\thttps://medium.com/@martinpella/naive-bayes-for-sentiment-analysis-49b37db18bf8\n",
    "3.\thttps://www.kaggle.com/ngyptr/python-nltk-sentiment-analysis\n",
    "4.\thttps://itnext.io/sentiment-analysis-concept-analysis-and-applications-8b2c1c6fd77a\n",
    "5.\thttps://www.upgrad.com/blog/sentiment-analysis-what-is-it-and-why-does-it-matter/\n",
    "6.  http://datameetsmedia.com/vader-sentiment-analysis-explained/\n",
    "7.  https://github.com/vabraham/foodie_favorites/tree/master/data\n",
    "8.  https://spacy.io/usage/spacy-101\n"
   ]
  },
  {
   "cell_type": "code",
   "execution_count": null,
   "metadata": {},
   "outputs": [],
   "source": []
  }
 ],
 "metadata": {
  "kernelspec": {
   "display_name": "Python 2",
   "language": "python",
   "name": "python2"
  },
  "language_info": {
   "codemirror_mode": {
    "name": "ipython",
    "version": 2
   },
   "file_extension": ".py",
   "mimetype": "text/x-python",
   "name": "python",
   "nbconvert_exporter": "python",
   "pygments_lexer": "ipython2",
   "version": "2.7.15"
  }
 },
 "nbformat": 4,
 "nbformat_minor": 2
}

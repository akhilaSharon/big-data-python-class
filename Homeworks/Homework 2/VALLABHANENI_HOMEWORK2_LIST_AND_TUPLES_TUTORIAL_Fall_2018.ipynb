{
 "cells": [
  {
   "cell_type": "markdown",
   "metadata": {},
   "source": [
    "# LIST AND TUPLES TUTORIAL"
   ]
  },
  {
   "cell_type": "markdown",
   "metadata": {},
   "source": [
    "Every object in Python is classified as either immutable (unchangeable) or not.\n"
   ]
  },
  {
   "cell_type": "markdown",
   "metadata": {},
   "source": [
    "## List"
   ]
  },
  {
   "cell_type": "markdown",
   "metadata": {},
   "source": [
    " - A list is created by placing all the items (elements) inside a square bracket [ ], seperated by commas.\n",
    " - They are mutable and have no fixed size.\n",
    " - It can have any size and have different types of items.\n",
    " "
   ]
  },
  {
   "cell_type": "code",
   "execution_count": 1,
   "metadata": {},
   "outputs": [],
   "source": [
    "#list can be empty\n",
    "my_list_one=[]\n",
    "my_list_two= [1,2,3]\n",
    "\n",
    "#list with different datatypes\n",
    "my_list_three = [1,'a',\"abc\",3.9,True]\n"
   ]
  },
  {
   "cell_type": "code",
   "execution_count": 2,
   "metadata": {},
   "outputs": [
    {
     "ename": "NameError",
     "evalue": "name 'a' is not defined",
     "output_type": "error",
     "traceback": [
      "\u001b[1;31m\u001b[0m",
      "\u001b[1;31mNameError\u001b[0mTraceback (most recent call last)",
      "\u001b[1;32m<ipython-input-2-1b684df61fab>\u001b[0m in \u001b[0;36m<module>\u001b[1;34m()\u001b[0m\n\u001b[0;32m      1\u001b[0m \u001b[1;31m# a character or string in a list must be within quotes(either single or double) or it shows an error if the variable is not defined\u001b[0m\u001b[1;33m\u001b[0m\u001b[1;33m\u001b[0m\u001b[0m\n\u001b[0;32m      2\u001b[0m \u001b[1;33m\u001b[0m\u001b[0m\n\u001b[1;32m----> 3\u001b[1;33m \u001b[0mmy_list_four\u001b[0m \u001b[1;33m=\u001b[0m\u001b[1;33m[\u001b[0m\u001b[0ma\u001b[0m\u001b[1;33m,\u001b[0m\u001b[0mb\u001b[0m\u001b[1;33m]\u001b[0m\u001b[1;33m\u001b[0m\u001b[0m\n\u001b[0m",
      "\u001b[1;31mNameError\u001b[0m: name 'a' is not defined"
     ]
    }
   ],
   "source": [
    "# a character or string in a list must be within quotes(either single or double) or it shows an error if the variable is not defined \n",
    "\n",
    "my_list_four =[a,b]"
   ]
  },
  {
   "cell_type": "code",
   "execution_count": 3,
   "metadata": {},
   "outputs": [],
   "source": [
    "# as a,b are now being defined, it does not show an error while creating the list. \n",
    "a,b=2,3\n",
    "my_list_four = [a,b]"
   ]
  },
  {
   "cell_type": "markdown",
   "metadata": {},
   "source": [
    "A list can be nested."
   ]
  },
  {
   "cell_type": "code",
   "execution_count": 4,
   "metadata": {},
   "outputs": [],
   "source": [
    "#nested list \n",
    "\n",
    "my_nested_list = [\"cathy\", [7,2,1], ['a']]"
   ]
  },
  {
   "cell_type": "markdown",
   "metadata": {},
   "source": [
    "#### List Index\n",
    "\n",
    "- Index in a list starts from 0\n",
    "- An item in the list can be accessed by using these indexes.\n",
    "- An item can be accessed using [ ] operator.\n",
    "- Index is an integer value.\n",
    "- Trying to access an element out of its index range will show an IndexError.\n",
    "- Nested list are accessed using nested indexing."
   ]
  },
  {
   "cell_type": "code",
   "execution_count": 5,
   "metadata": {},
   "outputs": [
    {
     "data": {
      "text/plain": [
       "3"
      ]
     },
     "execution_count": 5,
     "metadata": {},
     "output_type": "execute_result"
    }
   ],
   "source": [
    "my_list_two[2]"
   ]
  },
  {
   "cell_type": "code",
   "execution_count": 6,
   "metadata": {},
   "outputs": [
    {
     "ename": "TypeError",
     "evalue": "list indices must be integers, not float",
     "output_type": "error",
     "traceback": [
      "\u001b[1;31m\u001b[0m",
      "\u001b[1;31mTypeError\u001b[0mTraceback (most recent call last)",
      "\u001b[1;32m<ipython-input-6-3f97368ce677>\u001b[0m in \u001b[0;36m<module>\u001b[1;34m()\u001b[0m\n\u001b[0;32m      1\u001b[0m \u001b[1;31m# Index other than integer will give an TypeError\u001b[0m\u001b[1;33m\u001b[0m\u001b[1;33m\u001b[0m\u001b[0m\n\u001b[1;32m----> 2\u001b[1;33m \u001b[0mmy_list_two\u001b[0m\u001b[1;33m[\u001b[0m\u001b[1;36m2.0\u001b[0m\u001b[1;33m]\u001b[0m\u001b[1;33m\u001b[0m\u001b[0m\n\u001b[0m",
      "\u001b[1;31mTypeError\u001b[0m: list indices must be integers, not float"
     ]
    }
   ],
   "source": [
    "# Index other than integer will give an TypeError\n",
    "my_list_two[2.0]"
   ]
  },
  {
   "cell_type": "code",
   "execution_count": 7,
   "metadata": {},
   "outputs": [
    {
     "ename": "IndexError",
     "evalue": "list index out of range",
     "output_type": "error",
     "traceback": [
      "\u001b[1;31m\u001b[0m",
      "\u001b[1;31mIndexError\u001b[0mTraceback (most recent call last)",
      "\u001b[1;32m<ipython-input-7-ab78af9e7bef>\u001b[0m in \u001b[0;36m<module>\u001b[1;34m()\u001b[0m\n\u001b[0;32m      1\u001b[0m \u001b[1;31m#  Trying to access an element out of its index range will show an IndexError\u001b[0m\u001b[1;33m\u001b[0m\u001b[1;33m\u001b[0m\u001b[0m\n\u001b[1;32m----> 2\u001b[1;33m \u001b[0mmy_list_two\u001b[0m\u001b[1;33m[\u001b[0m\u001b[1;36m3\u001b[0m\u001b[1;33m]\u001b[0m\u001b[1;33m\u001b[0m\u001b[0m\n\u001b[0m",
      "\u001b[1;31mIndexError\u001b[0m: list index out of range"
     ]
    }
   ],
   "source": [
    "#  Trying to access an element out of its index range will show an IndexError\n",
    "my_list_two[3]"
   ]
  },
  {
   "cell_type": "code",
   "execution_count": 8,
   "metadata": {},
   "outputs": [
    {
     "data": {
      "text/plain": [
       "'h'"
      ]
     },
     "execution_count": 8,
     "metadata": {},
     "output_type": "execute_result"
    }
   ],
   "source": [
    "# Nested Indexing\n",
    "my_nested_list[0][3] #[0][3] references the first list ( index=[0]) and element with index=[3] in the first list.\n"
   ]
  },
  {
   "cell_type": "markdown",
   "metadata": {},
   "source": [
    "#### Negative Indexing\n",
    "\n",
    "- Python allows negative indexing.\n",
    "- -1 references to the last item, -2 refernces to the last second item and so on.\n"
   ]
  },
  {
   "cell_type": "code",
   "execution_count": 9,
   "metadata": {},
   "outputs": [
    {
     "data": {
      "text/plain": [
       "3"
      ]
     },
     "execution_count": 9,
     "metadata": {},
     "output_type": "execute_result"
    }
   ],
   "source": [
    "my_list_two[-1]"
   ]
  },
  {
   "cell_type": "markdown",
   "metadata": {},
   "source": [
    "#### Slicing on list\n",
    "\n",
    "Slicing is used to get specific sets of sub-elements from the list.\n"
   ]
  },
  {
   "cell_type": "code",
   "execution_count": 10,
   "metadata": {},
   "outputs": [],
   "source": [
    "list_a=[1,2,3,4,5,6,7,8,9]"
   ]
  },
  {
   "cell_type": "markdown",
   "metadata": {},
   "source": [
    "I just created a normal list with the numbers 1 through 5. Now let's say that we really want the sub-elements 2, 3, and 4 returned in a new list."
   ]
  },
  {
   "cell_type": "code",
   "execution_count": 11,
   "metadata": {},
   "outputs": [
    {
     "data": {
      "text/plain": [
       "[2, 3, 4]"
      ]
     },
     "execution_count": 11,
     "metadata": {},
     "output_type": "execute_result"
    }
   ],
   "source": [
    "list_a[1:4]\n",
    "#[index of the first sub element : 1 + index of the last sub-element]"
   ]
  },
  {
   "cell_type": "markdown",
   "metadata": {},
   "source": [
    "if no start or end value is given ,the default value for start of the sub-list will be '0' and the end of the sub-list will be till the last element of the list."
   ]
  },
  {
   "cell_type": "code",
   "execution_count": 92,
   "metadata": {
    "scrolled": true
   },
   "outputs": [
    {
     "name": "stdout",
     "output_type": "stream",
     "text": [
      "[1, 2, 3, 4, 5]\n",
      "[2, 3, 4, 5, 6, 7, 8, 9]\n",
      "[1, 2, 3, 4, 5, 6, 7, 8, 9]\n"
     ]
    }
   ],
   "source": [
    "print(list_a[:5])\n",
    "print(list_a[1:])\n",
    "print(list_a[:])"
   ]
  },
  {
   "cell_type": "markdown",
   "metadata": {},
   "source": [
    "#### Advanced Slicing Increments\n",
    "\n",
    "There is also an optional second clause that we can add that allows us to set how the list's index will increment between the indexes that we've set."
   ]
  },
  {
   "cell_type": "code",
   "execution_count": 34,
   "metadata": {},
   "outputs": [
    {
     "data": {
      "text/plain": [
       "[1, 3, 5]"
      ]
     },
     "execution_count": 34,
     "metadata": {},
     "output_type": "execute_result"
    }
   ],
   "source": [
    "list_a[0:6:2]\n",
    "# here the increment is 2"
   ]
  },
  {
   "cell_type": "code",
   "execution_count": 47,
   "metadata": {},
   "outputs": [
    {
     "ename": "ValueError",
     "evalue": "slice step cannot be zero",
     "output_type": "error",
     "traceback": [
      "\u001b[1;31m\u001b[0m",
      "\u001b[1;31mValueError\u001b[0mTraceback (most recent call last)",
      "\u001b[1;32m<ipython-input-47-89bd78cf4e93>\u001b[0m in \u001b[0;36m<module>\u001b[1;34m()\u001b[0m\n\u001b[0;32m      1\u001b[0m \u001b[1;31m#shows an error if 0 is given as an increment\u001b[0m\u001b[1;33m\u001b[0m\u001b[1;33m\u001b[0m\u001b[0m\n\u001b[0;32m      2\u001b[0m \u001b[1;33m\u001b[0m\u001b[0m\n\u001b[1;32m----> 3\u001b[1;33m \u001b[0mlist_a\u001b[0m\u001b[1;33m[\u001b[0m\u001b[1;36m1\u001b[0m\u001b[1;33m:\u001b[0m\u001b[1;36m5\u001b[0m\u001b[1;33m:\u001b[0m\u001b[1;36m0\u001b[0m\u001b[1;33m]\u001b[0m\u001b[1;33m\u001b[0m\u001b[0m\n\u001b[0m",
      "\u001b[1;31mValueError\u001b[0m: slice step cannot be zero"
     ]
    }
   ],
   "source": [
    "#shows an error if 0 is given as an increment\n",
    "\n",
    "list_a[1:5:0]"
   ]
  },
  {
   "cell_type": "markdown",
   "metadata": {},
   "source": [
    "#### Reverse Slicing\n",
    "\n",
    "We can use this type of slicing if we want our list backwards."
   ]
  },
  {
   "cell_type": "code",
   "execution_count": 93,
   "metadata": {},
   "outputs": [
    {
     "name": "stdout",
     "output_type": "stream",
     "text": [
      "[6, 5, 4, 3]\n",
      "[9, 7, 5, 3, 1]\n"
     ]
    }
   ],
   "source": [
    "#reverse list with increment of 1 , the order given within [ ] also changes\n",
    "print(list_a[5:1:-1]) #output:[6, 5, 4, 3]\n",
    "\n",
    "# takes default values\n",
    "print(list_a[:: -2] )#output: [9, 7, 5, 3, 1]"
   ]
  },
  {
   "cell_type": "code",
   "execution_count": 46,
   "metadata": {},
   "outputs": [
    {
     "ename": "ValueError",
     "evalue": "slice step cannot be zero",
     "output_type": "error",
     "traceback": [
      "\u001b[1;31m\u001b[0m",
      "\u001b[1;31mValueError\u001b[0mTraceback (most recent call last)",
      "\u001b[1;32m<ipython-input-46-c7bc99809742>\u001b[0m in \u001b[0;36m<module>\u001b[1;34m()\u001b[0m\n\u001b[0;32m      1\u001b[0m \u001b[1;31m#shows an error if 0 is given as an increment\u001b[0m\u001b[1;33m\u001b[0m\u001b[1;33m\u001b[0m\u001b[0m\n\u001b[1;32m----> 2\u001b[1;33m \u001b[0mlist_a\u001b[0m\u001b[1;33m[\u001b[0m\u001b[1;36m5\u001b[0m\u001b[1;33m:\u001b[0m\u001b[1;36m1\u001b[0m\u001b[1;33m:\u001b[0m\u001b[1;36m0\u001b[0m\u001b[1;33m]\u001b[0m\u001b[1;33m\u001b[0m\u001b[0m\n\u001b[0m",
      "\u001b[1;31mValueError\u001b[0m: slice step cannot be zero"
     ]
    }
   ],
   "source": [
    "#shows an error if 0 is given as an increment\n",
    "list_a[5:1:0]"
   ]
  },
  {
   "cell_type": "markdown",
   "metadata": {},
   "source": [
    "#### Change or Add items/elements to a List\n",
    "\n",
    "Lists are mutable, We can use assignment operator (=) to change an item or a range of items."
   ]
  },
  {
   "cell_type": "code",
   "execution_count": 48,
   "metadata": {},
   "outputs": [
    {
     "name": "stdout",
     "output_type": "stream",
     "text": [
      "[5, 12, 13, 14]\n",
      "[5, 6, 7, 8]\n"
     ]
    }
   ],
   "source": [
    "# mistake values\n",
    "list_b = [11,12,13,14]\n",
    "\n",
    "# change the 1st item    \n",
    "list_b[0] = 5           \n",
    "\n",
    "# Output: [5,12,13,14]\n",
    "print(list_b)\n",
    "\n",
    "# change 2nd to 4th items\n",
    "list_b[1:4] = [6,7,8]  \n",
    "\n",
    "# Output: [5,6,7,8]\n",
    "print(list_b)                   "
   ]
  },
  {
   "cell_type": "markdown",
   "metadata": {},
   "source": [
    "We can add one item to a list using append() method or add several items using extend() method."
   ]
  },
  {
   "cell_type": "code",
   "execution_count": 49,
   "metadata": {},
   "outputs": [
    {
     "name": "stdout",
     "output_type": "stream",
     "text": [
      "[1, 3, 5, 7]\n",
      "[1, 3, 5, 7, 9, 11, 13]\n"
     ]
    }
   ],
   "source": [
    "list_c= [1, 3, 5]\n",
    "\n",
    "list_c.append(7)\n",
    "\n",
    "# Output: [1, 3, 5, 7]\n",
    "print(list_c)\n",
    "\n",
    "list_c.extend([9, 11, 13])\n",
    "\n",
    "# Output: [1, 3, 5, 7, 9, 11, 13]\n",
    "print(list_c)"
   ]
  },
  {
   "cell_type": "markdown",
   "metadata": {},
   "source": [
    " We can insert one item at a desired location by using the method insert() or insert multiple items by squeezing it into an empty slice of a list"
   ]
  },
  {
   "cell_type": "code",
   "execution_count": 50,
   "metadata": {},
   "outputs": [
    {
     "name": "stdout",
     "output_type": "stream",
     "text": [
      "[1, 3, 9]\n",
      "[1, 3, 5, 7, 9]\n"
     ]
    }
   ],
   "source": [
    "list_d = [1, 9]\n",
    "list_d.insert(1,3)\n",
    "\n",
    "# Output: [1, 3, 9] \n",
    "print(list_d)\n",
    "\n",
    "list_d[2:2] = [5, 7]\n",
    "\n",
    "# Output: [1, 3, 5, 7, 9]\n",
    "print(list_d)"
   ]
  },
  {
   "cell_type": "markdown",
   "metadata": {},
   "source": [
    "We can also use + operator to combine two lists. This is also called concatenation.\n",
    "\n",
    "The * operator repeats a list for the given number of times."
   ]
  },
  {
   "cell_type": "code",
   "execution_count": 51,
   "metadata": {},
   "outputs": [
    {
     "name": "stdout",
     "output_type": "stream",
     "text": [
      "[1, 3, 5, 9, 7, 5]\n",
      "['re', 're', 're']\n"
     ]
    }
   ],
   "source": [
    "list_e = [1, 3, 5]\n",
    "\n",
    "# Output: [1, 3, 5, 9, 7, 5]\n",
    "print(list_e + [9, 7, 5])\n",
    "\n",
    "#Output: [\"re\", \"re\", \"re\"]\n",
    "print([\"re\"] * 3)"
   ]
  },
  {
   "cell_type": "markdown",
   "metadata": {},
   "source": [
    "#### Delete or remove elements from a list\n",
    "\n",
    "- We can delete one or more items from a list using the keyword del. \n",
    "- We can also delete the entire list."
   ]
  },
  {
   "cell_type": "code",
   "execution_count": 52,
   "metadata": {},
   "outputs": [
    {
     "name": "stdout",
     "output_type": "stream",
     "text": [
      "['p', 'r', 'b', 'l', 'e', 'm']\n",
      "['p', 'm']\n"
     ]
    },
    {
     "ename": "NameError",
     "evalue": "name 'my_list' is not defined",
     "output_type": "error",
     "traceback": [
      "\u001b[1;31m\u001b[0m",
      "\u001b[1;31mNameError\u001b[0mTraceback (most recent call last)",
      "\u001b[1;32m<ipython-input-52-b9b72a444aca>\u001b[0m in \u001b[0;36m<module>\u001b[1;34m()\u001b[0m\n\u001b[0;32m     17\u001b[0m \u001b[1;33m\u001b[0m\u001b[0m\n\u001b[0;32m     18\u001b[0m \u001b[1;31m# Error: List not defined\u001b[0m\u001b[1;33m\u001b[0m\u001b[1;33m\u001b[0m\u001b[0m\n\u001b[1;32m---> 19\u001b[1;33m \u001b[1;32mprint\u001b[0m\u001b[1;33m(\u001b[0m\u001b[0mmy_list\u001b[0m\u001b[1;33m)\u001b[0m\u001b[1;33m\u001b[0m\u001b[0m\n\u001b[0m",
      "\u001b[1;31mNameError\u001b[0m: name 'my_list' is not defined"
     ]
    }
   ],
   "source": [
    "my_list = ['p','r','o','b','l','e','m']\n",
    "\n",
    "# delete one item\n",
    "del my_list[2]\n",
    "\n",
    "# Output: ['p', 'r', 'b', 'l', 'e', 'm']     \n",
    "print(my_list)\n",
    "\n",
    "# delete multiple items\n",
    "del my_list[1:5]  \n",
    "\n",
    "# Output: ['p', 'm']\n",
    "print(my_list)\n",
    "\n",
    "# delete entire list\n",
    "del my_list       \n",
    "\n",
    "# Error: List not defined\n",
    "print(my_list)"
   ]
  },
  {
   "cell_type": "markdown",
   "metadata": {},
   "source": [
    "- We can use remove() method to remove the given item or pop() method to remove an item at the given index.\n",
    "\n",
    "- The pop() method removes and returns the last item if index is not provided. This helps us implement lists as stacks (first in, last out data structure).\n"
   ]
  },
  {
   "cell_type": "code",
   "execution_count": 55,
   "metadata": {},
   "outputs": [
    {
     "name": "stdout",
     "output_type": "stream",
     "text": [
      "['r', 'o', 'b', 'l', 'e', 'm']\n",
      "o\n",
      "['r', 'b', 'l', 'e', 'm']\n",
      "m\n",
      "['r', 'b', 'l', 'e']\n"
     ]
    }
   ],
   "source": [
    "my_list = ['p','r','o','b','l','e','m']\n",
    "my_list.remove('p')\n",
    "\n",
    "# Output: ['r', 'o', 'b', 'l', 'e', 'm']\n",
    "print(my_list)\n",
    "\n",
    "# Output: 'o'\n",
    "print(my_list.pop(1))\n",
    "\n",
    "# Output: ['r', 'b', 'l', 'e', 'm']\n",
    "print(my_list)\n",
    "\n",
    "# Output: 'm'\n",
    "print(my_list.pop())\n",
    "\n",
    "# Output: ['r', 'b', 'l', 'e']\n",
    "print(my_list)\n",
    "\n"
   ]
  },
  {
   "cell_type": "markdown",
   "metadata": {},
   "source": [
    "We can also delete items in a list by assigning an empty list to a slice of elements."
   ]
  },
  {
   "cell_type": "code",
   "execution_count": 56,
   "metadata": {},
   "outputs": [
    {
     "data": {
      "text/plain": [
       "['p', 'r', 'b', 'l', 'e', 'm']"
      ]
     },
     "execution_count": 56,
     "metadata": {},
     "output_type": "execute_result"
    }
   ],
   "source": [
    "my_list = ['p','r','o','b','l','e','m']\n",
    "my_list[2:3] = []\n",
    "my_list"
   ]
  },
  {
   "cell_type": "code",
   "execution_count": null,
   "metadata": {},
   "outputs": [],
   "source": [
    " my_list[2:5] = []\n",
    " my_list"
   ]
  },
  {
   "cell_type": "markdown",
   "metadata": {},
   "source": [
    "### Python List Methods\n",
    "\n",
    "Below are some of the list methods, used as list.method_name(). More information can be found using help()."
   ]
  },
  {
   "cell_type": "markdown",
   "metadata": {},
   "source": [
    "- append() - Add an element to the end of the list\n",
    "- extend() - Add all elements of a list to the another list\n",
    "- insert() - Insert an item at the defined index\n",
    "- remove() - Removes an item from the list\n",
    "- pop() - Removes and returns an element at the given index\n",
    "- clear() - Removes all items from the list\n",
    "- index() - Returns the index of the first matched item\n",
    "- count() - Returns the count of number of items passed as an argument\n",
    "- sort() - Sort items in a list in ascending order\n",
    "- reverse() - Reverse the order of items in the list\n",
    "- copy() - Returns a shallow copy of the list"
   ]
  },
  {
   "cell_type": "code",
   "execution_count": 13,
   "metadata": {},
   "outputs": [
    {
     "name": "stdout",
     "output_type": "stream",
     "text": [
      "1\n",
      "2\n",
      "[0, 1, 3, 4, 6, 8, 8]\n",
      "[8, 8, 6, 4, 3, 1, 0]\n"
     ]
    }
   ],
   "source": [
    "my_list = [3, 8, 1, 6, 0, 8, 4]\n",
    "\n",
    "# Output: 1\n",
    "print(my_list.index(8))\n",
    "\n",
    "# Output: 2\n",
    "print(my_list.count(8))\n",
    "\n",
    "my_list.sort()\n",
    "\n",
    "# Output: [0, 1, 3, 4, 6, 8, 8]\n",
    "print(my_list)\n",
    "\n",
    "my_list.reverse()\n",
    "\n",
    "# Output: [8, 8, 6, 4, 3, 1, 0]\n",
    "print(my_list)"
   ]
  },
  {
   "cell_type": "markdown",
   "metadata": {},
   "source": [
    "#### List Comprehension\n",
    "\n",
    "List comprehension is an elegant and concise way to create new list from an existing list in Python.\n",
    "\n",
    "List comprehension consists of an expression followed by for statement inside square brackets."
   ]
  },
  {
   "cell_type": "code",
   "execution_count": 14,
   "metadata": {},
   "outputs": [
    {
     "name": "stdout",
     "output_type": "stream",
     "text": [
      "[1, 2, 4, 8, 16, 32, 64, 128, 256, 512]\n"
     ]
    }
   ],
   "source": [
    "pow2 = [2 ** x for x in range(10)]\n",
    "\n",
    "# Output: [1, 2, 4, 8, 16, 32, 64, 128, 256, 512]\n",
    "print(pow2)"
   ]
  },
  {
   "cell_type": "markdown",
   "metadata": {},
   "source": [
    "#### List Membership Test\n",
    "\n",
    "We can test if an item exists in a list or not, using the keyword \"in\"."
   ]
  },
  {
   "cell_type": "code",
   "execution_count": 18,
   "metadata": {},
   "outputs": [
    {
     "name": "stdout",
     "output_type": "stream",
     "text": [
      "False\n",
      "True\n",
      "False\n"
     ]
    }
   ],
   "source": [
    "my_list = ['l','e','v','i','o','s','a']\n",
    "\n",
    "# Output: True\n",
    "print('p' in my_list)\n",
    "\n",
    "# Output: False\n",
    "print('a' in my_list)\n",
    "\n",
    "# Output: True\n",
    "print('i' not in my_list)"
   ]
  },
  {
   "cell_type": "markdown",
   "metadata": {},
   "source": [
    "### Iterating Through a List\n",
    "\n",
    "Using a <b>for</b> loop we can iterate though each item in a list."
   ]
  },
  {
   "cell_type": "code",
   "execution_count": 19,
   "metadata": {},
   "outputs": [
    {
     "name": "stdout",
     "output_type": "stream",
     "text": [
      "('I like', 'green')\n",
      "('I like', 'purple')\n",
      "('I like', 'yellow')\n"
     ]
    }
   ],
   "source": [
    "for color in ['green','purple','yellow']:\n",
    "    print(\"I like\",color)"
   ]
  },
  {
   "cell_type": "markdown",
   "metadata": {},
   "source": [
    "### Conditional statements in Lists\n",
    "\n",
    "IF statement"
   ]
  },
  {
   "cell_type": "code",
   "execution_count": 77,
   "metadata": {},
   "outputs": [
    {
     "name": "stdout",
     "output_type": "stream",
     "text": [
      "3 is in List\n"
     ]
    }
   ],
   "source": [
    "# if statement which shows if 3 is in the list or not\n",
    "my_list = [1,3,4,6]\n",
    "if 3 in my_list:\n",
    "    print(\"3 is in List\")\n",
    "else:\n",
    "    print(\"3 is not in list\")"
   ]
  },
  {
   "cell_type": "markdown",
   "metadata": {},
   "source": [
    "### Lambda Function in Lists\n",
    "\n",
    "Python supports lambda expressions rather than full lambda functions. The distinction is that the body of a Python lambda can only contain an expression and cannot accept a suite (or block) of statements"
   ]
  },
  {
   "cell_type": "code",
   "execution_count": 79,
   "metadata": {},
   "outputs": [
    {
     "data": {
      "text/plain": [
       "[2, 4, 6, 8]"
      ]
     },
     "execution_count": 79,
     "metadata": {},
     "output_type": "execute_result"
    }
   ],
   "source": [
    "# Lambda function to give the double of an element in a list\n",
    "A = [1,2,3,4]\n",
    "B= map(lambda x: x*2, A)\n",
    "B"
   ]
  },
  {
   "cell_type": "code",
   "execution_count": 63,
   "metadata": {},
   "outputs": [
    {
     "data": {
      "text/plain": [
       "[8, 5, 7]"
      ]
     },
     "execution_count": 63,
     "metadata": {},
     "output_type": "execute_result"
    }
   ],
   "source": [
    "my_set={5,8,7}\n",
    "my_list=lambda i:list(i)\n",
    "my_list=my_list(my_set)\n",
    "my_list\n",
    "\n",
    "#Here, we first took a set {5,8,7}.\n",
    "#Then, we defined a lambda function, and stored it in the variable ‘my_list’.\n",
    "#This lambda function takes a value, converts it into a list, and returns it. \n",
    "#Finally, we called my_list on the set my_set, and stored it in the variable my_list, which now holds a list."
   ]
  },
  {
   "cell_type": "markdown",
   "metadata": {},
   "source": [
    "#### Built-in Functions with List\n",
    "Built-in functions like all(), any(), enumerate(), len(), max(), min(), list(), sorted() etc. are commonly used with list to perform different tasks.\n",
    "\n",
    "- all()\tReturn True if all elements of the list are true (or if the list is empty).\n",
    "- any()\tReturn True if any element of the list is true. If the list is empty, return False.\n",
    "- enumerate()\tReturn an enumerate object. It contains the index and value of all the items of list as a tuple.\n",
    "- len()\tReturn the length (the number of items) in the list.\n",
    "- list()\tConvert an iterable (tuple, string, set, dictionary) to a list.\n",
    "- max()\tReturn the largest item in the list.\n",
    "- min()\tReturn the smallest item in the list\n",
    "- sorted()\tReturn a new sorted list (does not sort the list itself).\n",
    "- sum()\tReturn the sum of all elements in the list."
   ]
  },
  {
   "cell_type": "code",
   "execution_count": 24,
   "metadata": {},
   "outputs": [
    {
     "data": {
      "text/plain": [
       "6"
      ]
     },
     "execution_count": 24,
     "metadata": {},
     "output_type": "execute_result"
    }
   ],
   "source": [
    "my_list=[1,2,3]\n",
    "sum(my_list)"
   ]
  },
  {
   "cell_type": "markdown",
   "metadata": {},
   "source": [
    "## Tuple\n",
    "\n",
    "- Tuples are immutable, meaning we cannot change the elements of a tuple once it is assigned.\n",
    "- A tuple is created by placing all the items (elements) inside a parentheses (), separated by comma.\n",
    "- A tuple can have any number of items and they may be of different types (integer, float, list, string etc.)."
   ]
  },
  {
   "cell_type": "code",
   "execution_count": 26,
   "metadata": {},
   "outputs": [
    {
     "name": "stdout",
     "output_type": "stream",
     "text": [
      "()\n",
      "(1, 2, 3)\n",
      "(1, 'Hello', 3.4)\n"
     ]
    }
   ],
   "source": [
    "# empty tuple\n",
    "# Output: ()\n",
    "my_tuple = ()\n",
    "print(my_tuple)\n",
    "\n",
    "# tuple having integers\n",
    "# Output: (1, 2, 3)\n",
    "my_tuple = (1, 2, 3)\n",
    "print(my_tuple)\n",
    "\n",
    "# tuple with mixed datatypes\n",
    "# Output: (1, \"Hello\", 3.4)\n",
    "my_tuple = (1, \"Hello\", 3.4)\n",
    "print(my_tuple)\n",
    "\n"
   ]
  },
  {
   "cell_type": "markdown",
   "metadata": {},
   "source": [
    "#### Nested tuple"
   ]
  },
  {
   "cell_type": "code",
   "execution_count": 29,
   "metadata": {
    "scrolled": true
   },
   "outputs": [
    {
     "name": "stdout",
     "output_type": "stream",
     "text": [
      "('mouse', [8, 4, 6], (1, 2, 3))\n"
     ]
    }
   ],
   "source": [
    "\n",
    "# Output: (\"mouse\", [8, 4, 6], (1, 2, 3))\n",
    "my_tuple = (\"mouse\", [8, 4, 6], (1, 2, 3))\n",
    "print(my_tuple)\n",
    "\n"
   ]
  },
  {
   "cell_type": "markdown",
   "metadata": {},
   "source": [
    "#### Tuple packing\n",
    "\n",
    "Tuple can be created without parentheses, also called tuple packing."
   ]
  },
  {
   "cell_type": "code",
   "execution_count": 31,
   "metadata": {},
   "outputs": [
    {
     "name": "stdout",
     "output_type": "stream",
     "text": [
      "(3, 4.6, 'dog')\n"
     ]
    }
   ],
   "source": [
    "# Output: 3, 4.6, \"dog\"\n",
    "\n",
    "my_tuple = 3, 4.6, \"dog\"\n",
    "print(my_tuple)\n",
    "\n"
   ]
  },
  {
   "cell_type": "markdown",
   "metadata": {},
   "source": [
    "#### Tuple unpacking"
   ]
  },
  {
   "cell_type": "code",
   "execution_count": 32,
   "metadata": {},
   "outputs": [
    {
     "name": "stdout",
     "output_type": "stream",
     "text": [
      "3\n",
      "4.6\n",
      "dog\n"
     ]
    }
   ],
   "source": [
    "# Output:\n",
    "# 3\n",
    "# 4.6\n",
    "# dog\n",
    "a, b, c = my_tuple\n",
    "print(a)\n",
    "print(b)\n",
    "print(c)"
   ]
  },
  {
   "cell_type": "markdown",
   "metadata": {},
   "source": [
    "Creating a tuple with one element is a bit tricky.\n",
    "\n",
    "Having one element within parentheses is not enough. We will need a trailing comma to indicate that it is in fact a tuple."
   ]
  },
  {
   "cell_type": "markdown",
   "metadata": {},
   "source": [
    "#### Tuple Indexing\n",
    "\n",
    "- We can use the index operator [] to access an item in a tuple where the index starts from 0.\n",
    "- Only integer numbers are used for indexing.\n",
    "- Index starts from 0."
   ]
  },
  {
   "cell_type": "code",
   "execution_count": 34,
   "metadata": {},
   "outputs": [
    {
     "name": "stdout",
     "output_type": "stream",
     "text": [
      "a\n",
      "m\n"
     ]
    }
   ],
   "source": [
    "my_tuple = ('a','l','o','h','o','m','o','r','a')\n",
    "\n",
    "# Output: 'a'\n",
    "print(my_tuple[0])\n",
    "\n",
    "# Output: 'm'\n",
    "print(my_tuple[5])"
   ]
  },
  {
   "cell_type": "markdown",
   "metadata": {},
   "source": [
    "Nested tuple are accessed using nested indexing"
   ]
  },
  {
   "cell_type": "code",
   "execution_count": 36,
   "metadata": {},
   "outputs": [
    {
     "name": "stdout",
     "output_type": "stream",
     "text": [
      "i\n",
      "4\n"
     ]
    }
   ],
   "source": [
    "# nested tuple indeexing\n",
    "n_tuple = (\"Riddikulus\", [8, 4, 6], (1, 2, 3))\n",
    "\n",
    "# nested index\n",
    "# Output: 'i'\n",
    "print(n_tuple[0][1])\n",
    "\n",
    "# nested index\n",
    "# Output: 4\n",
    "print(n_tuple[1][1])"
   ]
  },
  {
   "cell_type": "code",
   "execution_count": 37,
   "metadata": {},
   "outputs": [
    {
     "ename": "TypeError",
     "evalue": "tuple indices must be integers, not float",
     "output_type": "error",
     "traceback": [
      "\u001b[1;31m\u001b[0m",
      "\u001b[1;31mTypeError\u001b[0mTraceback (most recent call last)",
      "\u001b[1;32m<ipython-input-37-a1fe60fde702>\u001b[0m in \u001b[0;36m<module>\u001b[1;34m()\u001b[0m\n\u001b[0;32m      1\u001b[0m \u001b[1;31m#index other than integer will throw an error\u001b[0m\u001b[1;33m\u001b[0m\u001b[1;33m\u001b[0m\u001b[0m\n\u001b[1;32m----> 2\u001b[1;33m \u001b[0mmy_tuple\u001b[0m\u001b[1;33m[\u001b[0m\u001b[1;36m2.0\u001b[0m\u001b[1;33m]\u001b[0m\u001b[1;33m\u001b[0m\u001b[0m\n\u001b[0m",
      "\u001b[1;31mTypeError\u001b[0m: tuple indices must be integers, not float"
     ]
    }
   ],
   "source": [
    "#index other than integer will throw a Type Error\n",
    "my_tuple[2.0]"
   ]
  },
  {
   "cell_type": "markdown",
   "metadata": {},
   "source": [
    "#### Negative Indexing\n",
    "\n",
    "- Python allows negative indexing for its sequences.\n",
    "- The index of -1 refers to the last item, -2 to the second last item and so on."
   ]
  },
  {
   "cell_type": "code",
   "execution_count": 39,
   "metadata": {},
   "outputs": [
    {
     "name": "stdout",
     "output_type": "stream",
     "text": [
      "r\n",
      "h\n"
     ]
    }
   ],
   "source": [
    "my_tuple = ('a','l','o','h','o','m','o','r','a')\n",
    "\n",
    "# Output: 'r'\n",
    "print(my_tuple[-2])\n",
    "\n",
    "# Output: 'h'\n",
    "print(my_tuple[-6])"
   ]
  },
  {
   "cell_type": "markdown",
   "metadata": {},
   "source": [
    "#### Slicing\n",
    "\n",
    "We can access a range of items in a tuple by using the slicing operator - colon \":\"."
   ]
  },
  {
   "cell_type": "code",
   "execution_count": 41,
   "metadata": {},
   "outputs": [
    {
     "name": "stdout",
     "output_type": "stream",
     "text": [
      "('b', 'l', 'i')\n",
      "('o', 'b')\n",
      "('t', 'e')\n",
      "('o', 'b', 'l', 'i', 'v', 'i', 'a', 't', 'e')\n"
     ]
    }
   ],
   "source": [
    "my_tuple = ('o','b','l','i','v','i','a','t','e')\n",
    "\n",
    "# elements 2nd to 4th\n",
    "# Output: ('b', 'l', 'i')\n",
    "print(my_tuple[1:4])\n",
    "\n",
    "# elements beginning to 2nd\n",
    "# Output: ('o', 'b')\n",
    "print(my_tuple[:-7])\n",
    "\n",
    "# elements 8th to end\n",
    "# Output: ('t', 'e')\n",
    "print(my_tuple[7:])\n",
    "\n",
    "# elements beginning to end\n",
    "# Output: ('o', 'b', 'l', 'i', 'v', 'i', 'a', 't', 'e')\n",
    "print(my_tuple[:])"
   ]
  },
  {
   "cell_type": "markdown",
   "metadata": {},
   "source": [
    "#### Changing a Tuple\n",
    "\n",
    "Unlike lists, tuples are immutable.\n",
    "\n",
    "The elements of a tuple cannot be changed once it has been assigned. But, if the element is itself a mutable datatype like list, its nested items can be changed.\n",
    "\n",
    "We can also assign a tuple to different values (reassignment)."
   ]
  },
  {
   "cell_type": "code",
   "execution_count": 44,
   "metadata": {},
   "outputs": [
    {
     "ename": "TypeError",
     "evalue": "'tuple' object does not support item assignment",
     "output_type": "error",
     "traceback": [
      "\u001b[1;31m\u001b[0m",
      "\u001b[1;31mTypeError\u001b[0mTraceback (most recent call last)",
      "\u001b[1;32m<ipython-input-44-f912650b67e0>\u001b[0m in \u001b[0;36m<module>\u001b[1;34m()\u001b[0m\n\u001b[0;32m      5\u001b[0m \u001b[1;31m# TypeError: 'tuple' object does not support item assignment\u001b[0m\u001b[1;33m\u001b[0m\u001b[1;33m\u001b[0m\u001b[0m\n\u001b[0;32m      6\u001b[0m \u001b[1;33m\u001b[0m\u001b[0m\n\u001b[1;32m----> 7\u001b[1;33m \u001b[0mmy_tuple\u001b[0m\u001b[1;33m[\u001b[0m\u001b[1;36m1\u001b[0m\u001b[1;33m]\u001b[0m \u001b[1;33m=\u001b[0m \u001b[1;36m9\u001b[0m\u001b[1;33m\u001b[0m\u001b[0m\n\u001b[0m",
      "\u001b[1;31mTypeError\u001b[0m: 'tuple' object does not support item assignment"
     ]
    }
   ],
   "source": [
    "my_tuple = (4, 2, 3, [6, 5])\n",
    "\n",
    "# we cannot change an element\n",
    "# If you try to change it, it will show an Error\n",
    "# TypeError: 'tuple' object does not support item assignment\n",
    "\n",
    "my_tuple[1] = 9\n"
   ]
  },
  {
   "cell_type": "code",
   "execution_count": 45,
   "metadata": {},
   "outputs": [
    {
     "name": "stdout",
     "output_type": "stream",
     "text": [
      "(4, 2, 3, [9, 5])\n",
      "('o', 'b', 'l', 'i', 'v', 'i', 'a', 't', 'e')\n"
     ]
    }
   ],
   "source": [
    "# But item of mutable element can be changed\n",
    "# Output: (4, 2, 3, [9, 5])\n",
    "my_tuple[3][0] = 9\n",
    "print(my_tuple)\n",
    "\n",
    "# tuples can be reassigned\n",
    "\n",
    "my_tuple = ('o','b','l','i','v','i','a','t','e')\n",
    "print(my_tuple)"
   ]
  },
  {
   "cell_type": "markdown",
   "metadata": {},
   "source": [
    "#### Concatenation\n",
    "\n",
    "We can use + operator to combine two tuples.\n",
    "\n",
    "We can also repeat the elements in a tuple for a given number of times using the * operator.\n",
    "\n",
    "Both + and * operations result into a new tuple."
   ]
  },
  {
   "cell_type": "code",
   "execution_count": 46,
   "metadata": {},
   "outputs": [
    {
     "name": "stdout",
     "output_type": "stream",
     "text": [
      "(1, 2, 3, 4, 5, 6)\n",
      "('Dance', 'Dance', 'Dance')\n"
     ]
    }
   ],
   "source": [
    "# Concatenation\n",
    "# Output: (1, 2, 3, 4, 5, 6)\n",
    "print((1, 2, 3) + (4, 5, 6))\n",
    "\n",
    "# Repeat\n",
    "# Output: ('Dance', 'Dance', 'Dance')\n",
    "print((\"Dance\",) * 3)"
   ]
  },
  {
   "cell_type": "markdown",
   "metadata": {},
   "source": [
    "#### Deleting a Tuple\n",
    "\n",
    "As Tuples are immutable,we cannot change the elements in a tuple. That also means we cannot delete or remove items from a tuple.\n",
    "\n",
    "But we can delete an Tuple using keyword \"del\""
   ]
  },
  {
   "cell_type": "code",
   "execution_count": 51,
   "metadata": {},
   "outputs": [
    {
     "ename": "TypeError",
     "evalue": "'tuple' object doesn't support item deletion",
     "output_type": "error",
     "traceback": [
      "\u001b[1;31m\u001b[0m",
      "\u001b[1;31mTypeError\u001b[0mTraceback (most recent call last)",
      "\u001b[1;32m<ipython-input-51-8c407ef873a8>\u001b[0m in \u001b[0;36m<module>\u001b[1;34m()\u001b[0m\n\u001b[0;32m      4\u001b[0m \u001b[1;31m# if you try to delete an item you will get an error\u001b[0m\u001b[1;33m\u001b[0m\u001b[1;33m\u001b[0m\u001b[0m\n\u001b[0;32m      5\u001b[0m \u001b[1;33m\u001b[0m\u001b[0m\n\u001b[1;32m----> 6\u001b[1;33m \u001b[1;32mdel\u001b[0m \u001b[0mmy_tuple\u001b[0m\u001b[1;33m[\u001b[0m\u001b[1;36m3\u001b[0m\u001b[1;33m]\u001b[0m\u001b[1;33m\u001b[0m\u001b[0m\n\u001b[0m",
      "\u001b[1;31mTypeError\u001b[0m: 'tuple' object doesn't support item deletion"
     ]
    }
   ],
   "source": [
    "my_tuple = ('o', 'b', 'l', 'i', 'v', 'i', 'a', 't', 'e')\n",
    "\n",
    "# you can't delete items\n",
    "# if you try to delete an item you will get an error\n",
    "\n",
    "del my_tuple[3]\n"
   ]
  },
  {
   "cell_type": "code",
   "execution_count": 52,
   "metadata": {},
   "outputs": [],
   "source": [
    "# But we can delete entire tuple\n",
    "del my_tuple"
   ]
  },
  {
   "cell_type": "code",
   "execution_count": 53,
   "metadata": {},
   "outputs": [
    {
     "ename": "NameError",
     "evalue": "name 'my_tuple' is not defined",
     "output_type": "error",
     "traceback": [
      "\u001b[1;31m\u001b[0m",
      "\u001b[1;31mNameError\u001b[0mTraceback (most recent call last)",
      "\u001b[1;32m<ipython-input-53-04b36b148cc9>\u001b[0m in \u001b[0;36m<module>\u001b[1;34m()\u001b[0m\n\u001b[1;32m----> 1\u001b[1;33m \u001b[0mmy_tuple\u001b[0m\u001b[1;33m\u001b[0m\u001b[0m\n\u001b[0m",
      "\u001b[1;31mNameError\u001b[0m: name 'my_tuple' is not defined"
     ]
    }
   ],
   "source": [
    "my_tuple"
   ]
  },
  {
   "cell_type": "markdown",
   "metadata": {},
   "source": [
    "#### Python Tuple Methods\n",
    "\n",
    "Methods that add items or remove items are not available with tuple. Only the following two methods are available.\n",
    "\n",
    "- count(x)\tReturn the number of items that is equal to x\n",
    "- index(x)\tReturn index of first item that is equal to x\n"
   ]
  },
  {
   "cell_type": "code",
   "execution_count": 55,
   "metadata": {},
   "outputs": [
    {
     "name": "stdout",
     "output_type": "stream",
     "text": [
      "3\n",
      "2\n"
     ]
    }
   ],
   "source": [
    "my_tuple = ('a','l','o','h','o','m','o','r','a')\n",
    "\n",
    "# Count\n",
    "# Output: 3\n",
    "print(my_tuple.count('o'))\n",
    "\n",
    "# Index\n",
    "# Output: 2\n",
    "print(my_tuple.index('o'))\n",
    "# shows index of the first 'o' in the tuple."
   ]
  },
  {
   "cell_type": "markdown",
   "metadata": {},
   "source": [
    "#### Tuple Membership Test\n",
    "\n",
    "We can test if an item exists in a tuple or not, using the keyword \"in\".\n",
    "\n"
   ]
  },
  {
   "cell_type": "code",
   "execution_count": 56,
   "metadata": {},
   "outputs": [
    {
     "name": "stdout",
     "output_type": "stream",
     "text": [
      "True\n",
      "False\n",
      "True\n"
     ]
    }
   ],
   "source": [
    "my_tuple = ('a','l','o','h','o','m','o','r','a')\n",
    "\n",
    "# In operation\n",
    "# Output: True\n",
    "print('a' in my_tuple)\n",
    "\n",
    "# Output: False\n",
    "print('b' in my_tuple)\n",
    "\n",
    "# Not in operation\n",
    "# Output: True\n",
    "print('g' not in my_tuple)"
   ]
  },
  {
   "cell_type": "markdown",
   "metadata": {},
   "source": [
    "### Iterating Through a Tuple\n",
    "\n",
    "Using a \"for\" loop we can iterate though each item in a tuple."
   ]
  },
  {
   "cell_type": "code",
   "execution_count": 57,
   "metadata": {},
   "outputs": [
    {
     "name": "stdout",
     "output_type": "stream",
     "text": [
      "('Hello', 'Harry')\n",
      "('Hello', 'Louis')\n"
     ]
    }
   ],
   "source": [
    "for name in ('Harry','Louis'):\n",
    "     print(\"Hello\",name)    "
   ]
  },
  {
   "cell_type": "markdown",
   "metadata": {},
   "source": [
    "### Conditional statements on  a Tuple"
   ]
  },
  {
   "cell_type": "code",
   "execution_count": 82,
   "metadata": {},
   "outputs": [
    {
     "name": "stdout",
     "output_type": "stream",
     "text": [
      "3 is in Tuple\n"
     ]
    }
   ],
   "source": [
    "# if statement which shows if 3 is in the list or not\n",
    "my_tuple = (1,3,4,6)\n",
    "if 3 in my_tuple:\n",
    "    print(\"3 is in Tuple\")\n",
    "else:\n",
    "    print(\"3 is not in tuple\")\n",
    "#behaves in the same as way as that of a list"
   ]
  },
  {
   "cell_type": "markdown",
   "metadata": {},
   "source": [
    "### Lambda in Tuple"
   ]
  },
  {
   "cell_type": "code",
   "execution_count": 90,
   "metadata": {},
   "outputs": [
    {
     "name": "stdout",
     "output_type": "stream",
     "text": [
      "[2, 4, 6, 8]\n",
      "<type 'tuple'>\n",
      "<type 'list'>\n"
     ]
    }
   ],
   "source": [
    "# Lambda function to give the double of an element in a Tuple\n",
    "C = (1,2,3,4)\n",
    "D= map(lambda x: x*2, A)\n",
    "print(D)\n",
    "print(type(C))\n",
    "print(type(D))\n",
    "#behaves in the same way as list, But output is in a list."
   ]
  },
  {
   "cell_type": "markdown",
   "metadata": {},
   "source": [
    "#### Built-in Functions with Tuple\n",
    "\n",
    "- all()\tReturn True if all elements of the tuple are true (or if the tuple is empty).\n",
    "- any()\tReturn True if any element of the tuple is true. If the tuple is empty, return False.\n",
    "- enumerate()\tReturn an enumerate object. It contains the index and value of all the items of tuple as pairs.\n",
    "- len()\tReturn the length (the number of items) in the tuple.\n",
    "- max()\tReturn the largest item in the tuple.\n",
    "- min()\tReturn the smallest item in the tuple\n",
    "- sorted()\tTake elements in the tuple and return a new sorted list (does not sort the tuple itself).\n",
    "- sum()\tRetrun the sum of all elements in the tuple.\n",
    "- tuple()\tConvert an iterable (list, string, set, dictionary) to a tuple."
   ]
  },
  {
   "cell_type": "code",
   "execution_count": 60,
   "metadata": {},
   "outputs": [
    {
     "name": "stdout",
     "output_type": "stream",
     "text": [
      "6\n",
      "1\n",
      "<enumerate object at 0x0000000004C45798>\n"
     ]
    }
   ],
   "source": [
    "my_tuple=(1,2,3)\n",
    "print(sum(my_tuple))\n",
    "print(min(my_tuple))\n",
    "print(enumerate(my_tuple))"
   ]
  },
  {
   "cell_type": "markdown",
   "metadata": {},
   "source": [
    "# Difference between List and Tuple\n",
    "\n",
    "## List\n",
    "\n",
    "- A list is a mutable data structure.\n",
    "- The literal syntax of lists is shown by parenthesis () \n",
    "- Lists are homogeneous sequences.\n",
    "- Lists are for variable length. \n",
    "- We can add or remove elements in a List.\n",
    "- Lists show order.\n",
    "- Lists have O(1) append, insert and delete performance.\n",
    "\n",
    "## Tuple\n",
    "\n",
    "- A tuple is a immutable data structure.\n",
    "- The literal syntax of tuples is shown by square brackets [] \n",
    "- Tuples are heterogeneous data structures (i.e., their entries have different meanings)\n",
    "- Tuples are of fixed length.\n",
    "- We cannot add or remove elements in a Tuple.\n",
    "- Tuples show structure.\n",
    "- Tuples have O(N) append, insert, and delete performance.\n"
   ]
  },
  {
   "cell_type": "markdown",
   "metadata": {},
   "source": [
    "## Reference\n",
    "\n",
    "[1] https://www.programiz.com/python-programming"
   ]
  },
  {
   "cell_type": "code",
   "execution_count": null,
   "metadata": {},
   "outputs": [],
   "source": []
  }
 ],
 "metadata": {
  "kernelspec": {
   "display_name": "Python 2",
   "language": "python",
   "name": "python2"
  },
  "language_info": {
   "codemirror_mode": {
    "name": "ipython",
    "version": 2
   },
   "file_extension": ".py",
   "mimetype": "text/x-python",
   "name": "python",
   "nbconvert_exporter": "python",
   "pygments_lexer": "ipython2",
   "version": "2.7.15"
  }
 },
 "nbformat": 4,
 "nbformat_minor": 2
}

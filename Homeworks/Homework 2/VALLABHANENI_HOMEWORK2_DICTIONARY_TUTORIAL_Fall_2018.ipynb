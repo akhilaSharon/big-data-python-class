{
 "cells": [
  {
   "cell_type": "markdown",
   "metadata": {},
   "source": [
    "# Use of Dictionaries\n",
    "\n",
    "Python dictionary is an unordered collection of items. While other compound data types have only value as an element, a dictionary has a key: value pair.\n",
    "\n",
    "Dictionaries are optimized to retrieve values when the key is known."
   ]
  },
  {
   "cell_type": "markdown",
   "metadata": {},
   "source": [
    "## Creating a Dictionary\n",
    " \n",
    " A dictionary is created  by putting the items/elements inside curly braces {} seperated by commas ','.\n",
    " \n",
    " An item has a key and the corresponding value expressed as a pair, \"key: value\".\n",
    " \n",
    " While values can be of any data type and can repeat, keys must be of immutable type (string, number or tuple with immutable elements) and must be unique.\n",
    " "
   ]
  },
  {
   "cell_type": "code",
   "execution_count": 1,
   "metadata": {},
   "outputs": [
    {
     "name": "stdout",
     "output_type": "stream",
     "text": [
      "{}\n",
      "{1: 'green', 2: 'blue'}\n",
      "{1: 'apple', 2: 'mango'}\n",
      "{1: 'apple', 2: 'mango'}\n"
     ]
    }
   ],
   "source": [
    "# empty dictionary\n",
    "my_dict = {}\n",
    "print(my_dict)\n",
    "\n",
    "# dictionary with integer keys\n",
    "my_dict = {1: 'green', 2: 'blue'}\n",
    "print(my_dict)\n",
    "\n",
    "# dictionary with mixed keys\n",
    "my_dict = {'name': 'Harry', 1: [2,4]}\n",
    "\n",
    "# using dict()\n",
    "#The dict() constructor builds dictionaries directly from sequences of key-value pairs\n",
    "my_dict = dict({1:'apple', 2:'mango'})\n",
    "print(my_dict)\n",
    "\n",
    "# from sequence having each item as a pair\n",
    "my_dict = dict([(1,'apple'), (2,'mango')])\n",
    "print(my_dict)"
   ]
  },
  {
   "cell_type": "markdown",
   "metadata": {},
   "source": [
    "## Accessing elements from Dictionary\n",
    "\n",
    "Dictionary uses \"Keys\" to access elements.\n",
    "\n",
    "Key can be used either inside square brackets [] or with the get() method."
   ]
  },
  {
   "cell_type": "code",
   "execution_count": 3,
   "metadata": {},
   "outputs": [
    {
     "name": "stdout",
     "output_type": "stream",
     "text": [
      "Harry\n",
      "24\n"
     ]
    }
   ],
   "source": [
    "my_dict = {'name':'Harry', 'age': 24}\n",
    "print(my_dict['name'])\n",
    "print(my_dict.get('age'))"
   ]
  },
  {
   "cell_type": "code",
   "execution_count": 6,
   "metadata": {},
   "outputs": [],
   "source": [
    "# Trying to access keys which doesn't exist throws error\n",
    "my_dict.get('address')"
   ]
  },
  {
   "cell_type": "code",
   "execution_count": 7,
   "metadata": {},
   "outputs": [
    {
     "ename": "KeyError",
     "evalue": "'address'",
     "output_type": "error",
     "traceback": [
      "\u001b[1;31m\u001b[0m",
      "\u001b[1;31mKeyError\u001b[0mTraceback (most recent call last)",
      "\u001b[1;32m<ipython-input-7-b5c2477cb08e>\u001b[0m in \u001b[0;36m<module>\u001b[1;34m()\u001b[0m\n\u001b[1;32m----> 1\u001b[1;33m \u001b[0mmy_dict\u001b[0m\u001b[1;33m[\u001b[0m\u001b[1;34m'address'\u001b[0m\u001b[1;33m]\u001b[0m\u001b[1;33m\u001b[0m\u001b[0m\n\u001b[0m",
      "\u001b[1;31mKeyError\u001b[0m: 'address'"
     ]
    }
   ],
   "source": [
    "my_dict['address']"
   ]
  },
  {
   "cell_type": "markdown",
   "metadata": {},
   "source": [
    "<b>The difference while using get() is that it returns None instead of KeyError, if the key is not found.</b>"
   ]
  },
  {
   "cell_type": "markdown",
   "metadata": {},
   "source": [
    "## Modify or add elements in a dictionary\n",
    "\n",
    "Dictionary are mutable. We can add new items or change the value of existing items using assignment(=) operator.\n",
    "\n",
    "If the key is already present, value gets updated, else a new key: value pair is added to the dictionary."
   ]
  },
  {
   "cell_type": "code",
   "execution_count": 8,
   "metadata": {},
   "outputs": [
    {
     "name": "stdout",
     "output_type": "stream",
     "text": [
      "{'age': 27, 'name': 'Louis'}\n",
      "{'age': 27, 'name': 'Louis', 'address': 'Downtown'}\n"
     ]
    }
   ],
   "source": [
    "my_dict = {'name':'Louis', 'age': 26}\n",
    "\n",
    "# update value\n",
    "my_dict['age'] = 27\n",
    "\n",
    "#Output: {'age': 27, 'name': 'Louis'}\n",
    "print(my_dict)\n",
    "\n",
    "# add item\n",
    "my_dict['address'] = 'Downtown'  \n",
    "\n",
    "# Output: {'address': 'Downtown', 'age': 27, 'name': 'Louis'}\n",
    "print(my_dict)"
   ]
  },
  {
   "cell_type": "markdown",
   "metadata": {},
   "source": [
    "## Delete or remove elements from a dictionary\n",
    "\n",
    "We can remove a particular item in a dictionary by using the method pop(). \n",
    "This method removes as item with the provided key and returns the value.\n",
    "\n",
    "The method, popitem() can be used to remove and return an arbitrary item (key, value) form the dictionary.\n",
    "All the items can be removed at once using the clear() method.\n",
    "\n",
    "We can also use the \"del\" keyword to remove individual items or the entire dictionary itself."
   ]
  },
  {
   "cell_type": "code",
   "execution_count": 9,
   "metadata": {},
   "outputs": [
    {
     "name": "stdout",
     "output_type": "stream",
     "text": [
      "8\n",
      "{1: 2, 2: 4, 3: 6, 5: 10}\n",
      "(1, 2)\n",
      "{2: 4, 3: 6, 5: 10}\n",
      "{2: 4, 3: 6}\n",
      "{}\n"
     ]
    }
   ],
   "source": [
    "# create a dictionary\n",
    "doubles = {1:2, 2:4, 3:6, 4:8, 5:10}  \n",
    "\n",
    "# remove a particular item\n",
    "# Output: 8\n",
    "print(doubles.pop(4))  \n",
    "\n",
    "# Output: {1: 2, 2: 4, 3: 6, 5: 10}\n",
    "print(doubles)\n",
    "\n",
    "# remove an arbitrary item\n",
    "# Output: (1, 2)\n",
    "print(doubles.popitem())\n",
    "\n",
    "# Output: {2: 4, 3: 6, 5: 10}\n",
    "print(doubles)\n",
    "\n",
    "# delete a particular item\n",
    "del doubles[5]  \n",
    "\n",
    "# Output: {2: 4, 3: 6}\n",
    "print(doubles)\n",
    "\n",
    "# remove all items\n",
    "doubles.clear()\n",
    "\n",
    "# Output: {}\n",
    "print(doubles)\n",
    "\n",
    "# delete the dictionary itself\n",
    "del doubles\n",
    "\n"
   ]
  },
  {
   "cell_type": "code",
   "execution_count": 10,
   "metadata": {},
   "outputs": [
    {
     "ename": "NameError",
     "evalue": "name 'squares' is not defined",
     "output_type": "error",
     "traceback": [
      "\u001b[1;31m\u001b[0m",
      "\u001b[1;31mNameError\u001b[0mTraceback (most recent call last)",
      "\u001b[1;32m<ipython-input-10-cf2646ef9bf4>\u001b[0m in \u001b[0;36m<module>\u001b[1;34m()\u001b[0m\n\u001b[0;32m      1\u001b[0m \u001b[1;31m# Throws Error\u001b[0m\u001b[1;33m\u001b[0m\u001b[1;33m\u001b[0m\u001b[0m\n\u001b[1;32m----> 2\u001b[1;33m \u001b[1;32mprint\u001b[0m\u001b[1;33m(\u001b[0m\u001b[0msquares\u001b[0m\u001b[1;33m)\u001b[0m\u001b[1;33m\u001b[0m\u001b[0m\n\u001b[0m",
      "\u001b[1;31mNameError\u001b[0m: name 'squares' is not defined"
     ]
    }
   ],
   "source": [
    "# Throws Error\n",
    "print(squares)"
   ]
  },
  {
   "cell_type": "markdown",
   "metadata": {},
   "source": [
    "##  Merging two Dictionaries\n",
    "\n",
    "There are various ways in which Dictionaries can be merged by the use of various functions and constructors in Python."
   ]
  },
  {
   "cell_type": "markdown",
   "metadata": {},
   "source": [
    "### 1.  Using the method update()\n",
    "\n",
    "By using the method update() in Python, one list can be merged into another. \n"
   ]
  },
  {
   "cell_type": "code",
   "execution_count": 14,
   "metadata": {},
   "outputs": [
    {
     "name": "stdout",
     "output_type": "stream",
     "text": [
      "{'a': 10, 'b': 8}\n",
      "{'a': 10, 'c': 4, 'b': 8, 'd': 6}\n"
     ]
    }
   ],
   "source": [
    "# In this the second list is merged into the first list and no new list is created. \n",
    "# dict2 is the new merged Dictionary\n",
    "\n",
    "dict1 = {'a': 10, 'b': 8} \n",
    "dict2 = {'d': 6, 'c': 4} \n",
    "dict2.update(dict1)\n",
    "print(dict1)\n",
    "print(dict2)"
   ]
  },
  {
   "cell_type": "markdown",
   "metadata": {},
   "source": [
    "### 2. Using ** in Python (Python 3 )\n",
    "\n",
    "A single expression is used to merge two dictionaries and stored in a third dictionary. \n",
    "The single expression is **.\n",
    "This does not affect the other two dictionaries. \n",
    "** implies that the argument is a dictionary. \n",
    "Using ** [double star] is a shortcut that allows you to pass multiple arguments to a function directly using a dictionary.  Using this we first pass all the elements of the first dictionary into the third one and then pass the second dictionary into the third. \n",
    "This will replace the duplicate keys of the first dictionary."
   ]
  },
  {
   "cell_type": "code",
   "execution_count": 17,
   "metadata": {},
   "outputs": [
    {
     "ename": "SyntaxError",
     "evalue": "invalid syntax (<ipython-input-17-5cf796823188>, line 5)",
     "output_type": "error",
     "traceback": [
      "\u001b[1;36m  File \u001b[1;32m\"<ipython-input-17-5cf796823188>\"\u001b[1;36m, line \u001b[1;32m5\u001b[0m\n\u001b[1;33m    dict3 = {**dict1, **dict2}\u001b[0m\n\u001b[1;37m              ^\u001b[0m\n\u001b[1;31mSyntaxError\u001b[0m\u001b[1;31m:\u001b[0m invalid syntax\n"
     ]
    }
   ],
   "source": [
    "# running this in python 2 will give a syntax error\n",
    "\n",
    "dict1 = {'a': 10, 'b': 8} \n",
    "dict2 = {'d': 6, 'c': 4} \n",
    "dict3 = {**dict1, **dict2} \n",
    "print(dict3) "
   ]
  },
  {
   "cell_type": "markdown",
   "metadata": {},
   "source": [
    "## Loops in Dictionary\n",
    "\n",
    "\n",
    "### 1. To loop all the keys from a dictionary"
   ]
  },
  {
   "cell_type": "code",
   "execution_count": 24,
   "metadata": {},
   "outputs": [
    {
     "name": "stdout",
     "output_type": "stream",
     "text": [
      "a\n",
      "b\n"
     ]
    }
   ],
   "source": [
    "dict1 = {'a': 10, 'b': 8} \n",
    "for i in dict1:\n",
    "    print(i)"
   ]
  },
  {
   "cell_type": "markdown",
   "metadata": {},
   "source": [
    "### 2. To loop every key and value from a dictionary"
   ]
  },
  {
   "cell_type": "code",
   "execution_count": 23,
   "metadata": {},
   "outputs": [
    {
     "name": "stdout",
     "output_type": "stream",
     "text": [
      "('a', 10)\n",
      "('b', 8)\n"
     ]
    }
   ],
   "source": [
    "dict1 = {'a': 10, 'b': 8} \n",
    "for i,j in dict1.items():\n",
    "    print(i,j)"
   ]
  },
  {
   "cell_type": "markdown",
   "metadata": {},
   "source": [
    "### 3. Using enumerate() function.\n",
    "\n",
    "When looping through a sequence, the position index and corresponding value can be retrieved at the same time using the enumerate() function."
   ]
  },
  {
   "cell_type": "code",
   "execution_count": 25,
   "metadata": {},
   "outputs": [
    {
     "name": "stdout",
     "output_type": "stream",
     "text": [
      "(0, 'mickey')\n",
      "(1, 'donald')\n",
      "(2, 'pluto')\n"
     ]
    }
   ],
   "source": [
    "for i, j in enumerate(['mickey', 'donald', 'pluto']):\n",
    "    print(i,j)"
   ]
  },
  {
   "cell_type": "markdown",
   "metadata": {},
   "source": [
    "### 4. Using zip() function.\n",
    "\n",
    "To loop over two or more sequences at the same time, the entries can be paired with the zip() function."
   ]
  },
  {
   "cell_type": "code",
   "execution_count": 26,
   "metadata": {},
   "outputs": [
    {
     "name": "stdout",
     "output_type": "stream",
     "text": [
      "What is your name?  It is lancelot.\n",
      "What is your quest?  It is the holy grail.\n",
      "What is your favorite color?  It is blue.\n"
     ]
    }
   ],
   "source": [
    "questions = ['name', 'quest', 'favorite color']\n",
    "answers = ['lancelot', 'the holy grail', 'blue']\n",
    "for q, a in zip(questions, answers):\n",
    "    print 'What is your {0}?  It is {1}.'.format(q, a)"
   ]
  },
  {
   "cell_type": "markdown",
   "metadata": {},
   "source": [
    "### 5. Using reversed () function\n",
    "\n",
    "To loop over a sequence in reverse, first specify the sequence in a forward direction and then call the reversed() function."
   ]
  },
  {
   "cell_type": "code",
   "execution_count": 27,
   "metadata": {},
   "outputs": [
    {
     "name": "stdout",
     "output_type": "stream",
     "text": [
      "9\n",
      "7\n",
      "5\n",
      "3\n",
      "1\n"
     ]
    }
   ],
   "source": [
    "for i in reversed(xrange(1,10,2)):\n",
    "    print i"
   ]
  },
  {
   "cell_type": "markdown",
   "metadata": {},
   "source": [
    "### 6. Using sorted() function\n",
    "To loop over a sequence in sorted order, use the sorted() function which returns a new sorted list while leaving the source unaltered."
   ]
  },
  {
   "cell_type": "code",
   "execution_count": 28,
   "metadata": {},
   "outputs": [
    {
     "name": "stdout",
     "output_type": "stream",
     "text": [
      "apple\n",
      "banana\n",
      "orange\n",
      "pear\n"
     ]
    }
   ],
   "source": [
    "basket = ['apple', 'orange', 'apple', 'pear', 'orange', 'banana']\n",
    "for f in sorted(set(basket)):\n",
    "    print f"
   ]
  },
  {
   "cell_type": "markdown",
   "metadata": {},
   "source": [
    "### 7. Using iteritems()\n",
    "When looping through dictionaries, the key and corresponding value can be retrieved at the same time using the iteritems() method."
   ]
  },
  {
   "cell_type": "code",
   "execution_count": 29,
   "metadata": {},
   "outputs": [
    {
     "name": "stdout",
     "output_type": "stream",
     "text": [
      "gallahad the pure\n",
      "robin the brave\n"
     ]
    }
   ],
   "source": [
    "knights = {'gallahad': 'the pure', 'robin': 'the brave'}\n",
    "for k, v in knights.iteritems():\n",
    "    print k, v"
   ]
  },
  {
   "cell_type": "markdown",
   "metadata": {},
   "source": [
    "## Dictionary Comprehension\n",
    "\n",
    "Dictionary comprehension is an elegant and concise way to create new dictionary from an iterable in Python.\n",
    "\n",
    "Dictionary comprehension consists of an expression pair (key: value) followed by for statement inside curly braces {}."
   ]
  },
  {
   "cell_type": "code",
   "execution_count": 30,
   "metadata": {},
   "outputs": [
    {
     "name": "stdout",
     "output_type": "stream",
     "text": [
      "{0: 0, 1: 2, 2: 4, 3: 6, 4: 8, 5: 10}\n"
     ]
    }
   ],
   "source": [
    "double = {x: x*2 for x in range(6)}\n",
    "\n",
    "print(double)"
   ]
  },
  {
   "cell_type": "markdown",
   "metadata": {},
   "source": [
    "A dictionary comprehension can optionally contain more for or if statements.\n",
    "\n",
    "An optional if statement can filter out items to form the new dictionary."
   ]
  },
  {
   "cell_type": "code",
   "execution_count": 32,
   "metadata": {},
   "outputs": [
    {
     "name": "stdout",
     "output_type": "stream",
     "text": [
      "{1: 2, 3: 6, 9: 18, 5: 10, 7: 14}\n"
     ]
    }
   ],
   "source": [
    "odd_double = {x: x*2 for x in range(11) if x%2 == 1}\n",
    "\n",
    "print(odd_double)"
   ]
  },
  {
   "cell_type": "markdown",
   "metadata": {},
   "source": [
    "## Dictionary Membership Test\n",
    "\n",
    "We can test if a key is in a dictionary or not using the keyword in.\n",
    "\n",
    "<b> Notice that membership test is for keys only, not for values.</b>\n",
    "\n"
   ]
  },
  {
   "cell_type": "code",
   "execution_count": 33,
   "metadata": {},
   "outputs": [
    {
     "name": "stdout",
     "output_type": "stream",
     "text": [
      "True\n",
      "True\n",
      "False\n"
     ]
    }
   ],
   "source": [
    "squares = {1: 1, 3: 9, 5: 25, 7: 49, 9: 81}\n",
    "\n",
    "# Output: True\n",
    "print(1 in squares)\n",
    "\n",
    "# Output: True\n",
    "print(2 not in squares)\n",
    "\n",
    "# membership tests for key only not value\n",
    "# Output: False\n",
    "print(49 in squares)"
   ]
  },
  {
   "cell_type": "markdown",
   "metadata": {},
   "source": [
    "## Built-in Functions with Dictionary\n",
    "\n",
    "- all()\tReturn True if all keys of the dictionary are true (or if the dictionary is empty).\n",
    "- any()\tReturn True if any key of the dictionary is true. If the dictionary is empty, return False.\n",
    "- len()\tReturn the length (the number of items) in the dictionary.\n",
    "- cmp()\tCompares items of two dictionaries.\n",
    "- sorted()\tReturn a new sorted list of keys in the dictionary."
   ]
  },
  {
   "cell_type": "code",
   "execution_count": 34,
   "metadata": {},
   "outputs": [
    {
     "name": "stdout",
     "output_type": "stream",
     "text": [
      "5\n",
      "[1, 3, 5, 7, 9]\n",
      "True\n"
     ]
    }
   ],
   "source": [
    "squares = {1: 1, 3: 9, 5: 25, 7: 49, 9: 81}\n",
    "\n",
    "print(len(squares))\n",
    "print(sorted(squares))\n",
    "print(all(squares))"
   ]
  },
  {
   "cell_type": "markdown",
   "metadata": {},
   "source": [
    "## Reference\n",
    "\n",
    "[1] https://docs.python.org/2/tutorial/datastructures.html#tut-dictionaries\n",
    "\n",
    "\n",
    "[2] https://www.geeksforgeeks.org/python-merging-two-dictionaries/"
   ]
  },
  {
   "cell_type": "code",
   "execution_count": null,
   "metadata": {},
   "outputs": [],
   "source": []
  }
 ],
 "metadata": {
  "kernelspec": {
   "display_name": "Python 2",
   "language": "python",
   "name": "python2"
  },
  "language_info": {
   "codemirror_mode": {
    "name": "ipython",
    "version": 2
   },
   "file_extension": ".py",
   "mimetype": "text/x-python",
   "name": "python",
   "nbconvert_exporter": "python",
   "pygments_lexer": "ipython2",
   "version": "2.7.15"
  }
 },
 "nbformat": 4,
 "nbformat_minor": 2
}

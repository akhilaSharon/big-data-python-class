{
 "cells": [
  {
   "cell_type": "markdown",
   "metadata": {},
   "source": [
    "# File Handling\n",
    "\n",
    "## File Object\n",
    "\n",
    "File handling in Python requires no importing of modules.\n",
    "\n",
    "Instead we can use the built-in object \"file\", which provides basic functions and methods necessary to manipulate files\n",
    "by default. \n",
    "\n",
    " \n",
    "\n",
    "## Open()\n",
    "\n",
    "The open() function is used to open files in our system, the filename is the\n",
    "name of the file to be opened. \n",
    "\n",
    "The mode indicates, how the file is going to be opened \n",
    "- 'r'\tOpen a file for reading. (default)\n",
    "- 'w'\tOpen a file for writing. Creates a new file if it does not exist or truncates the file if it exists.\n",
    "- 'x'\tOpen a file for exclusive creation. If the file already exists, the operation fails.\n",
    "- 'a'\tOpen for appending at the end of the file without truncating it. Creates a new file if it does not exist.\n",
    "- 't'\tOpen in text mode. (default)\n",
    "- 'b'\tOpen in binary mode.\n",
    "- '+'\tOpen a file for updating (reading and writing)\n",
    "\n",
    "The open function takes two arguments, the name of the file and and the mode\n",
    "for which we would like to open the file. \n",
    "\n",
    "By default, when only the filename is passed, the open function opens the file\n",
    "in read mode.\n"
   ]
  },
  {
   "cell_type": "code",
   "execution_count": 49,
   "metadata": {},
   "outputs": [],
   "source": [
    "# read\n",
    "filename = \"test.txt\"\n",
    "f = open(filename, \"r\")\n",
    "for line in file:\n",
    "   print line\n",
    "\n",
    "#f = open(\"C:/Python27/test.txt\")  # specifying full path\n",
    "\n",
    "#f = open(\"test.txt\")      # equivalent to 'r' or 'rt'\n",
    "#f = open(\"test.txt\",'w')  # write in text mode\n",
    "#f = open(\"img.bmp\",'r+b') # read and write in binary mode"
   ]
  },
  {
   "cell_type": "markdown",
   "metadata": {},
   "source": [
    "## Read ()\n",
    "\n",
    "The read functions contains different methods, read(),readline() and readlines()\n",
    "\n",
    "read() - return one big string\n",
    "\n",
    "readline()- returns one line at a time\n",
    "\n",
    "readline() - returns a list of lines"
   ]
  },
  {
   "cell_type": "code",
   "execution_count": 52,
   "metadata": {},
   "outputs": [
    {
     "name": "stdout",
     "output_type": "stream",
     "text": [
      "my first \n",
      "file\n",
      "\n",
      "Hi there !\n",
      "Hi there !\n",
      "\n",
      "\n"
     ]
    }
   ],
   "source": [
    "f = open(\"test.txt\",'r')\n",
    "print(f.read(9) )   # read the first 4 data\n",
    "print(f.read(5) )   # read the next 4 data\n",
    "print(f.read())     # read in the rest till end of file\n",
    "print(f.read()) # further reading returns empty sting\n"
   ]
  },
  {
   "cell_type": "markdown",
   "metadata": {},
   "source": [
    "## Seek() and tell()\n",
    "\n",
    "We can change our current file cursor (position) using the seek() method. Similarly, the tell() method returns our current position (in number of bytes)."
   ]
  },
  {
   "cell_type": "code",
   "execution_count": 43,
   "metadata": {},
   "outputs": [
    {
     "name": "stdout",
     "output_type": "stream",
     "text": [
      "my first file\n",
      "Hi there !\n",
      "\n"
     ]
    }
   ],
   "source": [
    "f.seek(0) # bring file cursor to initial position\n",
    "print(f.read())"
   ]
  },
  {
   "cell_type": "code",
   "execution_count": 44,
   "metadata": {},
   "outputs": [
    {
     "data": {
      "text/plain": [
       "27L"
      ]
     },
     "execution_count": 44,
     "metadata": {},
     "output_type": "execute_result"
    }
   ],
   "source": [
    "f.tell()    # get the current file position"
   ]
  },
  {
   "cell_type": "markdown",
   "metadata": {},
   "source": [
    "## Write ()\n",
    "\n",
    "This method writes a sequence of strings to the file.\n",
    "\n",
    "write () - Used to write a fixed sequence of characters to a file\n",
    "\n",
    "writelines() - used to write a list of strings.\n",
    "\n",
    "\n",
    "In order to write into a file in Python, we need to open it in write 'w', append 'a' or exclusive creation 'x' mode.\n",
    "\n",
    "We need to be careful with the 'w' mode as it will overwrite into the file if it already exists. All previous data are erased."
   ]
  },
  {
   "cell_type": "code",
   "execution_count": 45,
   "metadata": {},
   "outputs": [],
   "source": [
    "with open(\"test.txt\",'w') as f:\n",
    "   f.write(\"my first file\\n\")"
   ]
  },
  {
   "cell_type": "markdown",
   "metadata": {},
   "source": [
    "This program will create a new file named 'test.txt' if it does not exist. If it does exist, it is overwritten."
   ]
  },
  {
   "cell_type": "markdown",
   "metadata": {},
   "source": [
    "## Append ()\n",
    "\n",
    "The append function is used to append to the file instead of overwriting it.\n",
    "\n",
    "To append to an existing file, simply open the file in append mode (\"a\"):"
   ]
  },
  {
   "cell_type": "code",
   "execution_count": 51,
   "metadata": {},
   "outputs": [],
   "source": [
    "with open(\"test.txt\",'a') as f:\n",
    "   f.write(\"Hi there !\\n\")"
   ]
  },
  {
   "cell_type": "markdown",
   "metadata": {},
   "source": [
    "## Close()\n",
    "\n",
    "When you’re done with a file, use close() to close it and free up any system\n",
    "resources taken up by the open file.\n",
    "\n",
    "Python has a garbage collector to clean up unreferenced objects but, we must not rely on it to close the file"
   ]
  },
  {
   "cell_type": "code",
   "execution_count": 47,
   "metadata": {},
   "outputs": [],
   "source": [
    "f = open(\"test.txt\")\n",
    "\n",
    "f.close()"
   ]
  },
  {
   "cell_type": "markdown",
   "metadata": {},
   "source": [
    "This method is not entirely safe. If an exception occurs when we are performing some operation with the file, the code exits without closing the file.\n",
    "\n",
    "A safer way is to use a try...finally block."
   ]
  },
  {
   "cell_type": "code",
   "execution_count": 48,
   "metadata": {},
   "outputs": [],
   "source": [
    "try:\n",
    "   f = open(\"test.txt\")\n",
    "   \n",
    "finally:\n",
    "   f.close()"
   ]
  },
  {
   "cell_type": "markdown",
   "metadata": {},
   "source": [
    "This way, we are guaranteed that the file is properly closed even if an exception is raised, causing program flow to stop.\n",
    "\n",
    "The best way to do this is using the <b>with</b> statement. This ensures that the file is closed when the block inside with is exited.\n",
    "\n",
    "We don't need to explicitly call the close() method. It is done internally."
   ]
  },
  {
   "cell_type": "code",
   "execution_count": 17,
   "metadata": {},
   "outputs": [
    {
     "ename": "SyntaxError",
     "evalue": "unexpected EOF while parsing (<ipython-input-17-8c33bbc5ef7f>, line 1)",
     "output_type": "error",
     "traceback": [
      "\u001b[1;36m  File \u001b[1;32m\"<ipython-input-17-8c33bbc5ef7f>\"\u001b[1;36m, line \u001b[1;32m1\u001b[0m\n\u001b[1;33m    with open(\"test.txt\",encoding = 'utf-8') as f:\u001b[0m\n\u001b[1;37m                                                  ^\u001b[0m\n\u001b[1;31mSyntaxError\u001b[0m\u001b[1;31m:\u001b[0m unexpected EOF while parsing\n"
     ]
    }
   ],
   "source": [
    "with open(\"test.txt\",encoding = 'utf-8') as f:"
   ]
  },
  {
   "cell_type": "markdown",
   "metadata": {},
   "source": [
    "## Different methods\n",
    "\n",
    "- close()\tClose an open file. It has no effect if the file is already closed.\n",
    "- detach()\tSeparate the underlying binary buffer from the TextIOBase and return it.\n",
    "- fileno()\tReturn an integer number (file descriptor) of the file.\n",
    "- flush()\tFlush the write buffer of the file stream.\n",
    "- isatty()\tReturn True if the file stream is interactive.\n",
    "= read(n)\tRead atmost n characters form the file. Reads till end of file if it is negative or None.\n",
    "- readable()\tReturns True if the file stream can be read from.\n",
    "- readline(n=-1)\tRead and return one line from the file. Reads in at most n bytes if specified.\n",
    "- readlines(n=-1)\tRead and return a list of lines from the file. Reads in at most n bytes/characters if specified.\n",
    "- seek(offset,from=SEEK_SET)\tChange the file position to offset bytes, in reference to from (start, current, end).\n",
    "- seekable()\tReturns True if the file stream supports random access.\n",
    "- tell()\tReturns the current file location.\n",
    "- truncate(size=None)\tResize the file stream to size bytes. If size is not specified, resize to current location.\n",
    "- writable()\tReturns True if the file stream can be written to.\n",
    "- write(s)\tWrite string s to the file and return the number of characters written.\n",
    "- writelines(lines)\tWrite a list of lines to the file."
   ]
  },
  {
   "cell_type": "markdown",
   "metadata": {},
   "source": [
    "## Reference\n",
    "\n",
    "[1] https://www.tutorialspoint.com/python/python_files_io.htm\n",
    "\n",
    "[2] https://www.programiz.com/python-programming/file-operation"
   ]
  },
  {
   "cell_type": "code",
   "execution_count": null,
   "metadata": {},
   "outputs": [],
   "source": []
  }
 ],
 "metadata": {
  "kernelspec": {
   "display_name": "Python 2",
   "language": "python",
   "name": "python2"
  },
  "language_info": {
   "codemirror_mode": {
    "name": "ipython",
    "version": 2
   },
   "file_extension": ".py",
   "mimetype": "text/x-python",
   "name": "python",
   "nbconvert_exporter": "python",
   "pygments_lexer": "ipython2",
   "version": "2.7.15"
  }
 },
 "nbformat": 4,
 "nbformat_minor": 2
}

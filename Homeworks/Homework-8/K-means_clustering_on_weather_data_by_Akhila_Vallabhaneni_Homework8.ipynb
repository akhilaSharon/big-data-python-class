{
 "cells": [
  {
   "cell_type": "markdown",
   "metadata": {},
   "source": [
    "# K-Means Clustering\n",
    "\n",
    "K-means clustering is a type of unsupervised learning, which is used when you have unlabeled data (i.e., data without defined categories or groups). The goal of this algorithm is to find groups in the data, with the number of groups represented by the variable K. The algorithm works iteratively to assign each data point to one of K groups based on the features that are provided. Data points are clustered based on feature similarity. \n",
    "\n",
    "The results of the K-means clustering algorithm are:\n",
    "\n",
    "1. The centroids of the K clusters, which can be used to label new data\n",
    "2. Labels for the training data (each data point is assigned to a single cluster).\n",
    "\n",
    "<img src=\".\\images\\image1.png\">"
   ]
  },
  {
   "cell_type": "code",
   "execution_count": 2,
   "metadata": {},
   "outputs": [],
   "source": [
    "%matplotlib inline\n",
    "from copy import deepcopy\n",
    "import numpy as np\n",
    "import pandas as pd\n",
    "from matplotlib import pyplot as plt"
   ]
  },
  {
   "cell_type": "markdown",
   "metadata": {},
   "source": [
    "## Data Setup \n",
    "\n",
    "We will be working on weather data from https://github.com/fivethirtyeight/data/blob/master/us-weather-history/KCLT.csv \n"
   ]
  },
  {
   "cell_type": "code",
   "execution_count": 3,
   "metadata": {},
   "outputs": [
    {
     "data": {
      "text/html": [
       "<div>\n",
       "<style scoped>\n",
       "    .dataframe tbody tr th:only-of-type {\n",
       "        vertical-align: middle;\n",
       "    }\n",
       "\n",
       "    .dataframe tbody tr th {\n",
       "        vertical-align: top;\n",
       "    }\n",
       "\n",
       "    .dataframe thead th {\n",
       "        text-align: right;\n",
       "    }\n",
       "</style>\n",
       "<table border=\"1\" class=\"dataframe\">\n",
       "  <thead>\n",
       "    <tr style=\"text-align: right;\">\n",
       "      <th></th>\n",
       "      <th>date</th>\n",
       "      <th>actual_mean_temp</th>\n",
       "      <th>actual_min_temp</th>\n",
       "      <th>actual_max_temp</th>\n",
       "      <th>average_min_temp</th>\n",
       "      <th>average_max_temp</th>\n",
       "      <th>record_min_temp</th>\n",
       "      <th>record_max_temp</th>\n",
       "      <th>record_min_temp_year</th>\n",
       "      <th>record_max_temp_year</th>\n",
       "      <th>actual_precipitation</th>\n",
       "      <th>average_precipitation</th>\n",
       "      <th>record_precipitation</th>\n",
       "    </tr>\n",
       "  </thead>\n",
       "  <tbody>\n",
       "    <tr>\n",
       "      <th>0</th>\n",
       "      <td>2014-7-1</td>\n",
       "      <td>81</td>\n",
       "      <td>70</td>\n",
       "      <td>91</td>\n",
       "      <td>67</td>\n",
       "      <td>89</td>\n",
       "      <td>56</td>\n",
       "      <td>104</td>\n",
       "      <td>1919</td>\n",
       "      <td>2012</td>\n",
       "      <td>0.00</td>\n",
       "      <td>0.10</td>\n",
       "      <td>5.91</td>\n",
       "    </tr>\n",
       "    <tr>\n",
       "      <th>1</th>\n",
       "      <td>2014-7-2</td>\n",
       "      <td>85</td>\n",
       "      <td>74</td>\n",
       "      <td>95</td>\n",
       "      <td>68</td>\n",
       "      <td>89</td>\n",
       "      <td>56</td>\n",
       "      <td>101</td>\n",
       "      <td>2008</td>\n",
       "      <td>1931</td>\n",
       "      <td>0.00</td>\n",
       "      <td>0.10</td>\n",
       "      <td>1.53</td>\n",
       "    </tr>\n",
       "    <tr>\n",
       "      <th>2</th>\n",
       "      <td>2014-7-3</td>\n",
       "      <td>82</td>\n",
       "      <td>71</td>\n",
       "      <td>93</td>\n",
       "      <td>68</td>\n",
       "      <td>89</td>\n",
       "      <td>56</td>\n",
       "      <td>99</td>\n",
       "      <td>2010</td>\n",
       "      <td>1931</td>\n",
       "      <td>0.14</td>\n",
       "      <td>0.11</td>\n",
       "      <td>2.50</td>\n",
       "    </tr>\n",
       "    <tr>\n",
       "      <th>3</th>\n",
       "      <td>2014-7-4</td>\n",
       "      <td>75</td>\n",
       "      <td>64</td>\n",
       "      <td>86</td>\n",
       "      <td>68</td>\n",
       "      <td>89</td>\n",
       "      <td>55</td>\n",
       "      <td>99</td>\n",
       "      <td>1933</td>\n",
       "      <td>1955</td>\n",
       "      <td>0.00</td>\n",
       "      <td>0.10</td>\n",
       "      <td>2.63</td>\n",
       "    </tr>\n",
       "    <tr>\n",
       "      <th>4</th>\n",
       "      <td>2014-7-5</td>\n",
       "      <td>72</td>\n",
       "      <td>60</td>\n",
       "      <td>84</td>\n",
       "      <td>68</td>\n",
       "      <td>89</td>\n",
       "      <td>57</td>\n",
       "      <td>100</td>\n",
       "      <td>1967</td>\n",
       "      <td>1954</td>\n",
       "      <td>0.00</td>\n",
       "      <td>0.10</td>\n",
       "      <td>1.65</td>\n",
       "    </tr>\n",
       "  </tbody>\n",
       "</table>\n",
       "</div>"
      ],
      "text/plain": [
       "       date  actual_mean_temp  actual_min_temp  actual_max_temp  \\\n",
       "0  2014-7-1                81               70               91   \n",
       "1  2014-7-2                85               74               95   \n",
       "2  2014-7-3                82               71               93   \n",
       "3  2014-7-4                75               64               86   \n",
       "4  2014-7-5                72               60               84   \n",
       "\n",
       "   average_min_temp  average_max_temp  record_min_temp  record_max_temp  \\\n",
       "0                67                89               56              104   \n",
       "1                68                89               56              101   \n",
       "2                68                89               56               99   \n",
       "3                68                89               55               99   \n",
       "4                68                89               57              100   \n",
       "\n",
       "   record_min_temp_year  record_max_temp_year  actual_precipitation  \\\n",
       "0                  1919                  2012                  0.00   \n",
       "1                  2008                  1931                  0.00   \n",
       "2                  2010                  1931                  0.14   \n",
       "3                  1933                  1955                  0.00   \n",
       "4                  1967                  1954                  0.00   \n",
       "\n",
       "   average_precipitation  record_precipitation  \n",
       "0                   0.10                  5.91  \n",
       "1                   0.10                  1.53  \n",
       "2                   0.11                  2.50  \n",
       "3                   0.10                  2.63  \n",
       "4                   0.10                  1.65  "
      ]
     },
     "execution_count": 3,
     "metadata": {},
     "output_type": "execute_result"
    }
   ],
   "source": [
    "w_data = pd.read_csv(\"./data/KCLT.csv\")\n",
    "w_data.head(5)"
   ]
  },
  {
   "cell_type": "markdown",
   "metadata": {},
   "source": [
    "It is very important to note that not all clustering algorithms support missing values in the data that you are feeding to them. K-Means being one of them. So we need to handle the missing values present in the data. Let's first see where are the values missing."
   ]
  },
  {
   "cell_type": "code",
   "execution_count": 4,
   "metadata": {},
   "outputs": [
    {
     "name": "stdout",
     "output_type": "stream",
     "text": [
      "date                     0\n",
      "actual_mean_temp         0\n",
      "actual_min_temp          0\n",
      "actual_max_temp          0\n",
      "average_min_temp         0\n",
      "average_max_temp         0\n",
      "record_min_temp          0\n",
      "record_max_temp          0\n",
      "record_min_temp_year     0\n",
      "record_max_temp_year     0\n",
      "actual_precipitation     0\n",
      "average_precipitation    0\n",
      "record_precipitation     0\n",
      "dtype: int64\n"
     ]
    }
   ],
   "source": [
    "print(w_data.isna().sum())"
   ]
  },
  {
   "cell_type": "markdown",
   "metadata": {},
   "source": [
    "We have no missing values and the data is clean , so we can use it now."
   ]
  },
  {
   "cell_type": "markdown",
   "metadata": {},
   "source": [
    "## Algorithm\n",
    "\n",
    "### Step 1\n",
    "\n",
    "We randomly pick K cluster centers(centroids). Let’s assume these are c_1, c_2, ..., c_k and we can say that\n",
    "<img src=\".\\images\\image2.png\">\n",
    "C is the set of all centroids.\n",
    "\n",
    "### Step 2\n",
    "\n",
    "In this step we assign each input value to closest center. This is done by calculating Euclidean(L2) distance between the point and the each centroid.\n",
    "<img src=\".\\images\\image3.png\">\n",
    "Where dist(.)is the Euclidean distance.\n",
    "\n",
    "### Step 3\n",
    "\n",
    "In this step, we find the new centroid by taking the average of all the points assigned to that cluster.\n",
    "<img src=\".\\images\\image4.png\">\n",
    "S_i is the set of all points assigned to the ith cluster.\n",
    "\n",
    "### Step 4\n",
    "\n",
    "In this step, we repeat step 2 and 3 until none of the cluster assignments change. That means until our clusters remain stable, we repeat the algorithm.\n",
    "\n",
    "## Choosing the Value of K\n",
    "\n",
    "We often know the value of K. In that case we use the value of K. Else we use the Elbow Method.\n",
    "\n",
    "<img src=\".\\images\\image5.png\">\n",
    "\n",
    "We run the algorithm for different values of K(say K = 10 to 1) and plot the K values against SSE(Sum of Squared Errors) and select the value of K for the elbow point as shown in the figure."
   ]
  },
  {
   "cell_type": "markdown",
   "metadata": {},
   "source": [
    "## Algorithm in short \n",
    "The algorithm works as follows, assuming we have inputs x_1, x_2, x_3, ..., x_n and value of K.\n",
    "\n",
    "- Step 1 - Pick K random points as cluster centers called centroids.\n",
    "- Step 2 - Assign each x_i to nearest cluster by calculating its distance to each centroid.\n",
    "- Step 3 - Find new cluster center by taking the average of the assigned points.\n",
    "- Step 4 - Repeat Step 2 and 3 until none of the cluster assignments change."
   ]
  },
  {
   "cell_type": "code",
   "execution_count": 9,
   "metadata": {},
   "outputs": [
    {
     "data": {
      "text/plain": [
       "<matplotlib.collections.PathCollection at 0x9b1e160>"
      ]
     },
     "execution_count": 9,
     "metadata": {},
     "output_type": "execute_result"
    },
    {
     "data": {
      "image/png": "[encoded data removed]",
      "text/plain": [
       "<Figure size 432x288 with 1 Axes>"
      ]
     },
     "metadata": {},
     "output_type": "display_data"
    }
   ],
   "source": [
    "w1 = w_data['actual_max_temp'].values\n",
    "w2 = w_data['actual_min_temp'].values\n",
    "X = np.array(list(zip(w1, w2)))\n",
    "plt.scatter(w1, w2, c='black', s=7)\n",
    "\n",
    "# The graph shows the scatter plot between actual maximum temperature and actual minimum temperature."
   ]
  },
  {
   "cell_type": "markdown",
   "metadata": {},
   "source": [
    "The below code generates random centroids depending upon the actual maximim and minimum temperature"
   ]
  },
  {
   "cell_type": "code",
   "execution_count": 14,
   "metadata": {},
   "outputs": [
    {
     "name": "stdout",
     "output_type": "stream",
     "text": [
      "[[54. 76.]\n",
      " [38. 16.]\n",
      " [59. 37.]]\n"
     ]
    }
   ],
   "source": [
    "# Number of clusters\n",
    "k = 3\n",
    "# X coordinates of random centroids\n",
    "w_x = np.random.randint(0,np.max(X), size=k)\n",
    "# Y coordinates of random centroids\n",
    "w_y = np.random.randint(0,np.max(X), size=k)\n",
    "W = np.array(list(zip(w_x, w_y)), dtype=np.float32)\n",
    "print(W)\n"
   ]
  },
  {
   "cell_type": "code",
   "execution_count": 19,
   "metadata": {},
   "outputs": [
    {
     "data": {
      "text/plain": [
       "<matplotlib.collections.PathCollection at 0xb0dfe10>"
      ]
     },
     "execution_count": 19,
     "metadata": {},
     "output_type": "execute_result"
    },
    {
     "data": {
      "image/png": "[encoded data removed]",
      "text/plain": [
       "<Figure size 432x288 with 1 Axes>"
      ]
     },
     "metadata": {},
     "output_type": "display_data"
    }
   ],
   "source": [
    "#plot the scatter graph of the actual temperature and centroids together, to see if the centroids are not far from the clusters.\n",
    "\n",
    "plt.scatter(w1, w2, c='#050505', s=7)\n",
    "plt.scatter(w_x, w_y, marker='*', s=200, c='g')"
   ]
  },
  {
   "cell_type": "code",
   "execution_count": 16,
   "metadata": {},
   "outputs": [],
   "source": [
    "# Euclidean Distance Caculator\n",
    "def dist(a, b, ax=1):\n",
    "    return np.linalg.norm(a - b, axis=ax)"
   ]
  },
  {
   "cell_type": "code",
   "execution_count": 20,
   "metadata": {},
   "outputs": [],
   "source": [
    "## K-means algorithm logic\n",
    "\n",
    "\n",
    "W_old = np.zeros(W.shape)\n",
    "# Cluster Lables(0, 1, 2)\n",
    "clusters = np.zeros(len(X))\n",
    "# Error func. - Distance between new centroids and old centroids\n",
    "error = dist(W, W_old, None)\n",
    "# Loop will run till the error becomes zero\n",
    "while error != 0:\n",
    "    # Assigning each value to its closest cluster\n",
    "    for i in range(len(X)):\n",
    "        distances = dist(X[i], W)\n",
    "        cluster = np.argmin(distances)\n",
    "        clusters[i] = cluster\n",
    "    # Storing the old centroid values\n",
    "    W_old = deepcopy(W)\n",
    "    # Finding the new centroids by taking the average value\n",
    "    for i in range(k):\n",
    "        points = [X[j] for j in range(len(X)) if clusters[j] == i]\n",
    "        W[i] = np.mean(points, axis=0)\n",
    "    error = dist(W, W_old, None)"
   ]
  },
  {
   "cell_type": "code",
   "execution_count": 21,
   "metadata": {},
   "outputs": [
    {
     "data": {
      "text/plain": [
       "<matplotlib.collections.PathCollection at 0xb136470>"
      ]
     },
     "execution_count": 21,
     "metadata": {},
     "output_type": "execute_result"
    },
    {
     "data": {
      "image/png": "[encoded data removed]",
      "text/plain": [
       "<Figure size 432x288 with 1 Axes>"
      ]
     },
     "metadata": {},
     "output_type": "display_data"
    }
   ],
   "source": [
    "colors = ['r', 'g', 'b', 'y', 'c', 'm']\n",
    "fig, ax = plt.subplots()\n",
    "for i in range(k):\n",
    "        points = np.array([X[j] for j in range(len(X)) if clusters[j] == i])\n",
    "        ax.scatter(points[:, 0], points[:, 1], s=7, c=colors[i])\n",
    "ax.scatter(W[:, 0], W[:, 1], marker='*', s=200, c='#050505')"
   ]
  },
  {
   "cell_type": "markdown",
   "metadata": {},
   "source": [
    "## Discussion\n",
    "\n",
    "From this visualization it is clear that there are 3 clusters with black stars as their centroid.\n",
    "\n",
    "If you run K-Means with wrong values of K, you will get completely misleading clusters. \n",
    "\n",
    "It is also observed that there are no outliers."
   ]
  },
  {
   "cell_type": "markdown",
   "metadata": {},
   "source": [
    "## Reference\n",
    "\n",
    "- [1] https://mubaris.com/posts/kmeans-clustering/\n",
    "- [2] https://www.datascience.com/blog/k-means-clustering\n",
    "- [3] https://github.com/fivethirtyeight/data/blob/master/us-weather-history/KCLT.csv\n",
    "- [4] https://www.datacamp.com/community/tutorials/k-means-clustering-python\n",
    "    "
   ]
  }
 ],
 "metadata": {
  "kernelspec": {
   "display_name": "Python 2",
   "language": "python",
   "name": "python2"
  },
  "language_info": {
   "codemirror_mode": {
    "name": "ipython",
    "version": 2
   },
   "file_extension": ".py",
   "mimetype": "text/x-python",
   "name": "python",
   "nbconvert_exporter": "python",
   "pygments_lexer": "ipython2",
   "version": "2.7.15"
  }
 },
 "nbformat": 4,
 "nbformat_minor": 2
}

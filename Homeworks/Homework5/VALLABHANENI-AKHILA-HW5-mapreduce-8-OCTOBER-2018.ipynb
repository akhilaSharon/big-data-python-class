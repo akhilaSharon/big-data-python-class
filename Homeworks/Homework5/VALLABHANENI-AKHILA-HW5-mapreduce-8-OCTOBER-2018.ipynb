{
 "cells": [
  {
   "cell_type": "code",
   "execution_count": 6,
   "metadata": {},
   "outputs": [
    {
     "ename": "ImportError",
     "evalue": "No module named mrjobs",
     "output_type": "error",
     "traceback": [
      "\u001b[1;31m\u001b[0m",
      "\u001b[1;31mImportError\u001b[0mTraceback (most recent call last)",
      "\u001b[1;32m<ipython-input-6-8a3f251a4b26>\u001b[0m in \u001b[0;36m<module>\u001b[1;34m()\u001b[0m\n\u001b[0;32m      4\u001b[0m \u001b[1;32mimport\u001b[0m \u001b[0mmatplotlib\u001b[0m \u001b[1;32mas\u001b[0m \u001b[0mmpl\u001b[0m\u001b[1;33m\u001b[0m\u001b[0m\n\u001b[0;32m      5\u001b[0m \u001b[1;32mimport\u001b[0m \u001b[0mmatplotlib\u001b[0m\u001b[1;33m.\u001b[0m\u001b[0mpyplot\u001b[0m \u001b[1;32mas\u001b[0m \u001b[0mplt\u001b[0m\u001b[1;33m\u001b[0m\u001b[0m\n\u001b[1;32m----> 6\u001b[1;33m \u001b[1;32mimport\u001b[0m \u001b[0mmrjobs\u001b[0m \u001b[1;32mas\u001b[0m \u001b[0mmr\u001b[0m\u001b[1;33m\u001b[0m\u001b[0m\n\u001b[0m",
      "\u001b[1;31mImportError\u001b[0m: No module named mrjobs"
     ]
    }
   ],
   "source": [
    "%matplotlib inline\n",
    "import pandas as pd\n",
    "import numpy as np\n",
    "import matplotlib as mpl\n",
    "import matplotlib.pyplot as plt\n",
    "import mrjobs as mr\n"
   ]
  },
  {
   "cell_type": "markdown",
   "metadata": {},
   "source": [
    "### Homework 5\n"
   ]
  },
  {
   "cell_type": "markdown",
   "metadata": {},
   "source": [
    "## Homework 5.1\n",
    " A bigram is the combination of words.  Find the 10 most common bigrams from the text.  Order counts in the bigram combination for example \"in the\" is not the same bigram as \"the in\"\n",
    "\n"
   ]
  },
  {
   "cell_type": "code",
   "execution_count": 7,
   "metadata": {},
   "outputs": [
    {
     "name": "stdout",
     "output_type": "stream",
     "text": [
      "Writing code\\orderedbigram.py\n"
     ]
    }
   ],
   "source": [
    "%%writefile code\\orderedbigram.py\n",
    "import mrjob\n",
    "from mrjob.job import MRJob\n",
    "from mrjob.step import MRStep\n",
    "import re\n",
    "from itertools import islice, izip\n",
    "import itertools\n",
    "import heapq\n",
    "\n",
    "WORD_RE = re.compile(r'[a-zA-Z]+')\n",
    "TOPN = 10\n",
    "class BigramCount(MRJob):\n",
    "    def steps(self):\n",
    "        return [\n",
    "            MRStep(mapper=self.mapper_get_words,\n",
    "                   combiner=self.combiner_count_words,\n",
    "                   reducer=self.reducer_count_words),\n",
    "            MRStep(mapper=self.topN_mapper,\n",
    "                   reducer=self.topN_reducer)\n",
    "        ]\n",
    "    \n",
    "    def mapper_get_words(self, _, line):\n",
    "        words = WORD_RE.findall(line)\n",
    "        for i in izip(words, islice(words, 1, None)):\n",
    "            bigram =str(i[0]+\" \" +i[1])\n",
    "            yield bigram, 1\n",
    "    def combiner_count_words(self, bigram, counts):\n",
    "        yield bigram, sum(counts)\n",
    "    def reducer_count_words(self, bigram, counts):\n",
    "        yield bigram,sum(counts)\n",
    "    def topN_mapper(self, bigram, counts):\n",
    "        yield \"Top \" + str(TOPN), (counts, bigram)\n",
    "    def topN_reducer(self, _, countsAndBigrams):\n",
    "        for countAndbigram in heapq.nlargest(TOPN, countsAndBigrams):\n",
    "            yield _, countAndbigram\n",
    "        \n",
    "\n",
    "\n",
    "\n",
    "if __name__ == '__main__':\n",
    "    BigramCount.run()\n",
    "    \n",
    "    "
   ]
  },
  {
   "cell_type": "code",
   "execution_count": 8,
   "metadata": {},
   "outputs": [
    {
     "name": "stderr",
     "output_type": "stream",
     "text": [
      "No configs found; falling back on auto-configuration\n",
      "No configs found; falling back on auto-configuration\n",
      "No configs found; falling back on auto-configuration\n",
      "No configs specified for inline runner\n",
      "No configs specified for inline runner\n",
      "No configs specified for inline runner\n",
      "Running step 1 of 2...\n",
      "Running step 1 of 2...\n",
      "Running step 1 of 2...\n",
      "Creating temp directory c:\\users\\akhila~1\\appdata\\local\\temp\\orderedbigram.Akhila Sharon.20181005.171322.996000\n",
      "Creating temp directory c:\\users\\akhila~1\\appdata\\local\\temp\\orderedbigram.Akhila Sharon.20181005.171322.996000\n",
      "Creating temp directory c:\\users\\akhila~1\\appdata\\local\\temp\\orderedbigram.Akhila Sharon.20181005.171322.996000\n",
      "Running step 2 of 2...\n",
      "Running step 2 of 2...\n",
      "Running step 2 of 2...\n",
      "job output is in c:\\users\\akhila~1\\appdata\\local\\temp\\orderedbigram.Akhila Sharon.20181005.171322.996000\\output\n",
      "job output is in c:\\users\\akhila~1\\appdata\\local\\temp\\orderedbigram.Akhila Sharon.20181005.171322.996000\\output\n",
      "job output is in c:\\users\\akhila~1\\appdata\\local\\temp\\orderedbigram.Akhila Sharon.20181005.171322.996000\\output\n",
      "Streaming final output from c:\\users\\akhila~1\\appdata\\local\\temp\\orderedbigram.Akhila Sharon.20181005.171322.996000\\output...\n",
      "Streaming final output from c:\\users\\akhila~1\\appdata\\local\\temp\\orderedbigram.Akhila Sharon.20181005.171322.996000\\output...\n",
      "Streaming final output from c:\\users\\akhila~1\\appdata\\local\\temp\\orderedbigram.Akhila Sharon.20181005.171322.996000\\output...\n"
     ]
    },
    {
     "name": "stdout",
     "output_type": "stream",
     "text": [
      "\"Top 10\"\t[13037, \"of the\"]\n",
      "\"Top 10\"\t[7145, \"the lord\"]\n",
      "\"Top 10\"\t[7035, \"and the\"]\n",
      "\"Top 10\"\t[6738, \"in the\"]\n",
      "\"Top 10\"\t[3799, \"to the\"]\n",
      "\"Top 10\"\t[3471, \"i will\"]\n",
      "\"Top 10\"\t[3038, \"and he\"]\n",
      "\"Top 10\"\t[3013, \"shall be\"]\n",
      "\"Top 10\"\t[2714, \"all the\"]\n",
      "\"Top 10\"\t[2672, \"i have\"]\n"
     ]
    },
    {
     "name": "stderr",
     "output_type": "stream",
     "text": [
      "Removing temp directory c:\\users\\akhila~1\\appdata\\local\\temp\\orderedbigram.Akhila Sharon.20181005.171322.996000...\n",
      "Removing temp directory c:\\users\\akhila~1\\appdata\\local\\temp\\orderedbigram.Akhila Sharon.20181005.171322.996000...\n",
      "Removing temp directory c:\\users\\akhila~1\\appdata\\local\\temp\\orderedbigram.Akhila Sharon.20181005.171322.996000...\n",
      "[Error 5] Access is denied: u'c:\\\\users\\\\akhila~1\\\\appdata\\\\local\\\\temp\\\\orderedbigram.Akhila Sharon.20181005.171322.996000\\\\step\\\\000\\\\cache\\\\orderedbigram.py'\n",
      "Traceback (most recent call last):\n",
      "  File \"C:\\python\\envs\\py27\\lib\\site-packages\\mrjob\\runner.py\", line 615, in _cleanup_local_tmp\n",
      "    shutil.rmtree(self._local_tmp_dir)\n",
      "  File \"C:\\python\\envs\\py27\\lib\\shutil.py\", line 261, in rmtree\n",
      "    rmtree(fullname, ignore_errors, onerror)\n",
      "  File \"C:\\python\\envs\\py27\\lib\\shutil.py\", line 261, in rmtree\n",
      "    rmtree(fullname, ignore_errors, onerror)\n",
      "  File \"C:\\python\\envs\\py27\\lib\\shutil.py\", line 261, in rmtree\n",
      "    rmtree(fullname, ignore_errors, onerror)\n",
      "  File \"C:\\python\\envs\\py27\\lib\\shutil.py\", line 266, in rmtree\n",
      "    onerror(os.remove, fullname, sys.exc_info())\n",
      "  File \"C:\\python\\envs\\py27\\lib\\shutil.py\", line 264, in rmtree\n",
      "    os.remove(fullname)\n",
      "WindowsError: [Error 5] Access is denied: u'c:\\\\users\\\\akhila~1\\\\appdata\\\\local\\\\temp\\\\orderedbigram.Akhila Sharon.20181005.171322.996000\\\\step\\\\000\\\\cache\\\\orderedbigram.py'\n",
      "[Error 5] Access is denied: u'c:\\\\users\\\\akhila~1\\\\appdata\\\\local\\\\temp\\\\orderedbigram.Akhila Sharon.20181005.171322.996000\\\\step\\\\000\\\\cache\\\\orderedbigram.py'\n",
      "Traceback (most recent call last):\n",
      "  File \"C:\\python\\envs\\py27\\lib\\site-packages\\mrjob\\runner.py\", line 615, in _cleanup_local_tmp\n",
      "    shutil.rmtree(self._local_tmp_dir)\n",
      "  File \"C:\\python\\envs\\py27\\lib\\shutil.py\", line 261, in rmtree\n",
      "    rmtree(fullname, ignore_errors, onerror)\n",
      "  File \"C:\\python\\envs\\py27\\lib\\shutil.py\", line 261, in rmtree\n",
      "    rmtree(fullname, ignore_errors, onerror)\n",
      "  File \"C:\\python\\envs\\py27\\lib\\shutil.py\", line 261, in rmtree\n",
      "    rmtree(fullname, ignore_errors, onerror)\n",
      "  File \"C:\\python\\envs\\py27\\lib\\shutil.py\", line 266, in rmtree\n",
      "    onerror(os.remove, fullname, sys.exc_info())\n",
      "  File \"C:\\python\\envs\\py27\\lib\\shutil.py\", line 264, in rmtree\n",
      "    os.remove(fullname)\n",
      "WindowsError: [Error 5] Access is denied: u'c:\\\\users\\\\akhila~1\\\\appdata\\\\local\\\\temp\\\\orderedbigram.Akhila Sharon.20181005.171322.996000\\\\step\\\\000\\\\cache\\\\orderedbigram.py'\n",
      "[Error 5] Access is denied: u'c:\\\\users\\\\akhila~1\\\\appdata\\\\local\\\\temp\\\\orderedbigram.Akhila Sharon.20181005.171322.996000\\\\step\\\\000\\\\cache\\\\orderedbigram.py'\n",
      "Traceback (most recent call last):\n",
      "  File \"C:\\python\\envs\\py27\\lib\\site-packages\\mrjob\\runner.py\", line 615, in _cleanup_local_tmp\n",
      "    shutil.rmtree(self._local_tmp_dir)\n",
      "  File \"C:\\python\\envs\\py27\\lib\\shutil.py\", line 261, in rmtree\n",
      "    rmtree(fullname, ignore_errors, onerror)\n",
      "  File \"C:\\python\\envs\\py27\\lib\\shutil.py\", line 261, in rmtree\n",
      "    rmtree(fullname, ignore_errors, onerror)\n",
      "  File \"C:\\python\\envs\\py27\\lib\\shutil.py\", line 261, in rmtree\n",
      "    rmtree(fullname, ignore_errors, onerror)\n",
      "  File \"C:\\python\\envs\\py27\\lib\\shutil.py\", line 266, in rmtree\n",
      "    onerror(os.remove, fullname, sys.exc_info())\n",
      "  File \"C:\\python\\envs\\py27\\lib\\shutil.py\", line 264, in rmtree\n",
      "    os.remove(fullname)\n",
      "WindowsError: [Error 5] Access is denied: u'c:\\\\users\\\\akhila~1\\\\appdata\\\\local\\\\temp\\\\orderedbigram.Akhila Sharon.20181005.171322.996000\\\\step\\\\000\\\\cache\\\\orderedbigram.py'\n"
     ]
    }
   ],
   "source": [
    "%run code/orderedbigram.py data/bible+shakes.nopunc.txt"
   ]
  },
  {
   "cell_type": "markdown",
   "metadata": {},
   "source": [
    "## Homework 5.2\n",
    "Now do the same analysis but make the word order not count \"in the\" == \"the in\".  Find the 10 most common ordered bigrams from the alice text.  \n",
    " "
   ]
  },
  {
   "cell_type": "code",
   "execution_count": 1,
   "metadata": {},
   "outputs": [
    {
     "name": "stdout",
     "output_type": "stream",
     "text": [
      "Overwriting code\\unorderedbigram.py\n"
     ]
    }
   ],
   "source": [
    "%%writefile code\\unorderedbigram.py\n",
    "import mrjob\n",
    "from mrjob.job import MRJob\n",
    "from mrjob.step import MRStep\n",
    "import re\n",
    "from itertools import islice, izip\n",
    "import itertools\n",
    "import heapq\n",
    "\n",
    "WORD_RE = re.compile(r'[a-zA-Z]+')\n",
    "TOPN = 10\n",
    "class BigramCount(MRJob):\n",
    "    def steps(self):\n",
    "        return [\n",
    "            MRStep(mapper=self.mapper_get_words,\n",
    "                   combiner=self.combiner_count_words,\n",
    "                   reducer=self.reducer_count_words),\n",
    "            MRStep(mapper=self.topN_mapper,\n",
    "                   reducer=self.topN_reducer)\n",
    "        ]\n",
    "    \n",
    "    def mapper_get_words(self, _, line):\n",
    "        words = WORD_RE.findall(line)\n",
    "        for i in izip(words, islice(words, 1, None)):\n",
    "            bigram=(i[0],i[1])\n",
    "            s_bigram=sorted(bigram)\n",
    "            yield s_bigram,1\n",
    "    def combiner_count_words(self, bigram, counts):\n",
    "        yield bigram, sum(counts)\n",
    "    def reducer_count_words(self, bigram, counts):\n",
    "        yield bigram,sum(counts)\n",
    "    def topN_mapper(self, bigram, counts):\n",
    "        yield \"Top \" + str(TOPN), (counts, bigram)\n",
    "    def topN_reducer(self, _, countsAndBigrams):\n",
    "        for countAndbigram in heapq.nlargest(TOPN, countsAndBigrams):\n",
    "            yield _, countAndbigram\n",
    "        \n",
    "\n",
    "\n",
    "\n",
    "if __name__ == '__main__':\n",
    "    BigramCount.run()\n",
    "    \n",
    "    "
   ]
  },
  {
   "cell_type": "code",
   "execution_count": 10,
   "metadata": {},
   "outputs": [
    {
     "name": "stderr",
     "output_type": "stream",
     "text": [
      "No configs found; falling back on auto-configuration\n",
      "No configs found; falling back on auto-configuration\n",
      "No configs found; falling back on auto-configuration\n",
      "No configs found; falling back on auto-configuration\n",
      "No configs specified for inline runner\n",
      "No configs specified for inline runner\n",
      "No configs specified for inline runner\n",
      "No configs specified for inline runner\n",
      "Running step 1 of 2...\n",
      "Running step 1 of 2...\n",
      "Running step 1 of 2...\n",
      "Running step 1 of 2...\n",
      "Creating temp directory c:\\users\\akhila~1\\appdata\\local\\temp\\unorderedbigram.Akhila Sharon.20181005.171429.603000\n",
      "Creating temp directory c:\\users\\akhila~1\\appdata\\local\\temp\\unorderedbigram.Akhila Sharon.20181005.171429.603000\n",
      "Creating temp directory c:\\users\\akhila~1\\appdata\\local\\temp\\unorderedbigram.Akhila Sharon.20181005.171429.603000\n",
      "Creating temp directory c:\\users\\akhila~1\\appdata\\local\\temp\\unorderedbigram.Akhila Sharon.20181005.171429.603000\n",
      "Running step 2 of 2...\n",
      "Running step 2 of 2...\n",
      "Running step 2 of 2...\n",
      "Running step 2 of 2...\n",
      "job output is in c:\\users\\akhila~1\\appdata\\local\\temp\\unorderedbigram.Akhila Sharon.20181005.171429.603000\\output\n",
      "job output is in c:\\users\\akhila~1\\appdata\\local\\temp\\unorderedbigram.Akhila Sharon.20181005.171429.603000\\output\n",
      "job output is in c:\\users\\akhila~1\\appdata\\local\\temp\\unorderedbigram.Akhila Sharon.20181005.171429.603000\\output\n",
      "job output is in c:\\users\\akhila~1\\appdata\\local\\temp\\unorderedbigram.Akhila Sharon.20181005.171429.603000\\output\n",
      "Streaming final output from c:\\users\\akhila~1\\appdata\\local\\temp\\unorderedbigram.Akhila Sharon.20181005.171429.603000\\output...\n",
      "Streaming final output from c:\\users\\akhila~1\\appdata\\local\\temp\\unorderedbigram.Akhila Sharon.20181005.171429.603000\\output...\n",
      "Streaming final output from c:\\users\\akhila~1\\appdata\\local\\temp\\unorderedbigram.Akhila Sharon.20181005.171429.603000\\output...\n",
      "Streaming final output from c:\\users\\akhila~1\\appdata\\local\\temp\\unorderedbigram.Akhila Sharon.20181005.171429.603000\\output...\n"
     ]
    },
    {
     "name": "stdout",
     "output_type": "stream",
     "text": [
      "\"Top 10\"\t[13037, [\"of\", \"the\"]]\n",
      "\"Top 10\"\t[7372, [\"lord\", \"the\"]]\n",
      "\"Top 10\"\t[7035, [\"and\", \"the\"]]\n",
      "\"Top 10\"\t[6739, [\"in\", \"the\"]]\n",
      "\"Top 10\"\t[4103, [\"i\", \"will\"]]\n",
      "\"Top 10\"\t[3799, [\"the\", \"to\"]]\n",
      "\"Top 10\"\t[3147, [\"and\", \"he\"]]\n",
      "\"Top 10\"\t[3132, [\"have\", \"i\"]]\n",
      "\"Top 10\"\t[3015, [\"be\", \"shall\"]]\n",
      "\"Top 10\"\t[2883, [\"am\", \"i\"]]\n"
     ]
    },
    {
     "name": "stderr",
     "output_type": "stream",
     "text": [
      "Removing temp directory c:\\users\\akhila~1\\appdata\\local\\temp\\unorderedbigram.Akhila Sharon.20181005.171429.603000...\n",
      "Removing temp directory c:\\users\\akhila~1\\appdata\\local\\temp\\unorderedbigram.Akhila Sharon.20181005.171429.603000...\n",
      "Removing temp directory c:\\users\\akhila~1\\appdata\\local\\temp\\unorderedbigram.Akhila Sharon.20181005.171429.603000...\n",
      "Removing temp directory c:\\users\\akhila~1\\appdata\\local\\temp\\unorderedbigram.Akhila Sharon.20181005.171429.603000...\n",
      "[Error 5] Access is denied: u'c:\\\\users\\\\akhila~1\\\\appdata\\\\local\\\\temp\\\\unorderedbigram.Akhila Sharon.20181005.171429.603000\\\\step\\\\000\\\\cache\\\\unorderedbigram.py'\n",
      "Traceback (most recent call last):\n",
      "  File \"C:\\python\\envs\\py27\\lib\\site-packages\\mrjob\\runner.py\", line 615, in _cleanup_local_tmp\n",
      "    shutil.rmtree(self._local_tmp_dir)\n",
      "  File \"C:\\python\\envs\\py27\\lib\\shutil.py\", line 261, in rmtree\n",
      "    rmtree(fullname, ignore_errors, onerror)\n",
      "  File \"C:\\python\\envs\\py27\\lib\\shutil.py\", line 261, in rmtree\n",
      "    rmtree(fullname, ignore_errors, onerror)\n",
      "  File \"C:\\python\\envs\\py27\\lib\\shutil.py\", line 261, in rmtree\n",
      "    rmtree(fullname, ignore_errors, onerror)\n",
      "  File \"C:\\python\\envs\\py27\\lib\\shutil.py\", line 266, in rmtree\n",
      "    onerror(os.remove, fullname, sys.exc_info())\n",
      "  File \"C:\\python\\envs\\py27\\lib\\shutil.py\", line 264, in rmtree\n",
      "    os.remove(fullname)\n",
      "WindowsError: [Error 5] Access is denied: u'c:\\\\users\\\\akhila~1\\\\appdata\\\\local\\\\temp\\\\unorderedbigram.Akhila Sharon.20181005.171429.603000\\\\step\\\\000\\\\cache\\\\unorderedbigram.py'\n",
      "[Error 5] Access is denied: u'c:\\\\users\\\\akhila~1\\\\appdata\\\\local\\\\temp\\\\unorderedbigram.Akhila Sharon.20181005.171429.603000\\\\step\\\\000\\\\cache\\\\unorderedbigram.py'\n",
      "Traceback (most recent call last):\n",
      "  File \"C:\\python\\envs\\py27\\lib\\site-packages\\mrjob\\runner.py\", line 615, in _cleanup_local_tmp\n",
      "    shutil.rmtree(self._local_tmp_dir)\n",
      "  File \"C:\\python\\envs\\py27\\lib\\shutil.py\", line 261, in rmtree\n",
      "    rmtree(fullname, ignore_errors, onerror)\n",
      "  File \"C:\\python\\envs\\py27\\lib\\shutil.py\", line 261, in rmtree\n",
      "    rmtree(fullname, ignore_errors, onerror)\n",
      "  File \"C:\\python\\envs\\py27\\lib\\shutil.py\", line 261, in rmtree\n",
      "    rmtree(fullname, ignore_errors, onerror)\n",
      "  File \"C:\\python\\envs\\py27\\lib\\shutil.py\", line 266, in rmtree\n",
      "    onerror(os.remove, fullname, sys.exc_info())\n",
      "  File \"C:\\python\\envs\\py27\\lib\\shutil.py\", line 264, in rmtree\n",
      "    os.remove(fullname)\n",
      "WindowsError: [Error 5] Access is denied: u'c:\\\\users\\\\akhila~1\\\\appdata\\\\local\\\\temp\\\\unorderedbigram.Akhila Sharon.20181005.171429.603000\\\\step\\\\000\\\\cache\\\\unorderedbigram.py'\n",
      "[Error 5] Access is denied: u'c:\\\\users\\\\akhila~1\\\\appdata\\\\local\\\\temp\\\\unorderedbigram.Akhila Sharon.20181005.171429.603000\\\\step\\\\000\\\\cache\\\\unorderedbigram.py'\n",
      "Traceback (most recent call last):\n",
      "  File \"C:\\python\\envs\\py27\\lib\\site-packages\\mrjob\\runner.py\", line 615, in _cleanup_local_tmp\n",
      "    shutil.rmtree(self._local_tmp_dir)\n",
      "  File \"C:\\python\\envs\\py27\\lib\\shutil.py\", line 261, in rmtree\n",
      "    rmtree(fullname, ignore_errors, onerror)\n",
      "  File \"C:\\python\\envs\\py27\\lib\\shutil.py\", line 261, in rmtree\n",
      "    rmtree(fullname, ignore_errors, onerror)\n",
      "  File \"C:\\python\\envs\\py27\\lib\\shutil.py\", line 261, in rmtree\n",
      "    rmtree(fullname, ignore_errors, onerror)\n",
      "  File \"C:\\python\\envs\\py27\\lib\\shutil.py\", line 266, in rmtree\n",
      "    onerror(os.remove, fullname, sys.exc_info())\n",
      "  File \"C:\\python\\envs\\py27\\lib\\shutil.py\", line 264, in rmtree\n",
      "    os.remove(fullname)\n",
      "WindowsError: [Error 5] Access is denied: u'c:\\\\users\\\\akhila~1\\\\appdata\\\\local\\\\temp\\\\unorderedbigram.Akhila Sharon.20181005.171429.603000\\\\step\\\\000\\\\cache\\\\unorderedbigram.py'\n",
      "[Error 5] Access is denied: u'c:\\\\users\\\\akhila~1\\\\appdata\\\\local\\\\temp\\\\unorderedbigram.Akhila Sharon.20181005.171429.603000\\\\step\\\\000\\\\cache\\\\unorderedbigram.py'\n",
      "Traceback (most recent call last):\n",
      "  File \"C:\\python\\envs\\py27\\lib\\site-packages\\mrjob\\runner.py\", line 615, in _cleanup_local_tmp\n",
      "    shutil.rmtree(self._local_tmp_dir)\n",
      "  File \"C:\\python\\envs\\py27\\lib\\shutil.py\", line 261, in rmtree\n",
      "    rmtree(fullname, ignore_errors, onerror)\n",
      "  File \"C:\\python\\envs\\py27\\lib\\shutil.py\", line 261, in rmtree\n",
      "    rmtree(fullname, ignore_errors, onerror)\n",
      "  File \"C:\\python\\envs\\py27\\lib\\shutil.py\", line 261, in rmtree\n",
      "    rmtree(fullname, ignore_errors, onerror)\n",
      "  File \"C:\\python\\envs\\py27\\lib\\shutil.py\", line 266, in rmtree\n",
      "    onerror(os.remove, fullname, sys.exc_info())\n",
      "  File \"C:\\python\\envs\\py27\\lib\\shutil.py\", line 264, in rmtree\n",
      "    os.remove(fullname)\n",
      "WindowsError: [Error 5] Access is denied: u'c:\\\\users\\\\akhila~1\\\\appdata\\\\local\\\\temp\\\\unorderedbigram.Akhila Sharon.20181005.171429.603000\\\\step\\\\000\\\\cache\\\\unorderedbigram.py'\n"
     ]
    }
   ],
   "source": [
    "%run code/unorderedbigram.py data/bible+shakes.nopunc.txt"
   ]
  },
  {
   "cell_type": "markdown",
   "metadata": {},
   "source": [
    "## Homework 5.3\n",
    "A trigram are three word combintation.  Find the 10 most common ordered trigrams from the alice text.  Make it so that the order of the words do not count in the trigram combination for example \"in the air\" is the same trigram as \"the air in\" or \"air in the\"...\n"
   ]
  },
  {
   "cell_type": "code",
   "execution_count": 13,
   "metadata": {},
   "outputs": [
    {
     "name": "stdout",
     "output_type": "stream",
     "text": [
      "Overwriting code\\unorderedtrigram.py\n"
     ]
    }
   ],
   "source": [
    "%%writefile code\\unorderedtrigram.py\n",
    "import mrjob\n",
    "from mrjob.job import MRJob\n",
    "from mrjob.step import MRStep\n",
    "import re\n",
    "from itertools import islice, izip\n",
    "import itertools\n",
    "import heapq\n",
    "\n",
    "WORD_RE = re.compile(r'[a-zA-Z]+')\n",
    "TOPN = 10\n",
    "class BigramCount(MRJob):\n",
    "    def steps(self):\n",
    "        return [\n",
    "            MRStep(mapper=self.mapper_get_words,\n",
    "                   combiner=self.combiner_count_words,\n",
    "                   reducer=self.reducer_count_words),\n",
    "            MRStep(mapper=self.topN_mapper,\n",
    "                   reducer=self.topN_reducer)\n",
    "        ]\n",
    "    \n",
    "    def mapper_get_words(self, _, line):\n",
    "        words = WORD_RE.findall(line)\n",
    "        for i in izip(words, islice(words, 1, None),islice(words,2,None)):\n",
    "            bigram=(i[0],i[1],i[2])\n",
    "            s_bigram=sorted(bigram)\n",
    "            yield s_bigram,1\n",
    "    def combiner_count_words(self, bigram, counts):\n",
    "        yield bigram, sum(counts)\n",
    "    def reducer_count_words(self, bigram, counts):\n",
    "        yield bigram,sum(counts)\n",
    "    def topN_mapper(self, bigram, counts):\n",
    "        yield \"Top \" + str(TOPN), (counts, bigram)\n",
    "    def topN_reducer(self, _, countsAndBigrams):\n",
    "        for countAndbigram in heapq.nlargest(TOPN, countsAndBigrams):\n",
    "            yield _, countAndbigram\n",
    "        \n",
    "\n",
    "\n",
    "\n",
    "if __name__ == '__main__':\n",
    "    BigramCount.run()\n",
    "    \n",
    "    "
   ]
  },
  {
   "cell_type": "code",
   "execution_count": 14,
   "metadata": {},
   "outputs": [
    {
     "name": "stderr",
     "output_type": "stream",
     "text": [
      "No configs found; falling back on auto-configuration\n",
      "No configs found; falling back on auto-configuration\n",
      "No configs found; falling back on auto-configuration\n",
      "No configs found; falling back on auto-configuration\n",
      "No configs found; falling back on auto-configuration\n",
      "No configs found; falling back on auto-configuration\n",
      "No configs specified for inline runner\n",
      "No configs specified for inline runner\n",
      "No configs specified for inline runner\n",
      "No configs specified for inline runner\n",
      "No configs specified for inline runner\n",
      "No configs specified for inline runner\n",
      "Running step 1 of 2...\n",
      "Running step 1 of 2...\n",
      "Running step 1 of 2...\n",
      "Running step 1 of 2...\n",
      "Running step 1 of 2...\n",
      "Running step 1 of 2...\n",
      "Creating temp directory c:\\users\\akhila~1\\appdata\\local\\temp\\unorderedtrigram.Akhila Sharon.20181005.171710.912000\n",
      "Creating temp directory c:\\users\\akhila~1\\appdata\\local\\temp\\unorderedtrigram.Akhila Sharon.20181005.171710.912000\n",
      "Creating temp directory c:\\users\\akhila~1\\appdata\\local\\temp\\unorderedtrigram.Akhila Sharon.20181005.171710.912000\n",
      "Creating temp directory c:\\users\\akhila~1\\appdata\\local\\temp\\unorderedtrigram.Akhila Sharon.20181005.171710.912000\n",
      "Creating temp directory c:\\users\\akhila~1\\appdata\\local\\temp\\unorderedtrigram.Akhila Sharon.20181005.171710.912000\n",
      "Creating temp directory c:\\users\\akhila~1\\appdata\\local\\temp\\unorderedtrigram.Akhila Sharon.20181005.171710.912000\n",
      "Running step 2 of 2...\n",
      "Running step 2 of 2...\n",
      "Running step 2 of 2...\n",
      "Running step 2 of 2...\n",
      "Running step 2 of 2...\n",
      "Running step 2 of 2...\n",
      "job output is in c:\\users\\akhila~1\\appdata\\local\\temp\\unorderedtrigram.Akhila Sharon.20181005.171710.912000\\output\n",
      "job output is in c:\\users\\akhila~1\\appdata\\local\\temp\\unorderedtrigram.Akhila Sharon.20181005.171710.912000\\output\n",
      "job output is in c:\\users\\akhila~1\\appdata\\local\\temp\\unorderedtrigram.Akhila Sharon.20181005.171710.912000\\output\n",
      "job output is in c:\\users\\akhila~1\\appdata\\local\\temp\\unorderedtrigram.Akhila Sharon.20181005.171710.912000\\output\n",
      "job output is in c:\\users\\akhila~1\\appdata\\local\\temp\\unorderedtrigram.Akhila Sharon.20181005.171710.912000\\output\n",
      "job output is in c:\\users\\akhila~1\\appdata\\local\\temp\\unorderedtrigram.Akhila Sharon.20181005.171710.912000\\output\n",
      "Streaming final output from c:\\users\\akhila~1\\appdata\\local\\temp\\unorderedtrigram.Akhila Sharon.20181005.171710.912000\\output...\n",
      "Streaming final output from c:\\users\\akhila~1\\appdata\\local\\temp\\unorderedtrigram.Akhila Sharon.20181005.171710.912000\\output...\n",
      "Streaming final output from c:\\users\\akhila~1\\appdata\\local\\temp\\unorderedtrigram.Akhila Sharon.20181005.171710.912000\\output...\n",
      "Streaming final output from c:\\users\\akhila~1\\appdata\\local\\temp\\unorderedtrigram.Akhila Sharon.20181005.171710.912000\\output...\n",
      "Streaming final output from c:\\users\\akhila~1\\appdata\\local\\temp\\unorderedtrigram.Akhila Sharon.20181005.171710.912000\\output...\n",
      "Streaming final output from c:\\users\\akhila~1\\appdata\\local\\temp\\unorderedtrigram.Akhila Sharon.20181005.171710.912000\\output...\n"
     ]
    },
    {
     "name": "stdout",
     "output_type": "stream",
     "text": [
      "\"Top 10\"\t[2086, [\"lord\", \"of\", \"the\"]]\n",
      "\"Top 10\"\t[1795, [\"children\", \"of\", \"the\"]]\n",
      "\"Top 10\"\t[1581, [\"house\", \"of\", \"the\"]]\n",
      "\"Top 10\"\t[1523, [\"of\", \"son\", \"the\"]]\n",
      "\"Top 10\"\t[1190, [\"and\", \"lord\", \"the\"]]\n",
      "\"Top 10\"\t[1025, [\"land\", \"of\", \"the\"]]\n",
      "\"Top 10\"\t[866, [\"lord\", \"saith\", \"the\"]]\n",
      "\"Top 10\"\t[855, [\"of\", \"out\", \"the\"]]\n",
      "\"Top 10\"\t[817, [\"king\", \"of\", \"the\"]]\n",
      "\"Top 10\"\t[814, [\"and\", \"i\", \"will\"]]\n"
     ]
    },
    {
     "name": "stderr",
     "output_type": "stream",
     "text": [
      "Removing temp directory c:\\users\\akhila~1\\appdata\\local\\temp\\unorderedtrigram.Akhila Sharon.20181005.171710.912000...\n",
      "Removing temp directory c:\\users\\akhila~1\\appdata\\local\\temp\\unorderedtrigram.Akhila Sharon.20181005.171710.912000...\n",
      "Removing temp directory c:\\users\\akhila~1\\appdata\\local\\temp\\unorderedtrigram.Akhila Sharon.20181005.171710.912000...\n",
      "Removing temp directory c:\\users\\akhila~1\\appdata\\local\\temp\\unorderedtrigram.Akhila Sharon.20181005.171710.912000...\n",
      "Removing temp directory c:\\users\\akhila~1\\appdata\\local\\temp\\unorderedtrigram.Akhila Sharon.20181005.171710.912000...\n",
      "Removing temp directory c:\\users\\akhila~1\\appdata\\local\\temp\\unorderedtrigram.Akhila Sharon.20181005.171710.912000...\n",
      "[Error 5] Access is denied: u'c:\\\\users\\\\akhila~1\\\\appdata\\\\local\\\\temp\\\\unorderedtrigram.Akhila Sharon.20181005.171710.912000\\\\step\\\\000\\\\cache\\\\unorderedtrigram.py'\n",
      "Traceback (most recent call last):\n",
      "  File \"C:\\python\\envs\\py27\\lib\\site-packages\\mrjob\\runner.py\", line 615, in _cleanup_local_tmp\n",
      "    shutil.rmtree(self._local_tmp_dir)\n",
      "  File \"C:\\python\\envs\\py27\\lib\\shutil.py\", line 261, in rmtree\n",
      "    rmtree(fullname, ignore_errors, onerror)\n",
      "  File \"C:\\python\\envs\\py27\\lib\\shutil.py\", line 261, in rmtree\n",
      "    rmtree(fullname, ignore_errors, onerror)\n",
      "  File \"C:\\python\\envs\\py27\\lib\\shutil.py\", line 261, in rmtree\n",
      "    rmtree(fullname, ignore_errors, onerror)\n",
      "  File \"C:\\python\\envs\\py27\\lib\\shutil.py\", line 266, in rmtree\n",
      "    onerror(os.remove, fullname, sys.exc_info())\n",
      "  File \"C:\\python\\envs\\py27\\lib\\shutil.py\", line 264, in rmtree\n",
      "    os.remove(fullname)\n",
      "WindowsError: [Error 5] Access is denied: u'c:\\\\users\\\\akhila~1\\\\appdata\\\\local\\\\temp\\\\unorderedtrigram.Akhila Sharon.20181005.171710.912000\\\\step\\\\000\\\\cache\\\\unorderedtrigram.py'\n",
      "[Error 5] Access is denied: u'c:\\\\users\\\\akhila~1\\\\appdata\\\\local\\\\temp\\\\unorderedtrigram.Akhila Sharon.20181005.171710.912000\\\\step\\\\000\\\\cache\\\\unorderedtrigram.py'\n",
      "Traceback (most recent call last):\n",
      "  File \"C:\\python\\envs\\py27\\lib\\site-packages\\mrjob\\runner.py\", line 615, in _cleanup_local_tmp\n",
      "    shutil.rmtree(self._local_tmp_dir)\n",
      "  File \"C:\\python\\envs\\py27\\lib\\shutil.py\", line 261, in rmtree\n",
      "    rmtree(fullname, ignore_errors, onerror)\n",
      "  File \"C:\\python\\envs\\py27\\lib\\shutil.py\", line 261, in rmtree\n",
      "    rmtree(fullname, ignore_errors, onerror)\n",
      "  File \"C:\\python\\envs\\py27\\lib\\shutil.py\", line 261, in rmtree\n",
      "    rmtree(fullname, ignore_errors, onerror)\n",
      "  File \"C:\\python\\envs\\py27\\lib\\shutil.py\", line 266, in rmtree\n",
      "    onerror(os.remove, fullname, sys.exc_info())\n",
      "  File \"C:\\python\\envs\\py27\\lib\\shutil.py\", line 264, in rmtree\n",
      "    os.remove(fullname)\n",
      "WindowsError: [Error 5] Access is denied: u'c:\\\\users\\\\akhila~1\\\\appdata\\\\local\\\\temp\\\\unorderedtrigram.Akhila Sharon.20181005.171710.912000\\\\step\\\\000\\\\cache\\\\unorderedtrigram.py'\n",
      "[Error 5] Access is denied: u'c:\\\\users\\\\akhila~1\\\\appdata\\\\local\\\\temp\\\\unorderedtrigram.Akhila Sharon.20181005.171710.912000\\\\step\\\\000\\\\cache\\\\unorderedtrigram.py'\n",
      "Traceback (most recent call last):\n",
      "  File \"C:\\python\\envs\\py27\\lib\\site-packages\\mrjob\\runner.py\", line 615, in _cleanup_local_tmp\n",
      "    shutil.rmtree(self._local_tmp_dir)\n",
      "  File \"C:\\python\\envs\\py27\\lib\\shutil.py\", line 261, in rmtree\n",
      "    rmtree(fullname, ignore_errors, onerror)\n",
      "  File \"C:\\python\\envs\\py27\\lib\\shutil.py\", line 261, in rmtree\n",
      "    rmtree(fullname, ignore_errors, onerror)\n",
      "  File \"C:\\python\\envs\\py27\\lib\\shutil.py\", line 261, in rmtree\n",
      "    rmtree(fullname, ignore_errors, onerror)\n",
      "  File \"C:\\python\\envs\\py27\\lib\\shutil.py\", line 266, in rmtree\n",
      "    onerror(os.remove, fullname, sys.exc_info())\n",
      "  File \"C:\\python\\envs\\py27\\lib\\shutil.py\", line 264, in rmtree\n",
      "    os.remove(fullname)\n",
      "WindowsError: [Error 5] Access is denied: u'c:\\\\users\\\\akhila~1\\\\appdata\\\\local\\\\temp\\\\unorderedtrigram.Akhila Sharon.20181005.171710.912000\\\\step\\\\000\\\\cache\\\\unorderedtrigram.py'\n",
      "[Error 5] Access is denied: u'c:\\\\users\\\\akhila~1\\\\appdata\\\\local\\\\temp\\\\unorderedtrigram.Akhila Sharon.20181005.171710.912000\\\\step\\\\000\\\\cache\\\\unorderedtrigram.py'\n",
      "Traceback (most recent call last):\n",
      "  File \"C:\\python\\envs\\py27\\lib\\site-packages\\mrjob\\runner.py\", line 615, in _cleanup_local_tmp\n",
      "    shutil.rmtree(self._local_tmp_dir)\n",
      "  File \"C:\\python\\envs\\py27\\lib\\shutil.py\", line 261, in rmtree\n",
      "    rmtree(fullname, ignore_errors, onerror)\n",
      "  File \"C:\\python\\envs\\py27\\lib\\shutil.py\", line 261, in rmtree\n",
      "    rmtree(fullname, ignore_errors, onerror)\n",
      "  File \"C:\\python\\envs\\py27\\lib\\shutil.py\", line 261, in rmtree\n",
      "    rmtree(fullname, ignore_errors, onerror)\n",
      "  File \"C:\\python\\envs\\py27\\lib\\shutil.py\", line 266, in rmtree\n",
      "    onerror(os.remove, fullname, sys.exc_info())\n",
      "  File \"C:\\python\\envs\\py27\\lib\\shutil.py\", line 264, in rmtree\n",
      "    os.remove(fullname)\n",
      "WindowsError: [Error 5] Access is denied: u'c:\\\\users\\\\akhila~1\\\\appdata\\\\local\\\\temp\\\\unorderedtrigram.Akhila Sharon.20181005.171710.912000\\\\step\\\\000\\\\cache\\\\unorderedtrigram.py'\n",
      "[Error 5] Access is denied: u'c:\\\\users\\\\akhila~1\\\\appdata\\\\local\\\\temp\\\\unorderedtrigram.Akhila Sharon.20181005.171710.912000\\\\step\\\\000\\\\cache\\\\unorderedtrigram.py'\n",
      "Traceback (most recent call last):\n",
      "  File \"C:\\python\\envs\\py27\\lib\\site-packages\\mrjob\\runner.py\", line 615, in _cleanup_local_tmp\n",
      "    shutil.rmtree(self._local_tmp_dir)\n",
      "  File \"C:\\python\\envs\\py27\\lib\\shutil.py\", line 261, in rmtree\n",
      "    rmtree(fullname, ignore_errors, onerror)\n",
      "  File \"C:\\python\\envs\\py27\\lib\\shutil.py\", line 261, in rmtree\n",
      "    rmtree(fullname, ignore_errors, onerror)\n",
      "  File \"C:\\python\\envs\\py27\\lib\\shutil.py\", line 261, in rmtree\n",
      "    rmtree(fullname, ignore_errors, onerror)\n",
      "  File \"C:\\python\\envs\\py27\\lib\\shutil.py\", line 266, in rmtree\n",
      "    onerror(os.remove, fullname, sys.exc_info())\n",
      "  File \"C:\\python\\envs\\py27\\lib\\shutil.py\", line 264, in rmtree\n",
      "    os.remove(fullname)\n",
      "WindowsError: [Error 5] Access is denied: u'c:\\\\users\\\\akhila~1\\\\appdata\\\\local\\\\temp\\\\unorderedtrigram.Akhila Sharon.20181005.171710.912000\\\\step\\\\000\\\\cache\\\\unorderedtrigram.py'\n",
      "[Error 5] Access is denied: u'c:\\\\users\\\\akhila~1\\\\appdata\\\\local\\\\temp\\\\unorderedtrigram.Akhila Sharon.20181005.171710.912000\\\\step\\\\000\\\\cache\\\\unorderedtrigram.py'\n",
      "Traceback (most recent call last):\n",
      "  File \"C:\\python\\envs\\py27\\lib\\site-packages\\mrjob\\runner.py\", line 615, in _cleanup_local_tmp\n",
      "    shutil.rmtree(self._local_tmp_dir)\n",
      "  File \"C:\\python\\envs\\py27\\lib\\shutil.py\", line 261, in rmtree\n",
      "    rmtree(fullname, ignore_errors, onerror)\n",
      "  File \"C:\\python\\envs\\py27\\lib\\shutil.py\", line 261, in rmtree\n",
      "    rmtree(fullname, ignore_errors, onerror)\n",
      "  File \"C:\\python\\envs\\py27\\lib\\shutil.py\", line 261, in rmtree\n",
      "    rmtree(fullname, ignore_errors, onerror)\n",
      "  File \"C:\\python\\envs\\py27\\lib\\shutil.py\", line 266, in rmtree\n",
      "    onerror(os.remove, fullname, sys.exc_info())\n",
      "  File \"C:\\python\\envs\\py27\\lib\\shutil.py\", line 264, in rmtree\n",
      "    os.remove(fullname)\n",
      "WindowsError: [Error 5] Access is denied: u'c:\\\\users\\\\akhila~1\\\\appdata\\\\local\\\\temp\\\\unorderedtrigram.Akhila Sharon.20181005.171710.912000\\\\step\\\\000\\\\cache\\\\unorderedtrigram.py'\n"
     ]
    }
   ],
   "source": [
    "%run code/unorderedtrigram.py data/bible+shakes.nopunc.txt"
   ]
  },
  {
   "cell_type": "markdown",
   "metadata": {},
   "source": [
    "## Homework 5.4\n",
    "Create graphs to explain the relationship of the frequency of monograms ( words ) to bigrams and trigam frequencies"
   ]
  },
  {
   "cell_type": "code",
   "execution_count": 4,
   "metadata": {},
   "outputs": [],
   "source": [
    "wordfile=pd.read_csv(\"./data/wordcountfreq.csv\")\n",
    "bigramfiletwo=pd.read_csv(\"./data/bigramcounttwo.csv\")\n",
    "trigramfile=pd.read_csv(\"./data/trigramcount.csv\")"
   ]
  },
  {
   "cell_type": "markdown",
   "metadata": {},
   "source": [
    "Show the relationship between frequency of monogram to frequency of each word in a bigram"
   ]
  },
  {
   "cell_type": "code",
   "execution_count": 8,
   "metadata": {},
   "outputs": [
    {
     "data": {
      "text/plain": [
       "<BarContainer object of 10 artists>"
      ]
     },
     "execution_count": 8,
     "metadata": {},
     "output_type": "execute_result"
    },
    {
     "data": {
      "image/png": "[encoded data removed]",
      "text/plain": [
       "<Figure size 936x288 with 1 Axes>"
      ]
     },
     "metadata": {},
     "output_type": "display_data"
    }
   ],
   "source": [
    "fig_size = plt.rcParams[\"figure.figsize\"]\n",
    "fig_size[0] = 13\n",
    "fig_size[1] = 4\n",
    "plt.rcParams[\"figure.figsize\"] = fig_size\n",
    "\n",
    "plt.bar(bigramfiletwo.bigramone,bigramfiletwo.frequency,label=\"bigramone\",color=\"orange\")\n",
    "plt.bar(wordfile.word,wordfile.frequency,label=\"word\",color=\"green\")\n",
    "plt.bar(bigramfiletwo.bigramtwo,bigramfiletwo.frequency,label=\"bigramtwo\",color=\"orange\")\n",
    "#green represents monogram\n",
    "#orange represnts words in bigram\n"
   ]
  },
  {
   "cell_type": "markdown",
   "metadata": {},
   "source": [
    "Show the relationship between frequency of monogram to frequency of each word in a trigram"
   ]
  },
  {
   "cell_type": "code",
   "execution_count": 11,
   "metadata": {},
   "outputs": [
    {
     "data": {
      "text/plain": [
       "<BarContainer object of 10 artists>"
      ]
     },
     "execution_count": 11,
     "metadata": {},
     "output_type": "execute_result"
    },
    {
     "data": {
      "image/png": "[encoded data removed]",
      "text/plain": [
       "<Figure size 936x288 with 1 Axes>"
      ]
     },
     "metadata": {},
     "output_type": "display_data"
    }
   ],
   "source": [
    "plt.bar(trigramfile.trigramone,trigramfile.frequency,label=\"trigramone\",color=\"blue\")\n",
    "plt.bar(trigramfile.trigramtwo,trigramfile.frequency,label=\"trigramtwo\",color=\"blue\")\n",
    "plt.bar(trigramfile.trigramthree,trigramfile.frequency,label=\"trigramthree\",color=\"blue\")\n",
    "plt.bar(wordfile.word,wordfile.frequency,label=\"word\",color=\"green\")\n",
    "#green represents monogram\n",
    "#blue represnts words in bigram\n",
    "#it is observed that as the number of n increases in the n-gram,\n",
    "#m its frequency relative to the monogram is very less."
   ]
  },
  {
   "cell_type": "markdown",
   "metadata": {},
   "source": [
    "## For greater than a score of 3 \n",
    "###  Create a TD - IDF implementation and \n",
    "### Analyze the following Sherlock Holmes book from Project Gutenberg text versions of :\n",
    "The Adventures of Sherlock Holmes-  http://www.gutenberg.org/ebooks/1661.txt.utf-8\n",
    "\n",
    "A Study in Scarlet - http://www.gutenberg.org/files/244/244-0.txt\n",
    "\n",
    "The Hound of the Baskervilles - http://www.gutenberg.org/files/2852/2852-0.txt\n",
    "\n",
    "The Return of Sherlock Holmes - http://www.gutenberg.org/files/108/108-0.txt\n",
    "\n",
    "The Sign of the Four - http://www.gutenberg.org/ebooks/2097.txt.utf-8\n",
    "\n",
    "### Display the scores for the top 20 highest frequencty terms and the relationship to the books\n",
    "\n"
   ]
  },
  {
   "cell_type": "code",
   "execution_count": null,
   "metadata": {
    "collapsed": true
   },
   "outputs": [],
   "source": [
    "#named books as 01.txt,02.txt.. so on\n",
    "#was'nt able to get the exact result , but got the top 20 highest frequency in each book.\n",
    "# used https://github.com/Jasonnor/tf-idf-python/blob/master/src/tf_idf.py as reference code"
   ]
  },
  {
   "cell_type": "code",
   "execution_count": 2,
   "metadata": {},
   "outputs": [
    {
     "name": "stdout",
     "output_type": "stream",
     "text": [
      "Top 20 of tf-idf in Books/01.txt : \n",
      "[('simon', 0.00027027233243064595), ('rucastle', 0.0002567587158091136), ('mccarthy', 0.0002500019074983475), ('coronet', 0.00018919063270145215), ('goose', 0.000182433824390686), ('clair', 0.000182433824390686), ('hosmer', 0.0001554065911476214), ('turner', 0.00014864978283685526), ('stepfather', 0.0001418929745260891), ('roylott', 0.0001418929745260891), ('windibank', 0.00013513616621532297), ('neville', 0.0001283793579045568), ('stoner', 0.0001283793579045568), ('hatherley', 0.00012162254959379067), ('geese', 0.00011486574128302451), ('irene', 0.00011486574128302451), ('boscombe', 0.00010810893297225837), ('openshaw', 0.00010810893297225837), ('adler', 0.00010810893297225837), ('toller', 0.00010135212466149222)]\n",
      "\n",
      "\n",
      "Top 20 of tf-idf in Books/02.txt : \n",
      "[('drebber', 0.0009515771045285108), ('ferrier', 0.0009362290867135349), ('stangerson', 0.0007213568373038711), ('gregson', 0.0006906608016739191), ('jefferson', 0.0005678766591541113), ('footnote', 0.0003837004453743996), ('mormon', 0.00019952423159468779), ('lucy', 0.00018473008505162845), ('charpentier', 0.0001688281959647358), ('pills', 0.0001534801781497598), ('utah', 0.00013813216033478385), ('cleveland', 0.00013813216033478385), ('enoch', 0.00013813216033478385), ('rance', 0.00013813216033478385), ('mormons', 0.00013813216033478385), ('ain', 0.00012278414251980785), ('prophet', 0.00012278414251980785), ('nevada', 0.00010743612470483186), ('elders', 9.20881068898559e-05), ('sergeant', 9.20881068898559e-05)]\n",
      "\n",
      "\n",
      "Top 20 of tf-idf in Books/03.txt : \n",
      "[('baskerville', 0.0013246182751170711), ('stapleton', 0.0010806096454902424), ('barrymore', 0.0008482204744170718), ('moor', 0.0007860692964367902), ('grimpen', 0.00027886700528780445), ('lyons', 0.0002556280881804874), ('baronet', 0.00023148052901206088), ('frankland', 0.00020915025396585333), ('tracey', 0.00020915025396585333), ('baskervilles', 0.00020915025396585333), ('coombe', 0.00020915025396585333), ('hugo', 0.00018591133685853632), ('tonight', 0.00017429187830487778), ('merripit', 0.00017429187830487778), ('stapletons', 0.00016267241975121926), ('selden', 0.00015105296119756074), ('tor', 0.00015105296119756074), ('legend', 0.00013943350264390223), ('laura', 0.0001278140440902437), ('mire', 0.00012056277552711505)]\n",
      "\n",
      "\n",
      "Top 20 of tf-idf in Books/04.txt : \n",
      "[('milverton', 0.0002635850822884977), ('bicycle', 0.00024475757641074787), ('bust', 0.0002008267293626649), ('hopkins', 0.00019535302392897555), ('staunton', 0.00019455089407008163), ('carruthers', 0.00019455089407008163), ('soames', 0.00018827505877749834), ('stanley', 0.0001757233881923318), ('woodley', 0.00016317171760716522), ('oldacre', 0.00015689588231458196), ('hilton', 0.00015689588231458196), ('carey', 0.00015062004702199867), ('cubitt', 0.00015062004702199867), ('bannister', 0.00014434421172941538), ('busts', 0.00014434421172941538), ('lucas', 0.00012551670585166555), ('huxtable', 0.00012551670585166555), ('holdernesse', 0.00011924087055908228), ('norwood', 0.00011924087055908228), ('armstrong', 0.00011296503526649899)]\n",
      "\n",
      "\n"
     ]
    }
   ],
   "source": [
    "import re\n",
    "\n",
    "import os\n",
    "from math import log\n",
    "from operator import itemgetter\n",
    "\n",
    "\n",
    "class tf_idf:\n",
    "   \n",
    "    global list_words\n",
    "    list_words=[]\n",
    " \n",
    "    def __init__(self):\n",
    "        self.files = {}\n",
    "        self.corpus = {}\n",
    "        self.stop_words = set(())\n",
    "        content = open('stopwords.txt', 'rb').read().decode('utf-8')\n",
    "        for line in content.splitlines():\n",
    "            self.stop_words.add(line)\n",
    "            \n",
    "    def add_file(self, file_name):\n",
    "        # Load data and cut\n",
    "        content = open(file_name, 'rb').read() if file_name[0] == '/' or file_name[0] == 'C' else open('./data/' + file_name, 'rb').read()\n",
    "        words = re.findall('[a-z]+', content.lower())\n",
    "         # Build dictionary\n",
    "        dictionary = {}\n",
    "        for w in words:\n",
    "            if len(w.strip()) < 2 or w.lower() in self.stop_words:\n",
    "                continue\n",
    "            dictionary[w] = dictionary.get(w, 0.0) + 1.0\n",
    "            self.corpus[w] = self.corpus.get(w, 0.0) + 1.0\n",
    "\n",
    "        # Get term frequency\n",
    "        total = sum(dictionary.values())\n",
    "        for k in dictionary:\n",
    "            dictionary[k] /= total\n",
    "\n",
    "        # Add tf to the corpus\n",
    "        self.files[file_name] = dictionary\n",
    "        \n",
    "    def get_tf_idf(self, file_name, top_k):\n",
    "        # Get inverse document frequency\n",
    "        tf_idf_of_file = {}\n",
    "        for w in self.corpus.keys():\n",
    "            w_in_f = 1.0\n",
    "            for f in self.files:\n",
    "                if w in self.files[f]:\n",
    "                    w_in_f += 1.0\n",
    "            # Get tf-idf\n",
    "            if w in self.files[file_name]:\n",
    "                tf_idf_of_file[w] = log(len(self.files) / w_in_f) * self.files[file_name][w]\n",
    "               \n",
    "                \n",
    "        # Top-K result of tf-idf\n",
    "        tags = sorted(tf_idf_of_file.items(), key=itemgetter(1), reverse=True)\n",
    "       \n",
    "        return tags[:top_k]\n",
    "\n",
    "       \n",
    "if __name__ == \"__main__\":\n",
    "    table = tf_idf()\n",
    "    folder_name = 'Books'\n",
    "    folder = os.path.join('./data/' ,folder_name)\n",
    "    path, dirs, files = next(os.walk(\"./data/Books\"))\n",
    "    num_of_files = len(files)\n",
    "    \n",
    "    for x in range(1, num_of_files):\n",
    "        file_name = folder_name + '/' + str(x).zfill(2) + '.txt'\n",
    "        table.add_file(file_name)\n",
    "\n",
    "    top_k = 20\n",
    "    for x in range(1, num_of_files):\n",
    "        target_file = folder_name + '/' + str(x).zfill(2) + '.txt'\n",
    "        my_data=[]\n",
    "        \n",
    "        print('Top ' + str(top_k) + ' of tf-idf in ' + target_file + ' : ')\n",
    "        print(table.get_tf_idf(target_file, top_k))\n",
    "        print(\"\\n\")\n"
   ]
  },
  {
   "cell_type": "markdown",
   "metadata": {},
   "source": [
    "#### Reference:\n",
    "[1] https://github.com/Jasonnor/tf-idf-python/blob/master/src/tf_idf.py"
   ]
  },
  {
   "cell_type": "code",
   "execution_count": null,
   "metadata": {},
   "outputs": [],
   "source": []
  }
 ],
 "metadata": {
  "kernelspec": {
   "display_name": "Python 2",
   "language": "python",
   "name": "python2"
  },
  "language_info": {
   "codemirror_mode": {
    "name": "ipython",
    "version": 2
   },
   "file_extension": ".py",
   "mimetype": "text/x-python",
   "name": "python",
   "nbconvert_exporter": "python",
   "pygments_lexer": "ipython2",
   "version": "2.7.15"
  }
 },
 "nbformat": 4,
 "nbformat_minor": 1
}
